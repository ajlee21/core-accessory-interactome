{
 "cells": [
  {
   "cell_type": "markdown",
   "metadata": {},
   "source": [
    "# Explore highly co-expressed genes\n",
    "In the previous [notebook](2_explore_data.ipynb) we observed that using 39 samples with 201 PAO1-specific genes, that the correlation of accessory-accessory genes is higher compared to the correlation of core-core and core-accessory genes.\n",
    "\n",
    "Based on this finding, we want to know: *What can explain this difference in correlation distribution?*\n",
    "\n",
    "This notebook performs a follow-up analysis. In particular this notebook performs a deeper examination of the correlation structure per group (core-core, core-accessory, accessory-accessory) by looking at the trends of the nearest neighbors (i.e. highly correlated genes) of each gene."
   ]
  },
  {
   "cell_type": "code",
   "execution_count": 1,
   "metadata": {},
   "outputs": [
    {
     "name": "stderr",
     "output_type": "stream",
     "text": [
      "/home/alexandra/anaconda3/envs/core-acc/lib/python3.7/site-packages/matplotlib/__init__.py:886: MatplotlibDeprecationWarning: \n",
      "examples.directory is deprecated; in the future, examples will be found relative to the 'datapath' directory.\n",
      "  \"found relative to the 'datapath' directory.\".format(key))\n"
     ]
    }
   ],
   "source": [
    "import pandas as pd\n",
    "import os\n",
    "import pickle\n",
    "import numpy as np\n",
    "import seaborn as sns\n",
    "import matplotlib.pyplot as plt\n",
    "\n",
    "from functions import calculations\n",
    "\n",
    "np.random.seed(123)"
   ]
  },
  {
   "cell_type": "code",
   "execution_count": 2,
   "metadata": {},
   "outputs": [],
   "source": [
    "# Input\n",
    "base_dir = os.path.abspath(os.path.join(os.getcwd(),\"../\"))\n",
    "\n",
    "base_intermediate_dir = os.path.join(\n",
    "    base_dir,\n",
    "    \"pilot_experiment\",\n",
    "    \"data\",\n",
    "    \"tmp\")\n",
    "\n",
    "core_gene_ids_file = os.path.join(\n",
    "    base_intermediate_dir,\n",
    "    \"core_gene_ids.pickle\")\n",
    "\n",
    "acc_gene_ids_file = os.path.join(\n",
    "    base_intermediate_dir,\n",
    "    \"acc_gene_ids.pickle\")\n",
    "\n",
    "real_all_corr_file = os.path.join(\n",
    "    base_intermediate_dir,\n",
    "    \"real_all_corr.pickle\")\n",
    "\n",
    "shuffled_all_corr_file = os.path.join(\n",
    "    base_intermediate_dir,\n",
    "    \"shuffled_all_corr.pickle\")\n",
    "\n",
    "# Import Pseudomonas operon annotations from ADAGE repo\n",
    "# Original source of data is from DOOR\n",
    "# https://github.com/greenelab/adage/blob/master/Genome_organization/operon_3.txt\n",
    "# Operons containing at least 3 genes\n",
    "operon_file = os.path.join(\n",
    "    base_dir,\n",
    "    \"pilot_experiment\",\n",
    "    \"data\",\n",
    "    \"annotations\",\n",
    "    \"DOOR_operon_3.txt\")"
   ]
  },
  {
   "cell_type": "markdown",
   "metadata": {},
   "source": [
    "# Examine highly co-expressed gene clusters\n",
    "For each core gene we will:\n",
    "1. Extract the number of genes that are highly co-expressed with it\n",
    "2. Determine the ratio of co-expressed genes that are core vs accessory\n",
    "\n",
    "Repeat this for each accessory gene"
   ]
  },
  {
   "cell_type": "code",
   "execution_count": 3,
   "metadata": {},
   "outputs": [],
   "source": [
    "# Define threshold for highly co-expressed genes\n",
    "coexpression_threshold = 0.9"
   ]
  },
  {
   "cell_type": "markdown",
   "metadata": {},
   "source": [
    "### Co-expression patterns in real data"
   ]
  },
  {
   "cell_type": "code",
   "execution_count": 4,
   "metadata": {},
   "outputs": [],
   "source": [
    "# Get co-expression patterns using real expression data\n",
    "real_core_df, real_acc_df = calculations.get_coexpression_stats(real_all_corr_file,\n",
    "                                                                operon_file,\n",
    "                                                                core_gene_ids_file,\n",
    "                                                                acc_gene_ids_file,\n",
    "                                                                coexpression_threshold)"
   ]
  },
  {
   "cell_type": "code",
   "execution_count": 5,
   "metadata": {},
   "outputs": [
    {
     "data": {
      "text/html": [
       "<div>\n",
       "<style scoped>\n",
       "    .dataframe tbody tr th:only-of-type {\n",
       "        vertical-align: middle;\n",
       "    }\n",
       "\n",
       "    .dataframe tbody tr th {\n",
       "        vertical-align: top;\n",
       "    }\n",
       "\n",
       "    .dataframe thead th {\n",
       "        text-align: right;\n",
       "    }\n",
       "</style>\n",
       "<table border=\"1\" class=\"dataframe\">\n",
       "  <thead>\n",
       "    <tr style=\"text-align: right;\">\n",
       "      <th></th>\n",
       "      <th>ref_gene</th>\n",
       "      <th>num_coexpressed_genes</th>\n",
       "      <th>num_coexpressed_core</th>\n",
       "      <th>num_coexpressed_acc</th>\n",
       "      <th>percent_coexpressed_core</th>\n",
       "      <th>percent_coexpressed_acc</th>\n",
       "      <th>num_non_cooperonic_coexpressed_genes</th>\n",
       "      <th>num_non_cooperonic_coexpressed_core</th>\n",
       "      <th>num_non_cooperonic_coexpressed_acc</th>\n",
       "      <th>percent_non_cooperonic_coexpressed_core</th>\n",
       "      <th>percent_non_cooperonic_coexpressed_acc</th>\n",
       "    </tr>\n",
       "  </thead>\n",
       "  <tbody>\n",
       "    <tr>\n",
       "      <th>PA0001</th>\n",
       "      <td>PA0001</td>\n",
       "      <td>0</td>\n",
       "      <td>0</td>\n",
       "      <td>0</td>\n",
       "      <td>0.0</td>\n",
       "      <td>0.0</td>\n",
       "      <td>0</td>\n",
       "      <td>0</td>\n",
       "      <td>0</td>\n",
       "      <td>0.0</td>\n",
       "      <td>0.0</td>\n",
       "    </tr>\n",
       "    <tr>\n",
       "      <th>PA0002</th>\n",
       "      <td>PA0002</td>\n",
       "      <td>7</td>\n",
       "      <td>7</td>\n",
       "      <td>0</td>\n",
       "      <td>1.0</td>\n",
       "      <td>0.0</td>\n",
       "      <td>7</td>\n",
       "      <td>7</td>\n",
       "      <td>0</td>\n",
       "      <td>1.0</td>\n",
       "      <td>0.0</td>\n",
       "    </tr>\n",
       "    <tr>\n",
       "      <th>PA0003</th>\n",
       "      <td>PA0003</td>\n",
       "      <td>1</td>\n",
       "      <td>1</td>\n",
       "      <td>0</td>\n",
       "      <td>1.0</td>\n",
       "      <td>0.0</td>\n",
       "      <td>1</td>\n",
       "      <td>1</td>\n",
       "      <td>0</td>\n",
       "      <td>1.0</td>\n",
       "      <td>0.0</td>\n",
       "    </tr>\n",
       "    <tr>\n",
       "      <th>PA0004</th>\n",
       "      <td>PA0004</td>\n",
       "      <td>8</td>\n",
       "      <td>8</td>\n",
       "      <td>0</td>\n",
       "      <td>1.0</td>\n",
       "      <td>0.0</td>\n",
       "      <td>8</td>\n",
       "      <td>8</td>\n",
       "      <td>0</td>\n",
       "      <td>1.0</td>\n",
       "      <td>0.0</td>\n",
       "    </tr>\n",
       "    <tr>\n",
       "      <th>PA0005</th>\n",
       "      <td>PA0005</td>\n",
       "      <td>0</td>\n",
       "      <td>0</td>\n",
       "      <td>0</td>\n",
       "      <td>0.0</td>\n",
       "      <td>0.0</td>\n",
       "      <td>0</td>\n",
       "      <td>0</td>\n",
       "      <td>0</td>\n",
       "      <td>0.0</td>\n",
       "      <td>0.0</td>\n",
       "    </tr>\n",
       "  </tbody>\n",
       "</table>\n",
       "</div>"
      ],
      "text/plain": [
       "       ref_gene  num_coexpressed_genes  num_coexpressed_core  \\\n",
       "PA0001   PA0001                      0                     0   \n",
       "PA0002   PA0002                      7                     7   \n",
       "PA0003   PA0003                      1                     1   \n",
       "PA0004   PA0004                      8                     8   \n",
       "PA0005   PA0005                      0                     0   \n",
       "\n",
       "        num_coexpressed_acc  percent_coexpressed_core  \\\n",
       "PA0001                    0                       0.0   \n",
       "PA0002                    0                       1.0   \n",
       "PA0003                    0                       1.0   \n",
       "PA0004                    0                       1.0   \n",
       "PA0005                    0                       0.0   \n",
       "\n",
       "        percent_coexpressed_acc  num_non_cooperonic_coexpressed_genes  \\\n",
       "PA0001                      0.0                                     0   \n",
       "PA0002                      0.0                                     7   \n",
       "PA0003                      0.0                                     1   \n",
       "PA0004                      0.0                                     8   \n",
       "PA0005                      0.0                                     0   \n",
       "\n",
       "        num_non_cooperonic_coexpressed_core  \\\n",
       "PA0001                                    0   \n",
       "PA0002                                    7   \n",
       "PA0003                                    1   \n",
       "PA0004                                    8   \n",
       "PA0005                                    0   \n",
       "\n",
       "        num_non_cooperonic_coexpressed_acc  \\\n",
       "PA0001                                   0   \n",
       "PA0002                                   0   \n",
       "PA0003                                   0   \n",
       "PA0004                                   0   \n",
       "PA0005                                   0   \n",
       "\n",
       "        percent_non_cooperonic_coexpressed_core  \\\n",
       "PA0001                                      0.0   \n",
       "PA0002                                      1.0   \n",
       "PA0003                                      1.0   \n",
       "PA0004                                      1.0   \n",
       "PA0005                                      0.0   \n",
       "\n",
       "        percent_non_cooperonic_coexpressed_acc  \n",
       "PA0001                                     0.0  \n",
       "PA0002                                     0.0  \n",
       "PA0003                                     0.0  \n",
       "PA0004                                     0.0  \n",
       "PA0005                                     0.0  "
      ]
     },
     "execution_count": 5,
     "metadata": {},
     "output_type": "execute_result"
    }
   ],
   "source": [
    "real_core_df.head()"
   ]
  },
  {
   "cell_type": "code",
   "execution_count": 6,
   "metadata": {},
   "outputs": [
    {
     "data": {
      "text/html": [
       "<div>\n",
       "<style scoped>\n",
       "    .dataframe tbody tr th:only-of-type {\n",
       "        vertical-align: middle;\n",
       "    }\n",
       "\n",
       "    .dataframe tbody tr th {\n",
       "        vertical-align: top;\n",
       "    }\n",
       "\n",
       "    .dataframe thead th {\n",
       "        text-align: right;\n",
       "    }\n",
       "</style>\n",
       "<table border=\"1\" class=\"dataframe\">\n",
       "  <thead>\n",
       "    <tr style=\"text-align: right;\">\n",
       "      <th></th>\n",
       "      <th>ref_gene</th>\n",
       "      <th>num_coexpressed_genes</th>\n",
       "      <th>num_coexpressed_core</th>\n",
       "      <th>num_coexpressed_acc</th>\n",
       "      <th>percent_coexpressed_core</th>\n",
       "      <th>percent_coexpressed_acc</th>\n",
       "      <th>num_non_cooperonic_coexpressed_genes</th>\n",
       "      <th>num_non_cooperonic_coexpressed_core</th>\n",
       "      <th>num_non_cooperonic_coexpressed_acc</th>\n",
       "      <th>percent_non_cooperonic_coexpressed_core</th>\n",
       "      <th>percent_non_cooperonic_coexpressed_acc</th>\n",
       "    </tr>\n",
       "  </thead>\n",
       "  <tbody>\n",
       "    <tr>\n",
       "      <th>PA0053</th>\n",
       "      <td>PA0053</td>\n",
       "      <td>22</td>\n",
       "      <td>6</td>\n",
       "      <td>16</td>\n",
       "      <td>0.272727</td>\n",
       "      <td>0.727273</td>\n",
       "      <td>22</td>\n",
       "      <td>6</td>\n",
       "      <td>16</td>\n",
       "      <td>0.272727</td>\n",
       "      <td>0.727273</td>\n",
       "    </tr>\n",
       "    <tr>\n",
       "      <th>PA0095</th>\n",
       "      <td>PA0095</td>\n",
       "      <td>0</td>\n",
       "      <td>0</td>\n",
       "      <td>0</td>\n",
       "      <td>0.000000</td>\n",
       "      <td>0.000000</td>\n",
       "      <td>0</td>\n",
       "      <td>0</td>\n",
       "      <td>0</td>\n",
       "      <td>0.000000</td>\n",
       "      <td>0.000000</td>\n",
       "    </tr>\n",
       "    <tr>\n",
       "      <th>PA0100</th>\n",
       "      <td>PA0100</td>\n",
       "      <td>23</td>\n",
       "      <td>7</td>\n",
       "      <td>16</td>\n",
       "      <td>0.304348</td>\n",
       "      <td>0.695652</td>\n",
       "      <td>23</td>\n",
       "      <td>7</td>\n",
       "      <td>16</td>\n",
       "      <td>0.304348</td>\n",
       "      <td>0.695652</td>\n",
       "    </tr>\n",
       "    <tr>\n",
       "      <th>PA0135</th>\n",
       "      <td>PA0135</td>\n",
       "      <td>0</td>\n",
       "      <td>0</td>\n",
       "      <td>0</td>\n",
       "      <td>0.000000</td>\n",
       "      <td>0.000000</td>\n",
       "      <td>0</td>\n",
       "      <td>0</td>\n",
       "      <td>0</td>\n",
       "      <td>0.000000</td>\n",
       "      <td>0.000000</td>\n",
       "    </tr>\n",
       "    <tr>\n",
       "      <th>PA0187</th>\n",
       "      <td>PA0187</td>\n",
       "      <td>0</td>\n",
       "      <td>0</td>\n",
       "      <td>0</td>\n",
       "      <td>0.000000</td>\n",
       "      <td>0.000000</td>\n",
       "      <td>0</td>\n",
       "      <td>0</td>\n",
       "      <td>0</td>\n",
       "      <td>0.000000</td>\n",
       "      <td>0.000000</td>\n",
       "    </tr>\n",
       "  </tbody>\n",
       "</table>\n",
       "</div>"
      ],
      "text/plain": [
       "       ref_gene  num_coexpressed_genes  num_coexpressed_core  \\\n",
       "PA0053   PA0053                     22                     6   \n",
       "PA0095   PA0095                      0                     0   \n",
       "PA0100   PA0100                     23                     7   \n",
       "PA0135   PA0135                      0                     0   \n",
       "PA0187   PA0187                      0                     0   \n",
       "\n",
       "        num_coexpressed_acc  percent_coexpressed_core  \\\n",
       "PA0053                   16                  0.272727   \n",
       "PA0095                    0                  0.000000   \n",
       "PA0100                   16                  0.304348   \n",
       "PA0135                    0                  0.000000   \n",
       "PA0187                    0                  0.000000   \n",
       "\n",
       "        percent_coexpressed_acc  num_non_cooperonic_coexpressed_genes  \\\n",
       "PA0053                 0.727273                                    22   \n",
       "PA0095                 0.000000                                     0   \n",
       "PA0100                 0.695652                                    23   \n",
       "PA0135                 0.000000                                     0   \n",
       "PA0187                 0.000000                                     0   \n",
       "\n",
       "        num_non_cooperonic_coexpressed_core  \\\n",
       "PA0053                                    6   \n",
       "PA0095                                    0   \n",
       "PA0100                                    7   \n",
       "PA0135                                    0   \n",
       "PA0187                                    0   \n",
       "\n",
       "        num_non_cooperonic_coexpressed_acc  \\\n",
       "PA0053                                  16   \n",
       "PA0095                                   0   \n",
       "PA0100                                  16   \n",
       "PA0135                                   0   \n",
       "PA0187                                   0   \n",
       "\n",
       "        percent_non_cooperonic_coexpressed_core  \\\n",
       "PA0053                                 0.272727   \n",
       "PA0095                                 0.000000   \n",
       "PA0100                                 0.304348   \n",
       "PA0135                                 0.000000   \n",
       "PA0187                                 0.000000   \n",
       "\n",
       "        percent_non_cooperonic_coexpressed_acc  \n",
       "PA0053                                0.727273  \n",
       "PA0095                                0.000000  \n",
       "PA0100                                0.695652  \n",
       "PA0135                                0.000000  \n",
       "PA0187                                0.000000  "
      ]
     },
     "execution_count": 6,
     "metadata": {},
     "output_type": "execute_result"
    }
   ],
   "source": [
    "real_acc_df.head()"
   ]
  },
  {
   "cell_type": "markdown",
   "metadata": {},
   "source": [
    "## Co-expression patterns in shuffled data"
   ]
  },
  {
   "cell_type": "code",
   "execution_count": 7,
   "metadata": {},
   "outputs": [
    {
     "data": {
      "text/html": [
       "<div>\n",
       "<style scoped>\n",
       "    .dataframe tbody tr th:only-of-type {\n",
       "        vertical-align: middle;\n",
       "    }\n",
       "\n",
       "    .dataframe tbody tr th {\n",
       "        vertical-align: top;\n",
       "    }\n",
       "\n",
       "    .dataframe thead th {\n",
       "        text-align: right;\n",
       "    }\n",
       "</style>\n",
       "<table border=\"1\" class=\"dataframe\">\n",
       "  <thead>\n",
       "    <tr style=\"text-align: right;\">\n",
       "      <th></th>\n",
       "      <th>ref_gene</th>\n",
       "      <th>num_coexpressed_genes</th>\n",
       "      <th>num_coexpressed_core</th>\n",
       "      <th>num_coexpressed_acc</th>\n",
       "      <th>percent_coexpressed_core</th>\n",
       "      <th>percent_coexpressed_acc</th>\n",
       "      <th>num_non_cooperonic_coexpressed_genes</th>\n",
       "      <th>num_non_cooperonic_coexpressed_core</th>\n",
       "      <th>num_non_cooperonic_coexpressed_acc</th>\n",
       "      <th>percent_non_cooperonic_coexpressed_core</th>\n",
       "      <th>percent_non_cooperonic_coexpressed_acc</th>\n",
       "    </tr>\n",
       "  </thead>\n",
       "  <tbody>\n",
       "    <tr>\n",
       "      <th>PA0001</th>\n",
       "      <td>PA0001</td>\n",
       "      <td>0</td>\n",
       "      <td>0</td>\n",
       "      <td>0</td>\n",
       "      <td>0</td>\n",
       "      <td>0</td>\n",
       "      <td>0</td>\n",
       "      <td>0</td>\n",
       "      <td>0</td>\n",
       "      <td>0</td>\n",
       "      <td>0</td>\n",
       "    </tr>\n",
       "    <tr>\n",
       "      <th>PA0002</th>\n",
       "      <td>PA0002</td>\n",
       "      <td>0</td>\n",
       "      <td>0</td>\n",
       "      <td>0</td>\n",
       "      <td>0</td>\n",
       "      <td>0</td>\n",
       "      <td>0</td>\n",
       "      <td>0</td>\n",
       "      <td>0</td>\n",
       "      <td>0</td>\n",
       "      <td>0</td>\n",
       "    </tr>\n",
       "    <tr>\n",
       "      <th>PA0003</th>\n",
       "      <td>PA0003</td>\n",
       "      <td>0</td>\n",
       "      <td>0</td>\n",
       "      <td>0</td>\n",
       "      <td>0</td>\n",
       "      <td>0</td>\n",
       "      <td>0</td>\n",
       "      <td>0</td>\n",
       "      <td>0</td>\n",
       "      <td>0</td>\n",
       "      <td>0</td>\n",
       "    </tr>\n",
       "    <tr>\n",
       "      <th>PA0004</th>\n",
       "      <td>PA0004</td>\n",
       "      <td>0</td>\n",
       "      <td>0</td>\n",
       "      <td>0</td>\n",
       "      <td>0</td>\n",
       "      <td>0</td>\n",
       "      <td>0</td>\n",
       "      <td>0</td>\n",
       "      <td>0</td>\n",
       "      <td>0</td>\n",
       "      <td>0</td>\n",
       "    </tr>\n",
       "    <tr>\n",
       "      <th>PA0005</th>\n",
       "      <td>PA0005</td>\n",
       "      <td>0</td>\n",
       "      <td>0</td>\n",
       "      <td>0</td>\n",
       "      <td>0</td>\n",
       "      <td>0</td>\n",
       "      <td>0</td>\n",
       "      <td>0</td>\n",
       "      <td>0</td>\n",
       "      <td>0</td>\n",
       "      <td>0</td>\n",
       "    </tr>\n",
       "  </tbody>\n",
       "</table>\n",
       "</div>"
      ],
      "text/plain": [
       "       ref_gene  num_coexpressed_genes  num_coexpressed_core  \\\n",
       "PA0001   PA0001                      0                     0   \n",
       "PA0002   PA0002                      0                     0   \n",
       "PA0003   PA0003                      0                     0   \n",
       "PA0004   PA0004                      0                     0   \n",
       "PA0005   PA0005                      0                     0   \n",
       "\n",
       "        num_coexpressed_acc  percent_coexpressed_core  \\\n",
       "PA0001                    0                         0   \n",
       "PA0002                    0                         0   \n",
       "PA0003                    0                         0   \n",
       "PA0004                    0                         0   \n",
       "PA0005                    0                         0   \n",
       "\n",
       "        percent_coexpressed_acc  num_non_cooperonic_coexpressed_genes  \\\n",
       "PA0001                        0                                     0   \n",
       "PA0002                        0                                     0   \n",
       "PA0003                        0                                     0   \n",
       "PA0004                        0                                     0   \n",
       "PA0005                        0                                     0   \n",
       "\n",
       "        num_non_cooperonic_coexpressed_core  \\\n",
       "PA0001                                    0   \n",
       "PA0002                                    0   \n",
       "PA0003                                    0   \n",
       "PA0004                                    0   \n",
       "PA0005                                    0   \n",
       "\n",
       "        num_non_cooperonic_coexpressed_acc  \\\n",
       "PA0001                                   0   \n",
       "PA0002                                   0   \n",
       "PA0003                                   0   \n",
       "PA0004                                   0   \n",
       "PA0005                                   0   \n",
       "\n",
       "        percent_non_cooperonic_coexpressed_core  \\\n",
       "PA0001                                        0   \n",
       "PA0002                                        0   \n",
       "PA0003                                        0   \n",
       "PA0004                                        0   \n",
       "PA0005                                        0   \n",
       "\n",
       "        percent_non_cooperonic_coexpressed_acc  \n",
       "PA0001                                       0  \n",
       "PA0002                                       0  \n",
       "PA0003                                       0  \n",
       "PA0004                                       0  \n",
       "PA0005                                       0  "
      ]
     },
     "execution_count": 7,
     "metadata": {},
     "output_type": "execute_result"
    }
   ],
   "source": [
    "# Get co-expression patterns using shuffled expression data (control)\n",
    "shuffled_core_df, shuffled_acc_df = calculations.get_coexpression_stats(shuffled_all_corr_file,\n",
    "                                                                operon_file,\n",
    "                                                                core_gene_ids_file,\n",
    "                                                                acc_gene_ids_file,\n",
    "                                                                coexpression_threshold)\n",
    "\n",
    "shuffled_core_df.head()"
   ]
  },
  {
   "cell_type": "code",
   "execution_count": 8,
   "metadata": {},
   "outputs": [
    {
     "data": {
      "text/html": [
       "<div>\n",
       "<style scoped>\n",
       "    .dataframe tbody tr th:only-of-type {\n",
       "        vertical-align: middle;\n",
       "    }\n",
       "\n",
       "    .dataframe tbody tr th {\n",
       "        vertical-align: top;\n",
       "    }\n",
       "\n",
       "    .dataframe thead th {\n",
       "        text-align: right;\n",
       "    }\n",
       "</style>\n",
       "<table border=\"1\" class=\"dataframe\">\n",
       "  <thead>\n",
       "    <tr style=\"text-align: right;\">\n",
       "      <th></th>\n",
       "      <th>ref_gene</th>\n",
       "      <th>num_coexpressed_genes</th>\n",
       "      <th>num_coexpressed_core</th>\n",
       "      <th>num_coexpressed_acc</th>\n",
       "      <th>percent_coexpressed_core</th>\n",
       "      <th>percent_coexpressed_acc</th>\n",
       "      <th>num_non_cooperonic_coexpressed_genes</th>\n",
       "      <th>num_non_cooperonic_coexpressed_core</th>\n",
       "      <th>num_non_cooperonic_coexpressed_acc</th>\n",
       "      <th>percent_non_cooperonic_coexpressed_core</th>\n",
       "      <th>percent_non_cooperonic_coexpressed_acc</th>\n",
       "    </tr>\n",
       "  </thead>\n",
       "  <tbody>\n",
       "    <tr>\n",
       "      <th>PA0053</th>\n",
       "      <td>PA0053</td>\n",
       "      <td>0</td>\n",
       "      <td>0</td>\n",
       "      <td>0</td>\n",
       "      <td>0</td>\n",
       "      <td>0</td>\n",
       "      <td>0</td>\n",
       "      <td>0</td>\n",
       "      <td>0</td>\n",
       "      <td>0</td>\n",
       "      <td>0</td>\n",
       "    </tr>\n",
       "    <tr>\n",
       "      <th>PA0095</th>\n",
       "      <td>PA0095</td>\n",
       "      <td>0</td>\n",
       "      <td>0</td>\n",
       "      <td>0</td>\n",
       "      <td>0</td>\n",
       "      <td>0</td>\n",
       "      <td>0</td>\n",
       "      <td>0</td>\n",
       "      <td>0</td>\n",
       "      <td>0</td>\n",
       "      <td>0</td>\n",
       "    </tr>\n",
       "    <tr>\n",
       "      <th>PA0100</th>\n",
       "      <td>PA0100</td>\n",
       "      <td>0</td>\n",
       "      <td>0</td>\n",
       "      <td>0</td>\n",
       "      <td>0</td>\n",
       "      <td>0</td>\n",
       "      <td>0</td>\n",
       "      <td>0</td>\n",
       "      <td>0</td>\n",
       "      <td>0</td>\n",
       "      <td>0</td>\n",
       "    </tr>\n",
       "    <tr>\n",
       "      <th>PA0135</th>\n",
       "      <td>PA0135</td>\n",
       "      <td>0</td>\n",
       "      <td>0</td>\n",
       "      <td>0</td>\n",
       "      <td>0</td>\n",
       "      <td>0</td>\n",
       "      <td>0</td>\n",
       "      <td>0</td>\n",
       "      <td>0</td>\n",
       "      <td>0</td>\n",
       "      <td>0</td>\n",
       "    </tr>\n",
       "    <tr>\n",
       "      <th>PA0187</th>\n",
       "      <td>PA0187</td>\n",
       "      <td>0</td>\n",
       "      <td>0</td>\n",
       "      <td>0</td>\n",
       "      <td>0</td>\n",
       "      <td>0</td>\n",
       "      <td>0</td>\n",
       "      <td>0</td>\n",
       "      <td>0</td>\n",
       "      <td>0</td>\n",
       "      <td>0</td>\n",
       "    </tr>\n",
       "  </tbody>\n",
       "</table>\n",
       "</div>"
      ],
      "text/plain": [
       "       ref_gene  num_coexpressed_genes  num_coexpressed_core  \\\n",
       "PA0053   PA0053                      0                     0   \n",
       "PA0095   PA0095                      0                     0   \n",
       "PA0100   PA0100                      0                     0   \n",
       "PA0135   PA0135                      0                     0   \n",
       "PA0187   PA0187                      0                     0   \n",
       "\n",
       "        num_coexpressed_acc  percent_coexpressed_core  \\\n",
       "PA0053                    0                         0   \n",
       "PA0095                    0                         0   \n",
       "PA0100                    0                         0   \n",
       "PA0135                    0                         0   \n",
       "PA0187                    0                         0   \n",
       "\n",
       "        percent_coexpressed_acc  num_non_cooperonic_coexpressed_genes  \\\n",
       "PA0053                        0                                     0   \n",
       "PA0095                        0                                     0   \n",
       "PA0100                        0                                     0   \n",
       "PA0135                        0                                     0   \n",
       "PA0187                        0                                     0   \n",
       "\n",
       "        num_non_cooperonic_coexpressed_core  \\\n",
       "PA0053                                    0   \n",
       "PA0095                                    0   \n",
       "PA0100                                    0   \n",
       "PA0135                                    0   \n",
       "PA0187                                    0   \n",
       "\n",
       "        num_non_cooperonic_coexpressed_acc  \\\n",
       "PA0053                                   0   \n",
       "PA0095                                   0   \n",
       "PA0100                                   0   \n",
       "PA0135                                   0   \n",
       "PA0187                                   0   \n",
       "\n",
       "        percent_non_cooperonic_coexpressed_core  \\\n",
       "PA0053                                        0   \n",
       "PA0095                                        0   \n",
       "PA0100                                        0   \n",
       "PA0135                                        0   \n",
       "PA0187                                        0   \n",
       "\n",
       "        percent_non_cooperonic_coexpressed_acc  \n",
       "PA0053                                       0  \n",
       "PA0095                                       0  \n",
       "PA0100                                       0  \n",
       "PA0135                                       0  \n",
       "PA0187                                       0  "
      ]
     },
     "execution_count": 8,
     "metadata": {},
     "output_type": "execute_result"
    }
   ],
   "source": [
    "shuffled_acc_df.head()"
   ]
  },
  {
   "cell_type": "markdown",
   "metadata": {},
   "source": [
    "# Summary statistics"
   ]
  },
  {
   "cell_type": "markdown",
   "metadata": {},
   "source": [
    "### Statistics of real data"
   ]
  },
  {
   "cell_type": "code",
   "execution_count": 9,
   "metadata": {},
   "outputs": [
    {
     "name": "stdout",
     "output_type": "stream",
     "text": [
      "For a given CORE gene and using a threshold of 0.9 to define co-expression: \n",
      "\n",
      "- There is a median of 0.0 co-expressed  genes\n",
      "- Of the co-expressed genes, the median percent of core genes is 0.0% and accessory genes is 0.0%\n",
      "- There is a median of 0.0% co-expressed genes that are NOT in a shared operon\n",
      "- Of the non-coperonic co-expressed genes, the median percent of core genes is 0.0% and accessory genes is 0.0%\n"
     ]
    }
   ],
   "source": [
    "# Print statistics about core genes\n",
    "print('For a given CORE gene and using a threshold of {} to define co-expression: \\n'.\n",
    "     format(coexpression_threshold))\n",
    "print('- There is a median of {} co-expressed  genes'.\n",
    "      format(np.median(real_core_df['num_coexpressed_genes'])))\n",
    "print('- Of the co-expressed genes, the median percent of core genes is {}% and accessory genes is {}%'.\n",
    "      format(np.median(real_core_df['percent_coexpressed_core'])*100,\n",
    "             np.median(real_core_df['percent_coexpressed_acc'])*100))\n",
    "\n",
    "# Calculate the percent of co-expressed genes that are non co-operonic\n",
    "real_percent_non_cooperonic_coexpressed_core_genes = (real_core_df['num_non_cooperonic_coexpressed_genes']/real_core_df['num_coexpressed_genes']).fillna(0)\n",
    "\n",
    "print('- There is a median of {}% co-expressed genes that are NOT in a shared operon'.\n",
    "      format(np.median(real_percent_non_cooperonic_coexpressed_core_genes)*100))\n",
    "print('- Of the non-coperonic co-expressed genes, the median percent of core genes is {}% and accessory genes is {}%'.\n",
    "      format(np.median(real_core_df['percent_non_cooperonic_coexpressed_core'])*100,\n",
    "             np.median(real_core_df['percent_non_cooperonic_coexpressed_acc'])*100))"
   ]
  },
  {
   "cell_type": "code",
   "execution_count": 10,
   "metadata": {},
   "outputs": [
    {
     "name": "stdout",
     "output_type": "stream",
     "text": [
      "For a given ACCESSORY gene and using a threshold of 0.9 to define co-expression: \n",
      "\n",
      "- There is a median of 0.0 co-expressed  genes\n",
      "- Of the co-expressed genes, the median percent of core genes is 0.0% and accessory genes is 0.0%\n",
      "- There is a median of 0.0% co-expressed genes that are NOT in a shared operon\n",
      "- Of the non-coperonic co-expressed genes, the median percent of core genes is 0.0% and accessory genes is 0.0%\n"
     ]
    }
   ],
   "source": [
    "# Print statistics about core genes\n",
    "print('For a given ACCESSORY gene and using a threshold of {} to define co-expression: \\n'.\n",
    "     format(coexpression_threshold))\n",
    "print('- There is a median of {} co-expressed  genes'.\n",
    "      format(np.median(real_acc_df['num_coexpressed_genes'])))\n",
    "print('- Of the co-expressed genes, the median percent of core genes is {}% and accessory genes is {}%'.\n",
    "      format(np.median(real_acc_df['percent_coexpressed_core'])*100,\n",
    "             np.median(real_acc_df['percent_coexpressed_acc'])*100))\n",
    "\n",
    "# Calculate the percent of co-expressed genes that are non co-operonic\n",
    "real_percent_non_cooperonic_coexpressed_acc_genes = (real_acc_df['num_non_cooperonic_coexpressed_genes']/real_acc_df['num_coexpressed_genes']).fillna(0)\n",
    "\n",
    "print('- There is a median of {}% co-expressed genes that are NOT in a shared operon'.\n",
    "      format(np.median(real_percent_non_cooperonic_coexpressed_acc_genes)*100))\n",
    "print('- Of the non-coperonic co-expressed genes, the median percent of core genes is {}% and accessory genes is {}%'.\n",
    "      format(np.median(real_acc_df['percent_non_cooperonic_coexpressed_core'])*100,\n",
    "             np.median(real_acc_df['percent_non_cooperonic_coexpressed_acc'])*100))"
   ]
  },
  {
   "cell_type": "markdown",
   "metadata": {},
   "source": [
    "### Statistics of shuffled data"
   ]
  },
  {
   "cell_type": "code",
   "execution_count": 11,
   "metadata": {},
   "outputs": [
    {
     "name": "stdout",
     "output_type": "stream",
     "text": [
      "For a given CORE gene and using a threshold of 0.9 to define co-expression: \n",
      "\n",
      "- There is a median of 0.0 co-expressed  genes\n",
      "- Of the co-expressed genes, the median percent of core genes is 0.0% and accessory genes is 0.0%\n",
      "- There is a median of 0.0% co-expressed genes that are NOT in a shared operon\n",
      "- Of the non-coperonic co-expressed genes, the median percent of core genes is 0.0% and accessory genes is 0.0%\n"
     ]
    }
   ],
   "source": [
    "# Print statistics about core genes\n",
    "print('For a given CORE gene and using a threshold of {} to define co-expression: \\n'.\n",
    "     format(coexpression_threshold))\n",
    "print('- There is a median of {} co-expressed  genes'.\n",
    "      format(np.median(shuffled_core_df['num_coexpressed_genes'])))\n",
    "print('- Of the co-expressed genes, the median percent of core genes is {}% and accessory genes is {}%'.\n",
    "      format(np.median(shuffled_core_df['percent_coexpressed_core'])*100,\n",
    "             np.median(shuffled_core_df['percent_coexpressed_acc'])*100))\n",
    "\n",
    "# Calculate the percent of co-expressed genes that are non co-operonic\n",
    "shuffled_percent_non_cooperonic_coexpressed_core_genes = (shuffled_core_df['num_non_cooperonic_coexpressed_genes']/shuffled_core_df['num_coexpressed_genes']).fillna(0)\n",
    "\n",
    "print('- There is a median of {}% co-expressed genes that are NOT in a shared operon'.\n",
    "      format(np.median(shuffled_percent_non_cooperonic_coexpressed_core_genes)*100))\n",
    "print('- Of the non-coperonic co-expressed genes, the median percent of core genes is {}% and accessory genes is {}%'.\n",
    "      format(np.median(shuffled_core_df['percent_non_cooperonic_coexpressed_core'])*100,\n",
    "             np.median(shuffled_core_df['percent_non_cooperonic_coexpressed_acc'])*100))"
   ]
  },
  {
   "cell_type": "code",
   "execution_count": 12,
   "metadata": {},
   "outputs": [
    {
     "name": "stdout",
     "output_type": "stream",
     "text": [
      "For a given ACCESSORY gene and using a threshold of 0.9 to define co-expression: \n",
      "\n",
      "- There is a median of 0.0 co-expressed  genes\n",
      "- Of the co-expressed genes, the median percent of core genes is 0.0% and accessory genes is 0.0%\n",
      "- There is a median of 0.0% co-expressed genes that are NOT in a shared operon\n",
      "- Of the non-coperonic co-expressed genes, the median percent of core genes is 0.0% and accessory genes is 0.0%\n"
     ]
    }
   ],
   "source": [
    "# Print statistics about core genes\n",
    "print('For a given ACCESSORY gene and using a threshold of {} to define co-expression: \\n'.\n",
    "     format(coexpression_threshold))\n",
    "print('- There is a median of {} co-expressed  genes'.\n",
    "      format(np.median(shuffled_acc_df['num_coexpressed_genes'])))\n",
    "print('- Of the co-expressed genes, the median percent of core genes is {}% and accessory genes is {}%'.\n",
    "      format(np.median(shuffled_acc_df['percent_coexpressed_core'])*100,\n",
    "             np.median(shuffled_acc_df['percent_coexpressed_acc'])*100))\n",
    "\n",
    "# Calculate the percent of co-expressed genes that are non co-operonic\n",
    "shuffled_percent_non_cooperonic_coexpressed_acc_genes = (shuffled_acc_df['num_non_cooperonic_coexpressed_genes']/shuffled_acc_df['num_coexpressed_genes']).fillna(0)\n",
    "\n",
    "print('- There is a median of {}% co-expressed genes that are NOT in a shared operon'.\n",
    "      format(np.median(shuffled_percent_non_cooperonic_coexpressed_acc_genes)*100))\n",
    "print('- Of the non-coperonic co-expressed genes, the median percent of core genes is {}% and accessory genes is {}%'.\n",
    "      format(np.median(shuffled_acc_df['percent_non_cooperonic_coexpressed_core'])*100,\n",
    "             np.median(shuffled_acc_df['percent_non_cooperonic_coexpressed_acc'])*100))"
   ]
  },
  {
   "cell_type": "markdown",
   "metadata": {},
   "source": [
    "# Plot trends in co-expression data"
   ]
  },
  {
   "cell_type": "markdown",
   "metadata": {},
   "source": [
    "### Number of co-expressed genes"
   ]
  },
  {
   "cell_type": "code",
   "execution_count": 13,
   "metadata": {},
   "outputs": [],
   "source": [
    "# Get bins using all data\n",
    "hist, bins_num_coexpressed_real = np.histogram(np.concatenate([real_core_df['num_coexpressed_genes'].values,\n",
    "                                                               real_acc_df['num_coexpressed_genes'].values]))"
   ]
  },
  {
   "cell_type": "code",
   "execution_count": 14,
   "metadata": {
    "scrolled": false
   },
   "outputs": [
    {
     "name": "stderr",
     "output_type": "stream",
     "text": [
      "/home/alexandra/anaconda3/envs/core-acc/lib/python3.7/site-packages/scipy/stats/stats.py:1713: FutureWarning: Using a non-tuple sequence for multidimensional indexing is deprecated; use `arr[tuple(seq)]` instead of `arr[seq]`. In the future this will be interpreted as an array index, `arr[np.array(seq)]`, which will result either in an error or a different result.\n",
      "  return np.add.reduce(sorted[indexer] * weights, axis=axis) / sumval\n"
     ]
    },
    {
     "data": {
      "text/plain": [
       "Text(0, 0.5, 'Density')"
      ]
     },
     "execution_count": 14,
     "metadata": {},
     "output_type": "execute_result"
    },
    {
     "data": {
      "image/png": "[encoded data removed]",
      "text/plain": [
       "<Figure size 432x288 with 1 Axes>"
      ]
     },
     "metadata": {
      "needs_background": "light"
     },
     "output_type": "display_data"
    }
   ],
   "source": [
    "# Distribution of number of co-expressed genes in real data\n",
    "sns.distplot(real_core_df['num_coexpressed_genes'].tolist(), \n",
    "             label='core',\n",
    "             color='red',\n",
    "             bins=bins_num_coexpressed_real)\n",
    "\n",
    "sns.distplot(real_acc_df['num_coexpressed_genes'].tolist(), \n",
    "             label='accessory',\n",
    "             color='blue',\n",
    "             bins=bins_num_coexpressed_real)\n",
    "\n",
    "plt.legend(prop={'size': 12})\n",
    "plt.title('Number of co-expressed genes (real data, threshold={})'.format(coexpression_threshold))\n",
    "plt.xlabel('Number of co-expressed genes')\n",
    "plt.ylabel('Density')"
   ]
  },
  {
   "cell_type": "code",
   "execution_count": 15,
   "metadata": {},
   "outputs": [],
   "source": [
    "# Get bins using all data\n",
    "hist, bins_num_coexpressed_shuffled = np.histogram(np.concatenate([shuffled_core_df['num_coexpressed_genes'].values,\n",
    "                                                                   shuffled_acc_df['num_coexpressed_genes'].values]))"
   ]
  },
  {
   "cell_type": "code",
   "execution_count": 16,
   "metadata": {},
   "outputs": [
    {
     "name": "stderr",
     "output_type": "stream",
     "text": [
      "/home/alexandra/anaconda3/envs/core-acc/lib/python3.7/site-packages/seaborn/distributions.py:283: UserWarning: Data must have variance to compute a kernel density estimate.\n",
      "  warnings.warn(msg, UserWarning)\n"
     ]
    },
    {
     "data": {
      "text/plain": [
       "Text(0, 0.5, 'Density')"
      ]
     },
     "execution_count": 16,
     "metadata": {},
     "output_type": "execute_result"
    },
    {
     "data": {
      "image/png": "[encoded data removed]",
      "text/plain": [
       "<Figure size 432x288 with 1 Axes>"
      ]
     },
     "metadata": {
      "needs_background": "light"
     },
     "output_type": "display_data"
    }
   ],
   "source": [
    "# Distribution of number of co-expressed genes in shuffled data\n",
    "sns.distplot(shuffled_core_df['num_coexpressed_genes'].tolist(), \n",
    "             label='core',\n",
    "             color='red',\n",
    "             bins=bins_num_coexpressed_shuffled)\n",
    "\n",
    "sns.distplot(shuffled_acc_df['num_coexpressed_genes'].tolist(), \n",
    "             label='accessory', \n",
    "             color='blue',\n",
    "             bins=bins_num_coexpressed_shuffled)\n",
    "\n",
    "plt.legend(prop={'size': 12})\n",
    "plt.title('Number of co-expressed genes (shuffled data, threshold={})'.format(coexpression_threshold))\n",
    "plt.xlabel('Number of co-expressed genes')\n",
    "plt.ylabel('Density')"
   ]
  },
  {
   "cell_type": "markdown",
   "metadata": {},
   "source": [
    "**Observation:**\n",
    "* Most core and accessory genes are not co-expressed with other genes\n",
    "* Core genes are co-expressed with a median of 18 genes\n",
    "* Accessory genes are co-expressed with a median of 22 genes\n",
    "* (control) All genes are independent, as expected, since we have destroyed relationships between genes when we shuffled\n",
    "* If using a more strict definition..."
   ]
  },
  {
   "cell_type": "markdown",
   "metadata": {},
   "source": [
    "### Percent of co-expressed genes that are not in the same operon"
   ]
  },
  {
   "cell_type": "code",
   "execution_count": 17,
   "metadata": {},
   "outputs": [],
   "source": [
    "# Get bins using all data\n",
    "hist, bins_num_percent_non_cooperonic_real = np.histogram(\n",
    "    np.concatenate(\n",
    "        [real_percent_non_cooperonic_coexpressed_core_genes,\n",
    "         real_percent_non_cooperonic_coexpressed_acc_genes]\n",
    "    )\n",
    ")"
   ]
  },
  {
   "cell_type": "code",
   "execution_count": 18,
   "metadata": {},
   "outputs": [
    {
     "data": {
      "text/plain": [
       "Text(0, 0.5, 'Density')"
      ]
     },
     "execution_count": 18,
     "metadata": {},
     "output_type": "execute_result"
    },
    {
     "data": {
      "image/png": "[encoded data removed]",
      "text/plain": [
       "<Figure size 432x288 with 1 Axes>"
      ]
     },
     "metadata": {
      "needs_background": "light"
     },
     "output_type": "display_data"
    }
   ],
   "source": [
    "# Distribution of percent of co-expressed genes that are NOT co-operonic in real data\n",
    "sns.distplot(real_percent_non_cooperonic_coexpressed_core_genes,\n",
    "             label='core',\n",
    "             color='red',\n",
    "             bins=bins_num_percent_non_cooperonic_real)\n",
    "sns.distplot(real_percent_non_cooperonic_coexpressed_acc_genes, \n",
    "             label='accessory',\n",
    "             color='blue', \n",
    "             bins=bins_num_percent_non_cooperonic_real)\n",
    "\n",
    "plt.legend(prop={'size': 12})\n",
    "plt.title('Percent of co-expressed genes that are NOT co-operonic (real data, threshold={})'.\n",
    "          format(coexpression_threshold))\n",
    "plt.xlabel('Percent of co-expressed non-cooperonic genes')\n",
    "plt.ylabel('Density')"
   ]
  },
  {
   "cell_type": "code",
   "execution_count": 19,
   "metadata": {},
   "outputs": [],
   "source": [
    "# Get bins using all data\n",
    "hist, bins_num_percent_non_cooperonic_shuffled = np.histogram(\n",
    "    np.concatenate([shuffled_percent_non_cooperonic_coexpressed_core_genes,\n",
    "                    shuffled_percent_non_cooperonic_coexpressed_acc_genes]))"
   ]
  },
  {
   "cell_type": "code",
   "execution_count": 20,
   "metadata": {},
   "outputs": [
    {
     "data": {
      "text/plain": [
       "Text(0, 0.5, 'Density')"
      ]
     },
     "execution_count": 20,
     "metadata": {},
     "output_type": "execute_result"
    },
    {
     "data": {
      "image/png": "[encoded data removed]",
      "text/plain": [
       "<Figure size 432x288 with 1 Axes>"
      ]
     },
     "metadata": {
      "needs_background": "light"
     },
     "output_type": "display_data"
    }
   ],
   "source": [
    "# Distribution of percent of co-expressed genes that are NOT co-operonic in shuffled data\n",
    "sns.distplot(shuffled_percent_non_cooperonic_coexpressed_core_genes,\n",
    "             label='core',\n",
    "             color='red',\n",
    "             bins=bins_num_percent_non_cooperonic_shuffled)\n",
    "sns.distplot(shuffled_percent_non_cooperonic_coexpressed_acc_genes, \n",
    "             label='accessory',\n",
    "             color='blue', \n",
    "             bins=bins_num_percent_non_cooperonic_shuffled)\n",
    "\n",
    "plt.legend(prop={'size': 12})\n",
    "plt.title('Percent of co-expressed genes that are NOT co-operonic (shuffled data, threshold={})'.\n",
    "          format(coexpression_threshold))\n",
    "plt.xlabel('Percent of co-expressed genes that are NOT co-operonic')\n",
    "plt.ylabel('Density')"
   ]
  },
  {
   "cell_type": "markdown",
   "metadata": {},
   "source": [
    "**Observations:**\n",
    "* For majority of core genes, their co-expressed genes are not in the same operon. For example if core gene A is co-expressed with genes {X,Y,Z} and A is in operon {A,B,C} there are no intersecting genes. This is the case for most core genes\n",
    "* For majority of accessory genes, their co-expressed genes are not in the same operon. \n",
    "* I would've expected more co-expressed genes to overlap with operons but need to read more about *P. aeruginosa* gene-gene interactions to get more of an intuition.\n",
    "* (control) There are 0 non-cooperonic co-expressed genes since there are 0 co-expressed genes"
   ]
  },
  {
   "cell_type": "markdown",
   "metadata": {},
   "source": [
    "### Core gene relationships\n",
    "For a given core gene, there exists a set of genes that are co-expressed with it. What percent of those co-expressed genes are core?\n",
    "Similarly, for a given accessory gene, there exists a set of genes that are co-expressed with it. What percent of those co-expressed genes are core? "
   ]
  },
  {
   "cell_type": "code",
   "execution_count": 21,
   "metadata": {},
   "outputs": [],
   "source": [
    "# Get bins using all data\n",
    "hist, bins_core_real = np.histogram(np.concatenate([real_core_df['percent_non_cooperonic_coexpressed_core'].values,\n",
    "                                                    real_acc_df['percent_non_cooperonic_coexpressed_core'].values]))"
   ]
  },
  {
   "cell_type": "code",
   "execution_count": 22,
   "metadata": {},
   "outputs": [
    {
     "data": {
      "text/plain": [
       "Text(0, 0.5, 'Density')"
      ]
     },
     "execution_count": 22,
     "metadata": {},
     "output_type": "execute_result"
    },
    {
     "data": {
      "image/png": "[encoded data removed]",
      "text/plain": [
       "<Figure size 432x288 with 1 Axes>"
      ]
     },
     "metadata": {
      "needs_background": "light"
     },
     "output_type": "display_data"
    }
   ],
   "source": [
    "# Distribution plot for percent of core co-expressed genes in real data\n",
    "sns.distplot(real_core_df['percent_non_cooperonic_coexpressed_core'].tolist(),\n",
    "             label='core', \n",
    "             color='red',\n",
    "             bins=bins_core_real)\n",
    "sns.distplot(real_acc_df['percent_non_cooperonic_coexpressed_core'].tolist(),\n",
    "             label='accessory',\n",
    "             color='blue',\n",
    "             bins=bins_core_real)\n",
    "\n",
    "plt.legend(prop={'size': 12})\n",
    "plt.title('Percent of co-expressed non-cooperonic genes that are core (real data, threshold={})'.\n",
    "          format(coexpression_threshold))\n",
    "plt.xlabel('Percent of co-expressed non-cooperonic genes that are core')\n",
    "plt.ylabel('Density')"
   ]
  },
  {
   "cell_type": "code",
   "execution_count": 23,
   "metadata": {},
   "outputs": [],
   "source": [
    "# Get bins using all data\n",
    "hist, bins_core_shuffled = np.histogram(\n",
    "    np.concatenate([shuffled_core_df['percent_non_cooperonic_coexpressed_core'].values,\n",
    "                    shuffled_acc_df['percent_non_cooperonic_coexpressed_core'].values]))"
   ]
  },
  {
   "cell_type": "code",
   "execution_count": 24,
   "metadata": {},
   "outputs": [
    {
     "data": {
      "text/plain": [
       "Text(0, 0.5, 'Density')"
      ]
     },
     "execution_count": 24,
     "metadata": {},
     "output_type": "execute_result"
    },
    {
     "data": {
      "image/png": "[encoded data removed]",
      "text/plain": [
       "<Figure size 432x288 with 1 Axes>"
      ]
     },
     "metadata": {
      "needs_background": "light"
     },
     "output_type": "display_data"
    }
   ],
   "source": [
    "# Distribution plot for percent of core co-expressed genes in shuffled data\n",
    "sns.distplot(shuffled_core_df['percent_non_cooperonic_coexpressed_core'].tolist(), \n",
    "             label='core', \n",
    "             color='red',\n",
    "             bins=bins_core_shuffled)\n",
    "sns.distplot(shuffled_acc_df['percent_non_cooperonic_coexpressed_core'].tolist(),\n",
    "             label='accessory', \n",
    "             color='blue',\n",
    "             bins=bins_core_shuffled)\n",
    "\n",
    "plt.legend(prop={'size': 12})\n",
    "plt.title('Percent of co-expressed non-cooperonic genes that are core (shuffled data, threshold={})'.\n",
    "          format(coexpression_threshold))\n",
    "plt.xlabel('Percent of co-expressed non-cooperonic genes that are core')\n",
    "plt.ylabel('Density')"
   ]
  },
  {
   "cell_type": "markdown",
   "metadata": {},
   "source": [
    "### Accessory gene relationships\n",
    "For a given core gene, there exists a set of genes that are co-expressed with it. What percent of those co-expressed genes are accessory?\n",
    "Similarly, for a given accessory gene, there exists a set of genes that are co-expressed with it. What percent of those co-expressed genes are accessory? "
   ]
  },
  {
   "cell_type": "code",
   "execution_count": 25,
   "metadata": {},
   "outputs": [],
   "source": [
    "# Get bins using all data\n",
    "hist, bins_acc_real = np.histogram(np.concatenate([real_core_df['percent_non_cooperonic_coexpressed_acc'].values,\n",
    "                                                   real_acc_df['percent_non_cooperonic_coexpressed_acc'].values]))"
   ]
  },
  {
   "cell_type": "code",
   "execution_count": 26,
   "metadata": {},
   "outputs": [
    {
     "name": "stderr",
     "output_type": "stream",
     "text": [
      "/home/alexandra/anaconda3/envs/core-acc/lib/python3.7/site-packages/seaborn/distributions.py:369: UserWarning: Default bandwidth for data is 0; skipping density estimation.\n",
      "  warnings.warn(msg, UserWarning)\n"
     ]
    },
    {
     "data": {
      "text/plain": [
       "Text(0, 0.5, 'Density')"
      ]
     },
     "execution_count": 26,
     "metadata": {},
     "output_type": "execute_result"
    },
    {
     "data": {
      "image/png": "[encoded data removed]",
      "text/plain": [
       "<Figure size 432x288 with 1 Axes>"
      ]
     },
     "metadata": {
      "needs_background": "light"
     },
     "output_type": "display_data"
    }
   ],
   "source": [
    "# Distribution plot for percent of accessory co-expressed genes in real data\n",
    "sns.distplot(real_core_df['percent_non_cooperonic_coexpressed_acc'].tolist(),\n",
    "             label='core', \n",
    "             color='red', \n",
    "             bins=bins_acc_real)\n",
    "\n",
    "sns.distplot(real_acc_df['percent_non_cooperonic_coexpressed_acc'].tolist(),\n",
    "             label='accessory',\n",
    "             color='blue', \n",
    "             bins=bins_acc_real)\n",
    "\n",
    "plt.legend(prop={'size': 12})\n",
    "plt.title('Percent of co-expressed non-cooperonic genes that are accessory (real data, threshold={})'.\n",
    "          format(coexpression_threshold))\n",
    "plt.xlabel('Percent of co-expressed non-cooperonic genes that are accessory')\n",
    "plt.ylabel('Density')"
   ]
  },
  {
   "cell_type": "code",
   "execution_count": 27,
   "metadata": {},
   "outputs": [],
   "source": [
    "# Get bins using all data\n",
    "hist, bins_acc_shuffled = np.histogram(\n",
    "    np.concatenate([shuffled_core_df['percent_non_cooperonic_coexpressed_acc'].values,\n",
    "                    shuffled_acc_df['percent_non_cooperonic_coexpressed_acc'].values]))"
   ]
  },
  {
   "cell_type": "code",
   "execution_count": 28,
   "metadata": {},
   "outputs": [
    {
     "data": {
      "text/plain": [
       "Text(0, 0.5, 'Density')"
      ]
     },
     "execution_count": 28,
     "metadata": {},
     "output_type": "execute_result"
    },
    {
     "data": {
      "image/png": "[encoded data removed]",
      "text/plain": [
       "<Figure size 432x288 with 1 Axes>"
      ]
     },
     "metadata": {
      "needs_background": "light"
     },
     "output_type": "display_data"
    }
   ],
   "source": [
    "# Distribution plot for percent of accessory co-expressed genes in shuffled data\n",
    "sns.distplot(shuffled_core_df['percent_non_cooperonic_coexpressed_acc'].tolist(), \n",
    "             label='core', \n",
    "             color='red',\n",
    "             bins=bins_acc_shuffled)\n",
    "sns.distplot(shuffled_acc_df['percent_non_cooperonic_coexpressed_acc'].tolist(), \n",
    "             label='accessory', \n",
    "             color='blue', \n",
    "             bins=bins_acc_shuffled)\n",
    "\n",
    "plt.legend(prop={'size': 12})\n",
    "plt.title('Percent of co-expressed non-cooperonic genes that are accessory (shuffled data, threshold={})'.\n",
    "          format(coexpression_threshold))\n",
    "plt.xlabel('Percent of co-expressed non-cooperonic genes that are accessory')\n",
    "plt.ylabel('Density')"
   ]
  },
  {
   "cell_type": "markdown",
   "metadata": {},
   "source": [
    "**Observation:**\n",
    "* Core genes tend to be co-expressed with only other core genes\n",
    "* Accessory genes tend to be co-expressed with some percent of core genes and accessory genes\n",
    "* (control) There are no relationships between core-core, core-accessory, accessory-accessory"
   ]
  },
  {
   "cell_type": "markdown",
   "metadata": {},
   "source": [
    "# Manually examine co-expressed and co-operonic genes"
   ]
  },
  {
   "cell_type": "code",
   "execution_count": 29,
   "metadata": {},
   "outputs": [],
   "source": [
    "# Pull out genes that are co-expressed AND co-operonic\n",
    "# Pull out genes that are co-expressed AND NOT co-operonic"
   ]
  }
 ],
 "metadata": {
  "kernelspec": {
   "display_name": "Python [conda env:core-acc] *",
   "language": "python",
   "name": "conda-env-core-acc-py"
  },
  "language_info": {
   "codemirror_mode": {
    "name": "ipython",
    "version": 3
   },
   "file_extension": ".py",
   "mimetype": "text/x-python",
   "name": "python",
   "nbconvert_exporter": "python",
   "pygments_lexer": "ipython3",
   "version": "3.7.6"
  }
 },
 "nbformat": 4,
 "nbformat_minor": 4
}
