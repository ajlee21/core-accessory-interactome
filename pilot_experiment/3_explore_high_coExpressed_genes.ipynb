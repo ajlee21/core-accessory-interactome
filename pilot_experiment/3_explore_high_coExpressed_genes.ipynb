{
 "cells": [
  {
   "cell_type": "markdown",
   "metadata": {},
   "source": [
    "# Explore highly co-expressed genes\n",
    "In the previous [notebook](2_explore_data.ipynb) we observed that using 39 samples with 201 PAO1-specific genes, that the correlation of accessory-accessory genes is higher compared to the correlation of core-core and core-accessory genes.\n",
    "\n",
    "Based on this finding, we want to know: *What can explain this difference in correlation distribution?*\n",
    "\n",
    "This notebook performs a follow-up analysis. In particular this notebook performs a deeper examination of the correlation structure per group (core-core, core-accessory, accessory-accessory) by looking at the trends of the nearest neighbors (i.e. highly correlated genes) of each gene."
   ]
  },
  {
   "cell_type": "code",
   "execution_count": 1,
   "metadata": {},
   "outputs": [
    {
     "name": "stderr",
     "output_type": "stream",
     "text": [
      "/home/alexandra/anaconda3/envs/core-acc/lib/python3.7/site-packages/matplotlib/__init__.py:886: MatplotlibDeprecationWarning: \n",
      "examples.directory is deprecated; in the future, examples will be found relative to the 'datapath' directory.\n",
      "  \"found relative to the 'datapath' directory.\".format(key))\n"
     ]
    }
   ],
   "source": [
    "import pandas as pd\n",
    "import os\n",
    "import pickle\n",
    "import numpy as np\n",
    "import seaborn as sns\n",
    "import matplotlib.pyplot as plt\n",
    "\n",
    "from functions import calculations\n",
    "\n",
    "np.random.seed(123)"
   ]
  },
  {
   "cell_type": "code",
   "execution_count": 2,
   "metadata": {},
   "outputs": [],
   "source": [
    "# Input\n",
    "base_dir = os.path.abspath(os.path.join(os.getcwd(),\"../\"))\n",
    "\n",
    "base_intermediate_dir = os.path.join(\n",
    "    base_dir,\n",
    "    \"pilot_experiment\",\n",
    "    \"data\",\n",
    "    \"tmp\")\n",
    "\n",
    "core_gene_ids_file = os.path.join(\n",
    "    base_intermediate_dir,\n",
    "    \"core_gene_ids.pickle\")\n",
    "\n",
    "acc_gene_ids_file = os.path.join(\n",
    "    base_intermediate_dir,\n",
    "    \"acc_gene_ids.pickle\")\n",
    "\n",
    "real_all_corr_file = os.path.join(\n",
    "    base_intermediate_dir,\n",
    "    \"real_all_corr.pickle\")\n",
    "\n",
    "shuffled_all_corr_file = os.path.join(\n",
    "    base_intermediate_dir,\n",
    "    \"shuffled_all_corr.pickle\")\n",
    "\n",
    "# Import Pseudomonas operon annotations from ADAGE repo\n",
    "# Original source of data is from DOOR\n",
    "# https://github.com/greenelab/adage/blob/master/Genome_organization/operon_3.txt\n",
    "# Operons containing at least 3 genes\n",
    "operon_file = os.path.join(\n",
    "    base_dir,\n",
    "    \"pilot_experiment\",\n",
    "    \"data\",\n",
    "    \"annotations\",\n",
    "    \"DOOR_operon_3.txt\")"
   ]
  },
  {
   "cell_type": "code",
   "execution_count": 3,
   "metadata": {},
   "outputs": [],
   "source": [
    "# Read in gene ids\n",
    "core_gene_ids = pickle.load(open(core_gene_ids_file, \"rb\"))\n",
    "acc_gene_ids = pickle.load(open(acc_gene_ids_file, \"rb\"))\n",
    "\n",
    "# Get number of core and accessory genes\n",
    "num_core_genes = len(core_gene_ids)\n",
    "num_acc_genes = len(acc_gene_ids)\n",
    "num_all_genes = num_core_genes + num_acc_genes"
   ]
  },
  {
   "cell_type": "markdown",
   "metadata": {},
   "source": [
    "# Examine highly co-expressed gene clusters\n",
    "For each core gene we will:\n",
    "1. Extract the number of genes that are highly co-expressed with it\n",
    "2. Determine the ratio of co-expressed genes that are core vs accessory\n",
    "\n",
    "Repeat this for each accessory gene"
   ]
  },
  {
   "cell_type": "code",
   "execution_count": 4,
   "metadata": {},
   "outputs": [],
   "source": [
    "# Define threshold for highly co-expressed genes\n",
    "coexpression_threshold = 0.75"
   ]
  },
  {
   "cell_type": "markdown",
   "metadata": {},
   "source": [
    "### Co-expression patterns in real data"
   ]
  },
  {
   "cell_type": "code",
   "execution_count": 5,
   "metadata": {},
   "outputs": [],
   "source": [
    "# Get co-expression patterns using real expression data\n",
    "real_core_df, real_acc_df = calculations.get_coexpression_stats(real_all_corr_file,\n",
    "                                                                operon_file,\n",
    "                                                                core_gene_ids_file,\n",
    "                                                                acc_gene_ids_file,\n",
    "                                                                coexpression_threshold)"
   ]
  },
  {
   "cell_type": "code",
   "execution_count": 6,
   "metadata": {},
   "outputs": [
    {
     "data": {
      "text/html": [
       "<div>\n",
       "<style scoped>\n",
       "    .dataframe tbody tr th:only-of-type {\n",
       "        vertical-align: middle;\n",
       "    }\n",
       "\n",
       "    .dataframe tbody tr th {\n",
       "        vertical-align: top;\n",
       "    }\n",
       "\n",
       "    .dataframe thead th {\n",
       "        text-align: right;\n",
       "    }\n",
       "</style>\n",
       "<table border=\"1\" class=\"dataframe\">\n",
       "  <thead>\n",
       "    <tr style=\"text-align: right;\">\n",
       "      <th></th>\n",
       "      <th>ref_gene</th>\n",
       "      <th>num_coexpressed_genes</th>\n",
       "      <th>num_coexpressed_core</th>\n",
       "      <th>num_coexpressed_acc</th>\n",
       "      <th>percent_coexpressed_core</th>\n",
       "      <th>percent_coexpressed_acc</th>\n",
       "      <th>num_non_cooperonic_coexpressed_genes</th>\n",
       "      <th>num_non_cooperonic_coexpressed_core</th>\n",
       "      <th>num_non_cooperonic_coexpressed_acc</th>\n",
       "      <th>percent_non_cooperonic_coexpressed_core</th>\n",
       "      <th>percent_non_cooperonic_coexpressed_acc</th>\n",
       "    </tr>\n",
       "  </thead>\n",
       "  <tbody>\n",
       "    <tr>\n",
       "      <th>PA0001</th>\n",
       "      <td>PA0001</td>\n",
       "      <td>8</td>\n",
       "      <td>8</td>\n",
       "      <td>0</td>\n",
       "      <td>1.000000</td>\n",
       "      <td>0.000000</td>\n",
       "      <td>8</td>\n",
       "      <td>8</td>\n",
       "      <td>0</td>\n",
       "      <td>1.000000</td>\n",
       "      <td>0.000000</td>\n",
       "    </tr>\n",
       "    <tr>\n",
       "      <th>PA0002</th>\n",
       "      <td>PA0002</td>\n",
       "      <td>167</td>\n",
       "      <td>166</td>\n",
       "      <td>1</td>\n",
       "      <td>0.994012</td>\n",
       "      <td>0.005988</td>\n",
       "      <td>166</td>\n",
       "      <td>165</td>\n",
       "      <td>1</td>\n",
       "      <td>0.993976</td>\n",
       "      <td>0.006024</td>\n",
       "    </tr>\n",
       "    <tr>\n",
       "      <th>PA0003</th>\n",
       "      <td>PA0003</td>\n",
       "      <td>85</td>\n",
       "      <td>85</td>\n",
       "      <td>0</td>\n",
       "      <td>1.000000</td>\n",
       "      <td>0.000000</td>\n",
       "      <td>84</td>\n",
       "      <td>84</td>\n",
       "      <td>0</td>\n",
       "      <td>1.000000</td>\n",
       "      <td>0.000000</td>\n",
       "    </tr>\n",
       "    <tr>\n",
       "      <th>PA0004</th>\n",
       "      <td>PA0004</td>\n",
       "      <td>145</td>\n",
       "      <td>145</td>\n",
       "      <td>0</td>\n",
       "      <td>1.000000</td>\n",
       "      <td>0.000000</td>\n",
       "      <td>145</td>\n",
       "      <td>145</td>\n",
       "      <td>0</td>\n",
       "      <td>1.000000</td>\n",
       "      <td>0.000000</td>\n",
       "    </tr>\n",
       "    <tr>\n",
       "      <th>PA0005</th>\n",
       "      <td>PA0005</td>\n",
       "      <td>0</td>\n",
       "      <td>0</td>\n",
       "      <td>0</td>\n",
       "      <td>0.000000</td>\n",
       "      <td>0.000000</td>\n",
       "      <td>0</td>\n",
       "      <td>0</td>\n",
       "      <td>0</td>\n",
       "      <td>0.000000</td>\n",
       "      <td>0.000000</td>\n",
       "    </tr>\n",
       "  </tbody>\n",
       "</table>\n",
       "</div>"
      ],
      "text/plain": [
       "       ref_gene  num_coexpressed_genes  num_coexpressed_core  \\\n",
       "PA0001   PA0001                      8                     8   \n",
       "PA0002   PA0002                    167                   166   \n",
       "PA0003   PA0003                     85                    85   \n",
       "PA0004   PA0004                    145                   145   \n",
       "PA0005   PA0005                      0                     0   \n",
       "\n",
       "        num_coexpressed_acc  percent_coexpressed_core  \\\n",
       "PA0001                    0                  1.000000   \n",
       "PA0002                    1                  0.994012   \n",
       "PA0003                    0                  1.000000   \n",
       "PA0004                    0                  1.000000   \n",
       "PA0005                    0                  0.000000   \n",
       "\n",
       "        percent_coexpressed_acc  num_non_cooperonic_coexpressed_genes  \\\n",
       "PA0001                 0.000000                                     8   \n",
       "PA0002                 0.005988                                   166   \n",
       "PA0003                 0.000000                                    84   \n",
       "PA0004                 0.000000                                   145   \n",
       "PA0005                 0.000000                                     0   \n",
       "\n",
       "        num_non_cooperonic_coexpressed_core  \\\n",
       "PA0001                                    8   \n",
       "PA0002                                  165   \n",
       "PA0003                                   84   \n",
       "PA0004                                  145   \n",
       "PA0005                                    0   \n",
       "\n",
       "        num_non_cooperonic_coexpressed_acc  \\\n",
       "PA0001                                   0   \n",
       "PA0002                                   1   \n",
       "PA0003                                   0   \n",
       "PA0004                                   0   \n",
       "PA0005                                   0   \n",
       "\n",
       "        percent_non_cooperonic_coexpressed_core  \\\n",
       "PA0001                                 1.000000   \n",
       "PA0002                                 0.993976   \n",
       "PA0003                                 1.000000   \n",
       "PA0004                                 1.000000   \n",
       "PA0005                                 0.000000   \n",
       "\n",
       "        percent_non_cooperonic_coexpressed_acc  \n",
       "PA0001                                0.000000  \n",
       "PA0002                                0.006024  \n",
       "PA0003                                0.000000  \n",
       "PA0004                                0.000000  \n",
       "PA0005                                0.000000  "
      ]
     },
     "execution_count": 6,
     "metadata": {},
     "output_type": "execute_result"
    }
   ],
   "source": [
    "real_core_df.head()"
   ]
  },
  {
   "cell_type": "code",
   "execution_count": 7,
   "metadata": {},
   "outputs": [
    {
     "data": {
      "text/html": [
       "<div>\n",
       "<style scoped>\n",
       "    .dataframe tbody tr th:only-of-type {\n",
       "        vertical-align: middle;\n",
       "    }\n",
       "\n",
       "    .dataframe tbody tr th {\n",
       "        vertical-align: top;\n",
       "    }\n",
       "\n",
       "    .dataframe thead th {\n",
       "        text-align: right;\n",
       "    }\n",
       "</style>\n",
       "<table border=\"1\" class=\"dataframe\">\n",
       "  <thead>\n",
       "    <tr style=\"text-align: right;\">\n",
       "      <th></th>\n",
       "      <th>ref_gene</th>\n",
       "      <th>num_coexpressed_genes</th>\n",
       "      <th>num_coexpressed_core</th>\n",
       "      <th>num_coexpressed_acc</th>\n",
       "      <th>percent_coexpressed_core</th>\n",
       "      <th>percent_coexpressed_acc</th>\n",
       "      <th>num_non_cooperonic_coexpressed_genes</th>\n",
       "      <th>num_non_cooperonic_coexpressed_core</th>\n",
       "      <th>num_non_cooperonic_coexpressed_acc</th>\n",
       "      <th>percent_non_cooperonic_coexpressed_core</th>\n",
       "      <th>percent_non_cooperonic_coexpressed_acc</th>\n",
       "    </tr>\n",
       "  </thead>\n",
       "  <tbody>\n",
       "    <tr>\n",
       "      <th>PA0053</th>\n",
       "      <td>PA0053</td>\n",
       "      <td>195</td>\n",
       "      <td>145</td>\n",
       "      <td>50</td>\n",
       "      <td>0.743590</td>\n",
       "      <td>0.256410</td>\n",
       "      <td>195</td>\n",
       "      <td>145</td>\n",
       "      <td>50</td>\n",
       "      <td>0.743590</td>\n",
       "      <td>0.256410</td>\n",
       "    </tr>\n",
       "    <tr>\n",
       "      <th>PA0095</th>\n",
       "      <td>PA0095</td>\n",
       "      <td>8</td>\n",
       "      <td>7</td>\n",
       "      <td>1</td>\n",
       "      <td>0.875000</td>\n",
       "      <td>0.125000</td>\n",
       "      <td>8</td>\n",
       "      <td>7</td>\n",
       "      <td>1</td>\n",
       "      <td>0.875000</td>\n",
       "      <td>0.125000</td>\n",
       "    </tr>\n",
       "    <tr>\n",
       "      <th>PA0100</th>\n",
       "      <td>PA0100</td>\n",
       "      <td>103</td>\n",
       "      <td>59</td>\n",
       "      <td>44</td>\n",
       "      <td>0.572816</td>\n",
       "      <td>0.427184</td>\n",
       "      <td>102</td>\n",
       "      <td>58</td>\n",
       "      <td>44</td>\n",
       "      <td>0.568627</td>\n",
       "      <td>0.431373</td>\n",
       "    </tr>\n",
       "    <tr>\n",
       "      <th>PA0135</th>\n",
       "      <td>PA0135</td>\n",
       "      <td>14</td>\n",
       "      <td>6</td>\n",
       "      <td>8</td>\n",
       "      <td>0.428571</td>\n",
       "      <td>0.571429</td>\n",
       "      <td>14</td>\n",
       "      <td>6</td>\n",
       "      <td>8</td>\n",
       "      <td>0.428571</td>\n",
       "      <td>0.571429</td>\n",
       "    </tr>\n",
       "    <tr>\n",
       "      <th>PA0187</th>\n",
       "      <td>PA0187</td>\n",
       "      <td>1</td>\n",
       "      <td>0</td>\n",
       "      <td>1</td>\n",
       "      <td>0.000000</td>\n",
       "      <td>0.000000</td>\n",
       "      <td>1</td>\n",
       "      <td>0</td>\n",
       "      <td>1</td>\n",
       "      <td>0.000000</td>\n",
       "      <td>0.000000</td>\n",
       "    </tr>\n",
       "  </tbody>\n",
       "</table>\n",
       "</div>"
      ],
      "text/plain": [
       "       ref_gene  num_coexpressed_genes  num_coexpressed_core  \\\n",
       "PA0053   PA0053                    195                   145   \n",
       "PA0095   PA0095                      8                     7   \n",
       "PA0100   PA0100                    103                    59   \n",
       "PA0135   PA0135                     14                     6   \n",
       "PA0187   PA0187                      1                     0   \n",
       "\n",
       "        num_coexpressed_acc  percent_coexpressed_core  \\\n",
       "PA0053                   50                  0.743590   \n",
       "PA0095                    1                  0.875000   \n",
       "PA0100                   44                  0.572816   \n",
       "PA0135                    8                  0.428571   \n",
       "PA0187                    1                  0.000000   \n",
       "\n",
       "        percent_coexpressed_acc  num_non_cooperonic_coexpressed_genes  \\\n",
       "PA0053                 0.256410                                   195   \n",
       "PA0095                 0.125000                                     8   \n",
       "PA0100                 0.427184                                   102   \n",
       "PA0135                 0.571429                                    14   \n",
       "PA0187                 0.000000                                     1   \n",
       "\n",
       "        num_non_cooperonic_coexpressed_core  \\\n",
       "PA0053                                  145   \n",
       "PA0095                                    7   \n",
       "PA0100                                   58   \n",
       "PA0135                                    6   \n",
       "PA0187                                    0   \n",
       "\n",
       "        num_non_cooperonic_coexpressed_acc  \\\n",
       "PA0053                                  50   \n",
       "PA0095                                   1   \n",
       "PA0100                                  44   \n",
       "PA0135                                   8   \n",
       "PA0187                                   1   \n",
       "\n",
       "        percent_non_cooperonic_coexpressed_core  \\\n",
       "PA0053                                 0.743590   \n",
       "PA0095                                 0.875000   \n",
       "PA0100                                 0.568627   \n",
       "PA0135                                 0.428571   \n",
       "PA0187                                 0.000000   \n",
       "\n",
       "        percent_non_cooperonic_coexpressed_acc  \n",
       "PA0053                                0.256410  \n",
       "PA0095                                0.125000  \n",
       "PA0100                                0.431373  \n",
       "PA0135                                0.571429  \n",
       "PA0187                                0.000000  "
      ]
     },
     "execution_count": 7,
     "metadata": {},
     "output_type": "execute_result"
    }
   ],
   "source": [
    "real_acc_df.head()"
   ]
  },
  {
   "cell_type": "markdown",
   "metadata": {},
   "source": [
    "## Co-expression patterns in shuffled data"
   ]
  },
  {
   "cell_type": "code",
   "execution_count": 8,
   "metadata": {},
   "outputs": [
    {
     "data": {
      "text/html": [
       "<div>\n",
       "<style scoped>\n",
       "    .dataframe tbody tr th:only-of-type {\n",
       "        vertical-align: middle;\n",
       "    }\n",
       "\n",
       "    .dataframe tbody tr th {\n",
       "        vertical-align: top;\n",
       "    }\n",
       "\n",
       "    .dataframe thead th {\n",
       "        text-align: right;\n",
       "    }\n",
       "</style>\n",
       "<table border=\"1\" class=\"dataframe\">\n",
       "  <thead>\n",
       "    <tr style=\"text-align: right;\">\n",
       "      <th></th>\n",
       "      <th>ref_gene</th>\n",
       "      <th>num_coexpressed_genes</th>\n",
       "      <th>num_coexpressed_core</th>\n",
       "      <th>num_coexpressed_acc</th>\n",
       "      <th>percent_coexpressed_core</th>\n",
       "      <th>percent_coexpressed_acc</th>\n",
       "      <th>num_non_cooperonic_coexpressed_genes</th>\n",
       "      <th>num_non_cooperonic_coexpressed_core</th>\n",
       "      <th>num_non_cooperonic_coexpressed_acc</th>\n",
       "      <th>percent_non_cooperonic_coexpressed_core</th>\n",
       "      <th>percent_non_cooperonic_coexpressed_acc</th>\n",
       "    </tr>\n",
       "  </thead>\n",
       "  <tbody>\n",
       "    <tr>\n",
       "      <th>PA0001</th>\n",
       "      <td>PA0001</td>\n",
       "      <td>0</td>\n",
       "      <td>0</td>\n",
       "      <td>0</td>\n",
       "      <td>0.0</td>\n",
       "      <td>0.0</td>\n",
       "      <td>0</td>\n",
       "      <td>0</td>\n",
       "      <td>0</td>\n",
       "      <td>0.0</td>\n",
       "      <td>0.0</td>\n",
       "    </tr>\n",
       "    <tr>\n",
       "      <th>PA0002</th>\n",
       "      <td>PA0002</td>\n",
       "      <td>0</td>\n",
       "      <td>0</td>\n",
       "      <td>0</td>\n",
       "      <td>0.0</td>\n",
       "      <td>0.0</td>\n",
       "      <td>0</td>\n",
       "      <td>0</td>\n",
       "      <td>0</td>\n",
       "      <td>0.0</td>\n",
       "      <td>0.0</td>\n",
       "    </tr>\n",
       "    <tr>\n",
       "      <th>PA0003</th>\n",
       "      <td>PA0003</td>\n",
       "      <td>0</td>\n",
       "      <td>0</td>\n",
       "      <td>0</td>\n",
       "      <td>0.0</td>\n",
       "      <td>0.0</td>\n",
       "      <td>0</td>\n",
       "      <td>0</td>\n",
       "      <td>0</td>\n",
       "      <td>0.0</td>\n",
       "      <td>0.0</td>\n",
       "    </tr>\n",
       "    <tr>\n",
       "      <th>PA0004</th>\n",
       "      <td>PA0004</td>\n",
       "      <td>0</td>\n",
       "      <td>0</td>\n",
       "      <td>0</td>\n",
       "      <td>0.0</td>\n",
       "      <td>0.0</td>\n",
       "      <td>0</td>\n",
       "      <td>0</td>\n",
       "      <td>0</td>\n",
       "      <td>0.0</td>\n",
       "      <td>0.0</td>\n",
       "    </tr>\n",
       "    <tr>\n",
       "      <th>PA0005</th>\n",
       "      <td>PA0005</td>\n",
       "      <td>0</td>\n",
       "      <td>0</td>\n",
       "      <td>0</td>\n",
       "      <td>0.0</td>\n",
       "      <td>0.0</td>\n",
       "      <td>0</td>\n",
       "      <td>0</td>\n",
       "      <td>0</td>\n",
       "      <td>0.0</td>\n",
       "      <td>0.0</td>\n",
       "    </tr>\n",
       "  </tbody>\n",
       "</table>\n",
       "</div>"
      ],
      "text/plain": [
       "       ref_gene  num_coexpressed_genes  num_coexpressed_core  \\\n",
       "PA0001   PA0001                      0                     0   \n",
       "PA0002   PA0002                      0                     0   \n",
       "PA0003   PA0003                      0                     0   \n",
       "PA0004   PA0004                      0                     0   \n",
       "PA0005   PA0005                      0                     0   \n",
       "\n",
       "        num_coexpressed_acc  percent_coexpressed_core  \\\n",
       "PA0001                    0                       0.0   \n",
       "PA0002                    0                       0.0   \n",
       "PA0003                    0                       0.0   \n",
       "PA0004                    0                       0.0   \n",
       "PA0005                    0                       0.0   \n",
       "\n",
       "        percent_coexpressed_acc  num_non_cooperonic_coexpressed_genes  \\\n",
       "PA0001                      0.0                                     0   \n",
       "PA0002                      0.0                                     0   \n",
       "PA0003                      0.0                                     0   \n",
       "PA0004                      0.0                                     0   \n",
       "PA0005                      0.0                                     0   \n",
       "\n",
       "        num_non_cooperonic_coexpressed_core  \\\n",
       "PA0001                                    0   \n",
       "PA0002                                    0   \n",
       "PA0003                                    0   \n",
       "PA0004                                    0   \n",
       "PA0005                                    0   \n",
       "\n",
       "        num_non_cooperonic_coexpressed_acc  \\\n",
       "PA0001                                   0   \n",
       "PA0002                                   0   \n",
       "PA0003                                   0   \n",
       "PA0004                                   0   \n",
       "PA0005                                   0   \n",
       "\n",
       "        percent_non_cooperonic_coexpressed_core  \\\n",
       "PA0001                                      0.0   \n",
       "PA0002                                      0.0   \n",
       "PA0003                                      0.0   \n",
       "PA0004                                      0.0   \n",
       "PA0005                                      0.0   \n",
       "\n",
       "        percent_non_cooperonic_coexpressed_acc  \n",
       "PA0001                                     0.0  \n",
       "PA0002                                     0.0  \n",
       "PA0003                                     0.0  \n",
       "PA0004                                     0.0  \n",
       "PA0005                                     0.0  "
      ]
     },
     "execution_count": 8,
     "metadata": {},
     "output_type": "execute_result"
    }
   ],
   "source": [
    "# Get co-expression patterns using shuffled expression data (control)\n",
    "shuffled_core_df, shuffled_acc_df = calculations.get_coexpression_stats(shuffled_all_corr_file,\n",
    "                                                                operon_file,\n",
    "                                                                core_gene_ids_file,\n",
    "                                                                acc_gene_ids_file,\n",
    "                                                                coexpression_threshold)\n",
    "\n",
    "shuffled_core_df.head()"
   ]
  },
  {
   "cell_type": "code",
   "execution_count": 9,
   "metadata": {},
   "outputs": [
    {
     "data": {
      "text/html": [
       "<div>\n",
       "<style scoped>\n",
       "    .dataframe tbody tr th:only-of-type {\n",
       "        vertical-align: middle;\n",
       "    }\n",
       "\n",
       "    .dataframe tbody tr th {\n",
       "        vertical-align: top;\n",
       "    }\n",
       "\n",
       "    .dataframe thead th {\n",
       "        text-align: right;\n",
       "    }\n",
       "</style>\n",
       "<table border=\"1\" class=\"dataframe\">\n",
       "  <thead>\n",
       "    <tr style=\"text-align: right;\">\n",
       "      <th></th>\n",
       "      <th>ref_gene</th>\n",
       "      <th>num_coexpressed_genes</th>\n",
       "      <th>num_coexpressed_core</th>\n",
       "      <th>num_coexpressed_acc</th>\n",
       "      <th>percent_coexpressed_core</th>\n",
       "      <th>percent_coexpressed_acc</th>\n",
       "      <th>num_non_cooperonic_coexpressed_genes</th>\n",
       "      <th>num_non_cooperonic_coexpressed_core</th>\n",
       "      <th>num_non_cooperonic_coexpressed_acc</th>\n",
       "      <th>percent_non_cooperonic_coexpressed_core</th>\n",
       "      <th>percent_non_cooperonic_coexpressed_acc</th>\n",
       "    </tr>\n",
       "  </thead>\n",
       "  <tbody>\n",
       "    <tr>\n",
       "      <th>PA0053</th>\n",
       "      <td>PA0053</td>\n",
       "      <td>0</td>\n",
       "      <td>0</td>\n",
       "      <td>0</td>\n",
       "      <td>0</td>\n",
       "      <td>0</td>\n",
       "      <td>0</td>\n",
       "      <td>0</td>\n",
       "      <td>0</td>\n",
       "      <td>0</td>\n",
       "      <td>0</td>\n",
       "    </tr>\n",
       "    <tr>\n",
       "      <th>PA0095</th>\n",
       "      <td>PA0095</td>\n",
       "      <td>0</td>\n",
       "      <td>0</td>\n",
       "      <td>0</td>\n",
       "      <td>0</td>\n",
       "      <td>0</td>\n",
       "      <td>0</td>\n",
       "      <td>0</td>\n",
       "      <td>0</td>\n",
       "      <td>0</td>\n",
       "      <td>0</td>\n",
       "    </tr>\n",
       "    <tr>\n",
       "      <th>PA0100</th>\n",
       "      <td>PA0100</td>\n",
       "      <td>0</td>\n",
       "      <td>0</td>\n",
       "      <td>0</td>\n",
       "      <td>0</td>\n",
       "      <td>0</td>\n",
       "      <td>0</td>\n",
       "      <td>0</td>\n",
       "      <td>0</td>\n",
       "      <td>0</td>\n",
       "      <td>0</td>\n",
       "    </tr>\n",
       "    <tr>\n",
       "      <th>PA0135</th>\n",
       "      <td>PA0135</td>\n",
       "      <td>0</td>\n",
       "      <td>0</td>\n",
       "      <td>0</td>\n",
       "      <td>0</td>\n",
       "      <td>0</td>\n",
       "      <td>0</td>\n",
       "      <td>0</td>\n",
       "      <td>0</td>\n",
       "      <td>0</td>\n",
       "      <td>0</td>\n",
       "    </tr>\n",
       "    <tr>\n",
       "      <th>PA0187</th>\n",
       "      <td>PA0187</td>\n",
       "      <td>0</td>\n",
       "      <td>0</td>\n",
       "      <td>0</td>\n",
       "      <td>0</td>\n",
       "      <td>0</td>\n",
       "      <td>0</td>\n",
       "      <td>0</td>\n",
       "      <td>0</td>\n",
       "      <td>0</td>\n",
       "      <td>0</td>\n",
       "    </tr>\n",
       "  </tbody>\n",
       "</table>\n",
       "</div>"
      ],
      "text/plain": [
       "       ref_gene  num_coexpressed_genes  num_coexpressed_core  \\\n",
       "PA0053   PA0053                      0                     0   \n",
       "PA0095   PA0095                      0                     0   \n",
       "PA0100   PA0100                      0                     0   \n",
       "PA0135   PA0135                      0                     0   \n",
       "PA0187   PA0187                      0                     0   \n",
       "\n",
       "        num_coexpressed_acc  percent_coexpressed_core  \\\n",
       "PA0053                    0                         0   \n",
       "PA0095                    0                         0   \n",
       "PA0100                    0                         0   \n",
       "PA0135                    0                         0   \n",
       "PA0187                    0                         0   \n",
       "\n",
       "        percent_coexpressed_acc  num_non_cooperonic_coexpressed_genes  \\\n",
       "PA0053                        0                                     0   \n",
       "PA0095                        0                                     0   \n",
       "PA0100                        0                                     0   \n",
       "PA0135                        0                                     0   \n",
       "PA0187                        0                                     0   \n",
       "\n",
       "        num_non_cooperonic_coexpressed_core  \\\n",
       "PA0053                                    0   \n",
       "PA0095                                    0   \n",
       "PA0100                                    0   \n",
       "PA0135                                    0   \n",
       "PA0187                                    0   \n",
       "\n",
       "        num_non_cooperonic_coexpressed_acc  \\\n",
       "PA0053                                   0   \n",
       "PA0095                                   0   \n",
       "PA0100                                   0   \n",
       "PA0135                                   0   \n",
       "PA0187                                   0   \n",
       "\n",
       "        percent_non_cooperonic_coexpressed_core  \\\n",
       "PA0053                                        0   \n",
       "PA0095                                        0   \n",
       "PA0100                                        0   \n",
       "PA0135                                        0   \n",
       "PA0187                                        0   \n",
       "\n",
       "        percent_non_cooperonic_coexpressed_acc  \n",
       "PA0053                                       0  \n",
       "PA0095                                       0  \n",
       "PA0100                                       0  \n",
       "PA0135                                       0  \n",
       "PA0187                                       0  "
      ]
     },
     "execution_count": 9,
     "metadata": {},
     "output_type": "execute_result"
    }
   ],
   "source": [
    "shuffled_acc_df.head()"
   ]
  },
  {
   "cell_type": "markdown",
   "metadata": {},
   "source": [
    "# Plot trends in co-expression data"
   ]
  },
  {
   "cell_type": "markdown",
   "metadata": {},
   "source": [
    "### Number of co-expressed genes"
   ]
  },
  {
   "cell_type": "code",
   "execution_count": 10,
   "metadata": {},
   "outputs": [],
   "source": [
    "# Get bins using all data\n",
    "hist, bins_num_coexpressed_real = np.histogram(np.concatenate([real_core_df['num_coexpressed_genes'].values,\n",
    "                                                               real_acc_df['num_coexpressed_genes'].values]))"
   ]
  },
  {
   "cell_type": "code",
   "execution_count": 11,
   "metadata": {
    "scrolled": false
   },
   "outputs": [
    {
     "name": "stderr",
     "output_type": "stream",
     "text": [
      "/home/alexandra/anaconda3/envs/core-acc/lib/python3.7/site-packages/scipy/stats/stats.py:1713: FutureWarning: Using a non-tuple sequence for multidimensional indexing is deprecated; use `arr[tuple(seq)]` instead of `arr[seq]`. In the future this will be interpreted as an array index, `arr[np.array(seq)]`, which will result either in an error or a different result.\n",
      "  return np.add.reduce(sorted[indexer] * weights, axis=axis) / sumval\n"
     ]
    },
    {
     "data": {
      "text/plain": [
       "Text(0, 0.5, 'Density')"
      ]
     },
     "execution_count": 11,
     "metadata": {},
     "output_type": "execute_result"
    },
    {
     "data": {
      "image/png": "[encoded data removed]",
      "text/plain": [
       "<Figure size 432x288 with 1 Axes>"
      ]
     },
     "metadata": {
      "needs_background": "light"
     },
     "output_type": "display_data"
    }
   ],
   "source": [
    "# Distribution of number of co-expressed genes in real data\n",
    "sns.distplot(real_core_df['num_coexpressed_genes'].tolist(), \n",
    "             label='core',\n",
    "             color='red',\n",
    "             bins=bins_num_coexpressed_real)\n",
    "\n",
    "sns.distplot(real_acc_df['num_coexpressed_genes'].tolist(), \n",
    "             label='accessory',\n",
    "             color='blue',\n",
    "             bins=bins_num_coexpressed_real)\n",
    "\n",
    "plt.legend(prop={'size': 12})\n",
    "plt.title('Number of co-expressed genes (real data, threshold={})'.format(coexpression_threshold))\n",
    "plt.xlabel('Number of co-expressed genes')\n",
    "plt.ylabel('Density')"
   ]
  },
  {
   "cell_type": "code",
   "execution_count": 12,
   "metadata": {},
   "outputs": [],
   "source": [
    "# Get bins using all data\n",
    "hist, bins_num_coexpressed_shuffled = np.histogram(np.concatenate([shuffled_core_df['num_coexpressed_genes'].values,\n",
    "                                                                   shuffled_acc_df['num_coexpressed_genes'].values]))"
   ]
  },
  {
   "cell_type": "code",
   "execution_count": 13,
   "metadata": {},
   "outputs": [
    {
     "name": "stderr",
     "output_type": "stream",
     "text": [
      "/home/alexandra/anaconda3/envs/core-acc/lib/python3.7/site-packages/seaborn/distributions.py:369: UserWarning: Default bandwidth for data is 0; skipping density estimation.\n",
      "  warnings.warn(msg, UserWarning)\n",
      "/home/alexandra/anaconda3/envs/core-acc/lib/python3.7/site-packages/seaborn/distributions.py:283: UserWarning: Data must have variance to compute a kernel density estimate.\n",
      "  warnings.warn(msg, UserWarning)\n"
     ]
    },
    {
     "data": {
      "text/plain": [
       "Text(0, 0.5, 'Density')"
      ]
     },
     "execution_count": 13,
     "metadata": {},
     "output_type": "execute_result"
    },
    {
     "data": {
      "image/png": "[encoded data removed]",
      "text/plain": [
       "<Figure size 432x288 with 1 Axes>"
      ]
     },
     "metadata": {
      "needs_background": "light"
     },
     "output_type": "display_data"
    }
   ],
   "source": [
    "# Distribution of number of co-expressed genes in shuffled data\n",
    "sns.distplot(shuffled_core_df['num_coexpressed_genes'].tolist(), \n",
    "             label='core',\n",
    "             color='red',\n",
    "             bins=bins_num_coexpressed_shuffled)\n",
    "\n",
    "sns.distplot(shuffled_acc_df['num_coexpressed_genes'].tolist(), \n",
    "             label='accessory', \n",
    "             color='blue',\n",
    "             bins=bins_num_coexpressed_shuffled)\n",
    "\n",
    "plt.legend(prop={'size': 12})\n",
    "plt.title('Number of co-expressed genes (shuffled data, threshold={})'.format(coexpression_threshold))\n",
    "plt.xlabel('Number of co-expressed genes')\n",
    "plt.ylabel('Density')"
   ]
  },
  {
   "cell_type": "code",
   "execution_count": 14,
   "metadata": {},
   "outputs": [
    {
     "name": "stdout",
     "output_type": "stream",
     "text": [
      "Using a threshold of 0.75 to define co-expression (real data): \n",
      "\n",
      "- For a given CORE gene, there is a median of 18.0 co-expressed  genes\n",
      "- For a given ACCESSORY gene, there is a median of 22.0 co-expressed  genes \n",
      "\n",
      "Using a threshold of 0.75 to define co-expression (shuffled data): \n",
      "\n",
      "- For a given CORE gene, there is a median of 0.0 co-expressed  genes\n",
      "- For a given ACCESSORY gene, there is a median of 0.0 co-expressed  genes\n"
     ]
    }
   ],
   "source": [
    "# Print statistics about co-expressed genes\n",
    "print('Using a threshold of {} to define co-expression (real data): \\n'.\n",
    "     format(coexpression_threshold))\n",
    "print('- For a given CORE gene, there is a median of {} co-expressed  genes'.\n",
    "      format(np.median(real_core_df['num_coexpressed_genes'])))\n",
    "print('- For a given ACCESSORY gene, there is a median of {} co-expressed  genes \\n'.\n",
    "      format(np.median(real_acc_df['num_coexpressed_genes'])))\n",
    "\n",
    "# For shuffled data\n",
    "print('Using a threshold of {} to define co-expression (shuffled data): \\n'.\n",
    "     format(coexpression_threshold))\n",
    "print('- For a given CORE gene, there is a median of {} co-expressed  genes'.\n",
    "      format(np.median(shuffled_core_df['num_coexpressed_genes'])))\n",
    "print('- For a given ACCESSORY gene, there is a median of {} co-expressed  genes'.\n",
    "      format(np.median(shuffled_acc_df['num_coexpressed_genes'])))"
   ]
  },
  {
   "cell_type": "markdown",
   "metadata": {},
   "source": [
    "**Observation:**\n",
    "* Most core and accessory genes are not co-expressed with other genes\n",
    "* As you decrease the threshold, many core and accessory genes are co-expressed with 0 to several genes\n",
    "* (control) All genes are independent, as expected, since we have destroyed relationships between genes when we shuffled\n",
    "* If using a more strict definition..."
   ]
  },
  {
   "cell_type": "markdown",
   "metadata": {},
   "source": [
    "### Percent of co-expressed genes that are not in the same operon"
   ]
  },
  {
   "cell_type": "code",
   "execution_count": 15,
   "metadata": {},
   "outputs": [],
   "source": [
    "# Calculate the percent of co-expressed genes that are non co-operonic (real data)\n",
    "real_percent_non_cooperonic_coexpressed_core_genes = (\n",
    "    real_core_df['num_non_cooperonic_coexpressed_genes']/real_core_df['num_coexpressed_genes'])\n",
    "\n",
    "real_percent_non_cooperonic_coexpressed_acc_genes = (\n",
    "    real_acc_df['num_non_cooperonic_coexpressed_genes']/real_acc_df['num_coexpressed_genes'])\n",
    "\n",
    "# There are NaNs in cases where there are 0 co-expressed genes and therefore 0 non-cooperonic genes\n",
    "real_num_core_na = real_percent_non_cooperonic_coexpressed_core_genes.isna().sum()\n",
    "real_num_acc_na = real_percent_non_cooperonic_coexpressed_acc_genes.isna().sum()\n",
    "\n",
    "# Since we are concerned with \"of those co-expressed genes how many are in NOT in the same operon\", we will remove these\n",
    "real_percent_non_cooperonic_coexpressed_core_genes_noNa = real_percent_non_cooperonic_coexpressed_core_genes.dropna(inplace=False)\n",
    "real_percent_non_cooperonic_coexpressed_acc_genes_noNa = real_percent_non_cooperonic_coexpressed_acc_genes.dropna(inplace=False)"
   ]
  },
  {
   "cell_type": "code",
   "execution_count": 16,
   "metadata": {},
   "outputs": [
    {
     "data": {
      "text/plain": [
       "Text(0, 0.5, 'Density')"
      ]
     },
     "execution_count": 16,
     "metadata": {},
     "output_type": "execute_result"
    },
    {
     "data": {
      "image/png": "[encoded data removed]",
      "text/plain": [
       "<Figure size 432x288 with 1 Axes>"
      ]
     },
     "metadata": {
      "needs_background": "light"
     },
     "output_type": "display_data"
    }
   ],
   "source": [
    "## TEST: What does distribution look like before removing NaNs?\n",
    "\n",
    "# Get bins using all data\n",
    "hist, bins_num_percent_non_cooperonic_real = np.histogram(\n",
    "    np.concatenate(\n",
    "        [real_percent_non_cooperonic_coexpressed_core_genes.fillna(0),\n",
    "         real_percent_non_cooperonic_coexpressed_acc_genes.fillna(0)]\n",
    "    )\n",
    ")\n",
    "# Distribution of percent of co-expressed genes that are NOT co-operonic in real data\n",
    "sns.distplot(real_percent_non_cooperonic_coexpressed_core_genes.fillna(0),\n",
    "             label='core',\n",
    "             color='red',\n",
    "             bins=bins_num_percent_non_cooperonic_real)\n",
    "sns.distplot(real_percent_non_cooperonic_coexpressed_acc_genes.fillna(0), \n",
    "             label='accessory',\n",
    "             color='blue', \n",
    "             bins=bins_num_percent_non_cooperonic_real)\n",
    "\n",
    "plt.legend(prop={'size': 12})\n",
    "plt.title('Percent of co-expressed genes that are NOT co-operonic (real data, threshold={})'.\n",
    "          format(coexpression_threshold))\n",
    "plt.xlabel('Percent of co-expressed non-cooperonic genes')\n",
    "plt.ylabel('Density')"
   ]
  },
  {
   "cell_type": "code",
   "execution_count": 17,
   "metadata": {},
   "outputs": [
    {
     "data": {
      "text/plain": [
       "Text(0, 0.5, 'Density')"
      ]
     },
     "execution_count": 17,
     "metadata": {},
     "output_type": "execute_result"
    },
    {
     "data": {
      "image/png": "[encoded data removed]",
      "text/plain": [
       "<Figure size 432x288 with 1 Axes>"
      ]
     },
     "metadata": {
      "needs_background": "light"
     },
     "output_type": "display_data"
    }
   ],
   "source": [
    "# Get bins using all data\n",
    "hist, bins_num_percent_non_cooperonic_real = np.histogram(\n",
    "    np.concatenate(\n",
    "        [real_percent_non_cooperonic_coexpressed_core_genes_noNa,\n",
    "         real_percent_non_cooperonic_coexpressed_acc_genes_noNa]\n",
    "    )\n",
    ")\n",
    "\n",
    "# Distribution of percent of co-expressed genes that are NOT co-operonic in real data\n",
    "sns.distplot(real_percent_non_cooperonic_coexpressed_core_genes_noNa,\n",
    "             label='core',\n",
    "             color='red',\n",
    "             bins=bins_num_percent_non_cooperonic_real)\n",
    "sns.distplot(real_percent_non_cooperonic_coexpressed_acc_genes_noNa, \n",
    "             label='accessory',\n",
    "             color='blue', \n",
    "             bins=bins_num_percent_non_cooperonic_real)\n",
    "\n",
    "plt.legend(prop={'size': 12})\n",
    "plt.title('Percent of co-expressed genes that are NOT co-operonic (real data, threshold={})'.\n",
    "          format(coexpression_threshold))\n",
    "plt.xlabel('Percent of co-expressed non-cooperonic genes')\n",
    "plt.ylabel('Density')"
   ]
  },
  {
   "cell_type": "code",
   "execution_count": 18,
   "metadata": {},
   "outputs": [],
   "source": [
    "# Calculate the percent of co-expressed genes that are non co-operonic (shuffled data)\n",
    "shuffled_percent_non_cooperonic_coexpressed_core_genes = (\n",
    "    shuffled_core_df['num_non_cooperonic_coexpressed_genes']/shuffled_core_df['num_coexpressed_genes'])\n",
    "\n",
    "shuffled_percent_non_cooperonic_coexpressed_acc_genes = (\n",
    "    shuffled_acc_df['num_non_cooperonic_coexpressed_genes']/shuffled_acc_df['num_coexpressed_genes'])\n",
    "\n",
    "# There are NaNs in cases where there are 0 co-expressed genes and therefore 0 non-cooperonic genes\n",
    "shuffled_num_core_na = shuffled_percent_non_cooperonic_coexpressed_core_genes.isna().sum()\n",
    "shuffled_num_acc_na = shuffled_percent_non_cooperonic_coexpressed_acc_genes.isna().sum()\n",
    "\n",
    "# Since we are concerned with \"of those co-expressed genes how many are in NOT in the same operon\", we will remove these\n",
    "shuffled_percent_non_cooperonic_coexpressed_core_genes_noNa = shuffled_percent_non_cooperonic_coexpressed_core_genes.dropna(\n",
    "    inplace=False)\n",
    "shuffled_percent_non_cooperonic_coexpressed_acc_genes_noNa = shuffled_percent_non_cooperonic_coexpressed_acc_genes.dropna(\n",
    "    inplace=False)"
   ]
  },
  {
   "cell_type": "code",
   "execution_count": 19,
   "metadata": {},
   "outputs": [
    {
     "name": "stderr",
     "output_type": "stream",
     "text": [
      "/home/alexandra/anaconda3/envs/core-acc/lib/python3.7/site-packages/numpy/lib/histograms.py:893: RuntimeWarning: invalid value encountered in true_divide\n",
      "  return n/db/n.sum(), bin_edges\n"
     ]
    },
    {
     "data": {
      "text/plain": [
       "Text(0, 0.5, 'Density')"
      ]
     },
     "execution_count": 19,
     "metadata": {},
     "output_type": "execute_result"
    },
    {
     "data": {
      "image/png": "[encoded data removed]",
      "text/plain": [
       "<Figure size 432x288 with 1 Axes>"
      ]
     },
     "metadata": {
      "needs_background": "light"
     },
     "output_type": "display_data"
    }
   ],
   "source": [
    "# Get bins using all data\n",
    "hist, bins_num_percent_non_cooperonic_shuffled = np.histogram(\n",
    "    np.concatenate([shuffled_percent_non_cooperonic_coexpressed_core_genes_noNa,\n",
    "                    shuffled_percent_non_cooperonic_coexpressed_acc_genes_noNa]))\n",
    "\n",
    "# Distribution of percent of co-expressed genes that are NOT co-operonic in shuffled data\n",
    "sns.distplot(shuffled_percent_non_cooperonic_coexpressed_core_genes_noNa,\n",
    "             label='core',\n",
    "             color='red',\n",
    "             bins=bins_num_percent_non_cooperonic_shuffled)\n",
    "sns.distplot(shuffled_percent_non_cooperonic_coexpressed_acc_genes_noNa, \n",
    "             label='accessory',\n",
    "             color='blue', \n",
    "             bins=bins_num_percent_non_cooperonic_shuffled)\n",
    "\n",
    "plt.legend(prop={'size': 12})\n",
    "plt.title('Percent of co-expressed genes that are NOT co-operonic (shuffled data, threshold={})'.\n",
    "          format(coexpression_threshold))\n",
    "plt.xlabel('Percent of co-expressed genes that are NOT co-operonic')\n",
    "plt.ylabel('Density')"
   ]
  },
  {
   "cell_type": "code",
   "execution_count": 20,
   "metadata": {},
   "outputs": [
    {
     "name": "stdout",
     "output_type": "stream",
     "text": [
      "Using a threshold of 0.75 to define co-expression (real data): \n",
      "\n",
      "- We removed 914 (17.090501121914734%) genes that had 0 co-expressed genes\n",
      "- Of those remaining genes, for a given CORE gene, \n",
      "      100.0% (median) of the co-expressed genes are NOT in a shared operon\n",
      "- We removed 19 (9.45273631840796%) genes that had 0 co-expressed genes\n",
      "- Of those remaining genes, for a given ACCESSORY gene, \n",
      "     100.0% (median) of the co-expressed genes are NOT in a shared operon \n",
      "\n",
      "Using a threshold of 0.75 to define co-expression (shuffled data): \n",
      "\n",
      "- We removed 5346 (99.96260284218398%) genes that had 0 co-expressed genes\n",
      "- Of those remaining genes, for a given CORE gene, \n",
      "      100.0% (median) of the co-expressed genes are NOT in a shared operon\n",
      "- We removed 201 (100.0%) genes that had 0 co-expressed genes\n",
      "- Of those remaining genes, for a given ACCESSORY gene, \n",
      "     nan% (median) of the co-expressed genes are NOT in a shared operon\n"
     ]
    },
    {
     "name": "stderr",
     "output_type": "stream",
     "text": [
      "/home/alexandra/anaconda3/envs/core-acc/lib/python3.7/site-packages/numpy/core/fromnumeric.py:3118: RuntimeWarning: Mean of empty slice.\n",
      "  out=out, **kwargs)\n",
      "/home/alexandra/anaconda3/envs/core-acc/lib/python3.7/site-packages/numpy/core/_methods.py:85: RuntimeWarning: invalid value encountered in double_scalars\n",
      "  ret = ret.dtype.type(ret / rcount)\n"
     ]
    }
   ],
   "source": [
    "# Print statistics about non co-operonic co-expressed genes\n",
    "print('Using a threshold of {} to define co-expression (real data): \\n'.\n",
    "     format(coexpression_threshold))\n",
    "print('- We removed {} ({}%) genes that had 0 co-expressed genes'.\n",
    "      format(real_num_core_na, (real_num_core_na/num_core_genes)*100))\n",
    "print('''- Of those remaining genes, for a given CORE gene, \n",
    "      {}% (median) of the co-expressed genes are NOT in a shared operon'''.\n",
    "      format(np.median(real_percent_non_cooperonic_coexpressed_core_genes_noNa)*100))\n",
    "\n",
    "print('- We removed {} ({}%) genes that had 0 co-expressed genes'.\n",
    "      format(real_num_acc_na, (real_num_acc_na/num_acc_genes)*100))\n",
    "print('''- Of those remaining genes, for a given ACCESSORY gene, \n",
    "     {}% (median) of the co-expressed genes are NOT in a shared operon \\n'''.\n",
    "      format(np.median(real_percent_non_cooperonic_coexpressed_acc_genes_noNa)*100))\n",
    "\n",
    "\n",
    "# For shuffled data\n",
    "print('Using a threshold of {} to define co-expression (shuffled data): \\n'.\n",
    "     format(coexpression_threshold))\n",
    "print('- We removed {} ({}%) genes that had 0 co-expressed genes'.\n",
    "      format(shuffled_num_core_na, (shuffled_num_core_na/num_core_genes)*100))\n",
    "print('''- Of those remaining genes, for a given CORE gene, \n",
    "      {}% (median) of the co-expressed genes are NOT in a shared operon'''.\n",
    "      format(np.median(shuffled_percent_non_cooperonic_coexpressed_core_genes_noNa)*100))\n",
    "\n",
    "print('- We removed {} ({}%) genes that had 0 co-expressed genes'.\n",
    "      format(shuffled_num_acc_na, (shuffled_num_acc_na/num_acc_genes)*100))\n",
    "print('''- Of those remaining genes, for a given ACCESSORY gene, \n",
    "     {}% (median) of the co-expressed genes are NOT in a shared operon'''.\n",
    "      format(np.median(shuffled_percent_non_cooperonic_coexpressed_acc_genes_noNa)*100))"
   ]
  },
  {
   "cell_type": "markdown",
   "metadata": {},
   "source": [
    "**Observations:**\n",
    "* For majority of core genes, their co-expressed genes are not in the same operon. For example if core gene A is co-expressed with genes {X,Y,Z} and A is in operon {A,B,C} there are no intersecting genes. This is the case for most core genes\n",
    "* For majority of accessory genes, their co-expressed genes are not in the same operon. \n",
    "* I would've expected more co-expressed genes to overlap with operons but need to read more about *P. aeruginosa* gene-gene interactions to get more of an intuition.\n",
    "* (control) There are 0 non-cooperonic co-expressed genes since there are 0 co-expressed genes"
   ]
  },
  {
   "cell_type": "markdown",
   "metadata": {},
   "source": [
    "### Core gene relationships\n",
    "For a given core gene, there exists a set of genes that are co-expressed with it. What percent of those co-expressed genes are core?\n",
    "Similarly, for a given accessory gene, there exists a set of genes that are co-expressed with it. What percent of those co-expressed genes are core? "
   ]
  },
  {
   "cell_type": "code",
   "execution_count": 21,
   "metadata": {},
   "outputs": [],
   "source": [
    "# We only want to consider those genes with some co-expressed genes\n",
    "real_core_nan_ids = list(\n",
    "    real_percent_non_cooperonic_coexpressed_core_genes[real_percent_non_cooperonic_coexpressed_core_genes.isna()].index)\n",
    "real_acc_nan_ids = list(\n",
    "    real_percent_non_cooperonic_coexpressed_acc_genes[real_percent_non_cooperonic_coexpressed_acc_genes.isna()].index)\n",
    "\n",
    "# We also only want to consider only those with some non-cooperonic genes\n",
    "real_core_zero_ids = list(real_core_df[real_core_df['num_non_cooperonic_coexpressed_genes'] == 0].index)\n",
    "real_acc_zero_ids = list(real_acc_df[real_acc_df['num_non_cooperonic_coexpressed_genes'] == 0].index)\n",
    "\n",
    "# Get the union of excluded gene ids\n",
    "real_exclude_core_ids = set(real_core_zero_ids).union(real_core_nan_ids)\n",
    "real_exclude_acc_ids = set(real_acc_zero_ids).union(real_acc_nan_ids)\n",
    "\n",
    "# Since we are concerned with \"of those co-expressed gene NOT in the same operon\", we will remove the above ids\n",
    "real_percent_core_with_refcore = real_core_df['percent_non_cooperonic_coexpressed_core'].drop(labels=real_exclude_core_ids)\n",
    "real_percent_core_with_refacc = real_acc_df['percent_non_cooperonic_coexpressed_core'].drop(labels=real_exclude_acc_ids)"
   ]
  },
  {
   "cell_type": "code",
   "execution_count": 22,
   "metadata": {},
   "outputs": [
    {
     "data": {
      "text/plain": [
       "Text(0, 0.5, 'Density')"
      ]
     },
     "execution_count": 22,
     "metadata": {},
     "output_type": "execute_result"
    },
    {
     "data": {
      "image/png": "[encoded data removed]",
      "text/plain": [
       "<Figure size 432x288 with 1 Axes>"
      ]
     },
     "metadata": {
      "needs_background": "light"
     },
     "output_type": "display_data"
    }
   ],
   "source": [
    "## Test: Distribution without removing 0 expressed and 0 non co-operonic genes\n",
    "\n",
    "# Get bins using all data\n",
    "hist, bins_core_real = np.histogram(np.concatenate([real_core_df['percent_non_cooperonic_coexpressed_core'].values,\n",
    "                                                    real_acc_df['percent_non_cooperonic_coexpressed_core'].values]))\n",
    "\n",
    "# Distribution plot for percent of core co-expressed genes in real data\n",
    "sns.distplot(real_core_df['percent_non_cooperonic_coexpressed_core'].tolist(),\n",
    "             label='core', \n",
    "             color='red',\n",
    "             bins=bins_core_real)\n",
    "sns.distplot(real_acc_df['percent_non_cooperonic_coexpressed_core'].tolist(),\n",
    "             label='accessory',\n",
    "             color='blue',\n",
    "             bins=bins_core_real)\n",
    "\n",
    "plt.legend(prop={'size': 12})\n",
    "plt.title('Percent of co-expressed non-cooperonic genes that are core (real data, threshold={})'.\n",
    "          format(coexpression_threshold))\n",
    "plt.xlabel('Percent of co-expressed non-cooperonic genes that are core')\n",
    "plt.ylabel('Density')"
   ]
  },
  {
   "cell_type": "code",
   "execution_count": 23,
   "metadata": {},
   "outputs": [
    {
     "data": {
      "text/plain": [
       "Text(0, 0.5, 'Density')"
      ]
     },
     "execution_count": 23,
     "metadata": {},
     "output_type": "execute_result"
    },
    {
     "data": {
      "image/png": "[encoded data removed]",
      "text/plain": [
       "<Figure size 432x288 with 1 Axes>"
      ]
     },
     "metadata": {
      "needs_background": "light"
     },
     "output_type": "display_data"
    }
   ],
   "source": [
    "## Test: Distribution without removing 0 expressed and 0 non co-operonic genes\n",
    "\n",
    "# Get bins using all data\n",
    "hist, bins_core_real = np.histogram(np.concatenate([real_percent_core_with_refcore.values,\n",
    "                                                    real_percent_core_with_refacc.values]))\n",
    "\n",
    "# Distribution plot for percent of core co-expressed genes in real data\n",
    "sns.distplot(real_percent_core_with_refcore.tolist(),\n",
    "             label='core', \n",
    "             color='red',\n",
    "             bins=bins_core_real)\n",
    "sns.distplot(real_percent_core_with_refacc.tolist(),\n",
    "             label='accessory',\n",
    "             color='blue',\n",
    "             bins=bins_core_real)\n",
    "\n",
    "plt.legend(prop={'size': 12})\n",
    "plt.title('Percent of co-expressed non-cooperonic genes that are core (real data, threshold={})'.\n",
    "          format(coexpression_threshold))\n",
    "plt.xlabel('Percent of co-expressed non-cooperonic genes that are core')\n",
    "plt.ylabel('Density')"
   ]
  },
  {
   "cell_type": "code",
   "execution_count": 24,
   "metadata": {},
   "outputs": [],
   "source": [
    "# We only want to consider those genes with some co-expressed genes\n",
    "shuffled_core_nan_ids = list(\n",
    "    shuffled_percent_non_cooperonic_coexpressed_core_genes[\n",
    "        shuffled_percent_non_cooperonic_coexpressed_core_genes.isna()].index)\n",
    "shuffled_acc_nan_ids = list(\n",
    "    shuffled_percent_non_cooperonic_coexpressed_acc_genes[\n",
    "        shuffled_percent_non_cooperonic_coexpressed_acc_genes.isna()].index)\n",
    "\n",
    "# We also only want to consider only those with some non-cooperonic genes\n",
    "shuffled_core_zero_ids = list(shuffled_core_df[shuffled_core_df['num_non_cooperonic_coexpressed_genes'] == 0].index)\n",
    "shuffled_acc_zero_ids = list(shuffled_acc_df[shuffled_acc_df['num_non_cooperonic_coexpressed_genes'] == 0].index)\n",
    "\n",
    "# Get the union of excluded gene ids\n",
    "shuffled_exclude_core_ids = set(shuffled_core_zero_ids).union(shuffled_core_nan_ids)\n",
    "shuffled_exclude_acc_ids = set(shuffled_acc_zero_ids).union(shuffled_acc_nan_ids)\n",
    "\n",
    "# Since we are concerned with \"of those co-expressed gene NOT in the same operon\", we will remove the above ids\n",
    "shuffled_percent_core_with_refcore = shuffled_core_df['percent_non_cooperonic_coexpressed_core'].drop(labels=shuffled_exclude_core_ids)\n",
    "shuffled_percent_core_with_refacc = shuffled_acc_df['percent_non_cooperonic_coexpressed_core'].drop(labels=shuffled_exclude_acc_ids)"
   ]
  },
  {
   "cell_type": "code",
   "execution_count": 25,
   "metadata": {},
   "outputs": [
    {
     "data": {
      "text/plain": [
       "Text(0, 0.5, 'Density')"
      ]
     },
     "execution_count": 25,
     "metadata": {},
     "output_type": "execute_result"
    },
    {
     "data": {
      "image/png": "[encoded data removed]",
      "text/plain": [
       "<Figure size 432x288 with 1 Axes>"
      ]
     },
     "metadata": {
      "needs_background": "light"
     },
     "output_type": "display_data"
    }
   ],
   "source": [
    "# Get bins using all data\n",
    "hist, bins_core_shuffled = np.histogram(\n",
    "    np.concatenate([shuffled_percent_core_with_refcore.values,\n",
    "                    shuffled_percent_core_with_refacc.values]))\n",
    "\n",
    "# Distribution plot for percent of core co-expressed genes in shuffled data\n",
    "sns.distplot(shuffled_percent_core_with_refcore.tolist(), \n",
    "             label='core', \n",
    "             color='red',\n",
    "             bins=bins_core_shuffled)\n",
    "sns.distplot(shuffled_percent_core_with_refacc.tolist(),\n",
    "             label='accessory', \n",
    "             color='blue',\n",
    "             bins=bins_core_shuffled)\n",
    "\n",
    "plt.legend(prop={'size': 12})\n",
    "plt.title('Percent of co-expressed non-cooperonic genes that are core (shuffled data, threshold={})'.\n",
    "          format(coexpression_threshold))\n",
    "plt.xlabel('Percent of co-expressed non-cooperonic genes that are core')\n",
    "plt.ylabel('Density')"
   ]
  },
  {
   "cell_type": "code",
   "execution_count": 26,
   "metadata": {},
   "outputs": [
    {
     "name": "stdout",
     "output_type": "stream",
     "text": [
      "Using a threshold of 0.75 to define co-expression (real data): \n",
      "\n",
      "- We removed 935 (17.483171278982798%) genes that had 0 co-expressed genes or 0 non-cooperonic genes\n",
      "- Of the non-coperonic co-expressed genes, for a given CORE gene,\n",
      "      100.0% (median) of co-expressed non co-operonic genes are core genes\n",
      "- We removed 19 (9.45273631840796%) genes that had 0 co-expressed genes or 0 non-cooperonic genes\n",
      "- Of the non-coperonic co-expressed genes, for a given ACCESSORY gene,\n",
      "      79.86486486486486% (median) of co-expressed non co-operonic genes are core genes\n",
      "Using a threshold of 0.75 to define co-expression (real data): \n",
      "\n",
      "- We removed 5346 (99.96260284218398%) genes that had 0 co-expressed genes or 0 non-cooperonic genes\n",
      "- Of the non-coperonic co-expressed genes, for a given CORE gene,\n",
      "      50.0% (median) of co-expressed non co-operonic genes are core genes\n",
      "- We removed 201 (100.0%) genes that had 0 co-expressed genes or 0 non-cooperonic genes\n",
      "- Of the non-coperonic co-expressed genes, for a given ACCESSORY gene,\n",
      "      nan% (median) of co-expressed non co-operonic genes are core genes\n"
     ]
    }
   ],
   "source": [
    "# Print statistics about non co-operonic co-expressed core genes\n",
    "print('Using a threshold of {} to define co-expression (real data): \\n'.\n",
    "     format(coexpression_threshold))\n",
    "print('- We removed {} ({}%) genes that had 0 co-expressed genes or 0 non-cooperonic genes'.\n",
    "      format(len(real_exclude_core_ids), (len(real_exclude_core_ids)/num_core_genes)*100))\n",
    "print('''- Of the non-coperonic co-expressed genes, for a given CORE gene,\n",
    "      {}% (median) of co-expressed non co-operonic genes are core genes'''.\n",
    "      format(np.median(real_percent_core_with_refcore)*100))\n",
    "print('- We removed {} ({}%) genes that had 0 co-expressed genes or 0 non-cooperonic genes'.\n",
    "      format(len(real_exclude_acc_ids), (len(real_exclude_acc_ids)/num_acc_genes)*100))\n",
    "print('''- Of the non-coperonic co-expressed genes, for a given ACCESSORY gene,\n",
    "      {}% (median) of co-expressed non co-operonic genes are core genes'''.\n",
    "      format(np.median(real_percent_core_with_refacc)*100))\n",
    "\n",
    "# shuffled data\n",
    "print('Using a threshold of {} to define co-expression (real data): \\n'.\n",
    "     format(coexpression_threshold))\n",
    "print('- We removed {} ({}%) genes that had 0 co-expressed genes or 0 non-cooperonic genes'.\n",
    "      format(len(shuffled_exclude_core_ids), (len(shuffled_exclude_core_ids)/num_core_genes)*100))\n",
    "print('''- Of the non-coperonic co-expressed genes, for a given CORE gene,\n",
    "      {}% (median) of co-expressed non co-operonic genes are core genes'''.\n",
    "      format(np.median(shuffled_percent_core_with_refcore)*100))\n",
    "print('- We removed {} ({}%) genes that had 0 co-expressed genes or 0 non-cooperonic genes'.\n",
    "      format(len(shuffled_exclude_acc_ids), (len(shuffled_exclude_acc_ids)/num_acc_genes)*100))\n",
    "print('''- Of the non-coperonic co-expressed genes, for a given ACCESSORY gene,\n",
    "      {}% (median) of co-expressed non co-operonic genes are core genes'''.\n",
    "      format(np.median(shuffled_percent_core_with_refacc)*100))"
   ]
  },
  {
   "cell_type": "markdown",
   "metadata": {},
   "source": [
    "### Accessory gene relationships\n",
    "For a given core gene, there exists a set of genes that are co-expressed with it. What percent of those co-expressed genes are accessory?\n",
    "Similarly, for a given accessory gene, there exists a set of genes that are co-expressed with it. What percent of those co-expressed genes are accessory? "
   ]
  },
  {
   "cell_type": "code",
   "execution_count": 27,
   "metadata": {},
   "outputs": [],
   "source": [
    "# Since we are concerned with \"of those co-expressed gene NOT in the same operon\", we will remove the above ids\n",
    "real_percent_acc_with_refcore = real_core_df['percent_non_cooperonic_coexpressed_acc'].drop(labels=real_exclude_core_ids)\n",
    "real_percent_acc_with_refacc = real_acc_df['percent_non_cooperonic_coexpressed_acc'].drop(labels=real_exclude_acc_ids)"
   ]
  },
  {
   "cell_type": "code",
   "execution_count": 28,
   "metadata": {},
   "outputs": [
    {
     "data": {
      "text/plain": [
       "Text(0, 0.5, 'Density')"
      ]
     },
     "execution_count": 28,
     "metadata": {},
     "output_type": "execute_result"
    },
    {
     "data": {
      "image/png": "[encoded data removed]",
      "text/plain": [
       "<Figure size 432x288 with 1 Axes>"
      ]
     },
     "metadata": {
      "needs_background": "light"
     },
     "output_type": "display_data"
    }
   ],
   "source": [
    "# Get bins using all data\n",
    "hist, bins_acc_real = np.histogram(np.concatenate([real_percent_acc_with_refcore.values,\n",
    "                                                   real_percent_acc_with_refacc.values]))\n",
    "\n",
    "# Distribution plot for percent of accessory co-expressed genes in real data\n",
    "sns.distplot(real_percent_acc_with_refcore.tolist(),\n",
    "             label='core', \n",
    "             color='red', \n",
    "             bins=bins_acc_real)\n",
    "\n",
    "sns.distplot(real_percent_acc_with_refacc.tolist(),\n",
    "             label='accessory',\n",
    "             color='blue', \n",
    "             bins=bins_acc_real)\n",
    "\n",
    "plt.legend(prop={'size': 12})\n",
    "plt.title('Percent of co-expressed non-cooperonic genes that are accessory (real data, threshold={})'.\n",
    "          format(coexpression_threshold))\n",
    "plt.xlabel('Percent of co-expressed non-cooperonic genes that are accessory')\n",
    "plt.ylabel('Density')"
   ]
  },
  {
   "cell_type": "code",
   "execution_count": 29,
   "metadata": {},
   "outputs": [],
   "source": [
    "# Since we are concerned with \"of those co-expressed gene NOT in the same operon\", we will remove the above ids\n",
    "shuffled_percent_acc_with_refcore = shuffled_core_df['percent_non_cooperonic_coexpressed_acc'].drop(labels=shuffled_exclude_core_ids)\n",
    "shuffled_percent_acc_with_refacc = shuffled_acc_df['percent_non_cooperonic_coexpressed_acc'].drop(labels=shuffled_exclude_acc_ids)"
   ]
  },
  {
   "cell_type": "code",
   "execution_count": 30,
   "metadata": {
    "scrolled": true
   },
   "outputs": [
    {
     "data": {
      "text/plain": [
       "Text(0, 0.5, 'Density')"
      ]
     },
     "execution_count": 30,
     "metadata": {},
     "output_type": "execute_result"
    },
    {
     "data": {
      "image/png": "[encoded data removed]",
      "text/plain": [
       "<Figure size 432x288 with 1 Axes>"
      ]
     },
     "metadata": {
      "needs_background": "light"
     },
     "output_type": "display_data"
    }
   ],
   "source": [
    "# Get bins using all data\n",
    "hist, bins_acc_shuffled = np.histogram(\n",
    "    np.concatenate([shuffled_percent_acc_with_refcore.values,\n",
    "                    shuffled_percent_acc_with_refacc.values]))\n",
    "\n",
    "# Distribution plot for percent of accessory co-expressed genes in shuffled data\n",
    "sns.distplot(shuffled_percent_acc_with_refcore.tolist(), \n",
    "             label='core', \n",
    "             color='red',\n",
    "             bins=bins_acc_shuffled)\n",
    "sns.distplot(shuffled_percent_acc_with_refacc.tolist(), \n",
    "             label='accessory', \n",
    "             color='blue', \n",
    "             bins=bins_acc_shuffled)\n",
    "\n",
    "plt.legend(prop={'size': 12})\n",
    "plt.title('Percent of co-expressed non-cooperonic genes that are accessory (shuffled data, threshold={})'.\n",
    "          format(coexpression_threshold))\n",
    "plt.xlabel('Percent of co-expressed non-cooperonic genes that are accessory')\n",
    "plt.ylabel('Density')"
   ]
  },
  {
   "cell_type": "code",
   "execution_count": 31,
   "metadata": {},
   "outputs": [
    {
     "name": "stdout",
     "output_type": "stream",
     "text": [
      "Using a threshold of 0.75 to define co-expression (real data): \n",
      "\n",
      "- We removed 935 (17.483171278982798%) genes that had 0 co-expressed genes or 0 non-cooperonic genes\n",
      "- Of the non-coperonic co-expressed genes, for a given CORE gene,\n",
      "      0.0% (median) of co-expressed non co-operonic genes are accessory genes\n",
      "- We removed 19 (9.45273631840796%) genes that had 0 co-expressed genes or 0 non-cooperonic genes\n",
      "- Of the non-coperonic co-expressed genes, for a given ACCESSORY gene,\n",
      "      17.92477235099338% (median) of co-expressed non co-operonic genes are accessory genes\n",
      "Using a threshold of 0.75 to define co-expression (real data): \n",
      "\n",
      "- We removed 5346 (99.96260284218398%) genes that had 0 co-expressed genes or 0 non-cooperonic genes\n",
      "- Of the non-coperonic co-expressed genes, for a given CORE gene,\n",
      "      0.0% (median) of co-expressed non co-operonic genes are accessory genes\n",
      "- We removed 201 (100.0%) genes that had 0 co-expressed genes or 0 non-cooperonic genes\n",
      "- Of the non-coperonic co-expressed genes, for a given ACCESSORY gene,\n",
      "      nan% (median) of co-expressed non co-operonic genes are accessory genes\n"
     ]
    }
   ],
   "source": [
    "# Print statistics about non co-operonic co-expressed accessory genes\n",
    "print('Using a threshold of {} to define co-expression (real data): \\n'.\n",
    "     format(coexpression_threshold))\n",
    "print('- We removed {} ({}%) genes that had 0 co-expressed genes or 0 non-cooperonic genes'.\n",
    "      format(len(real_exclude_core_ids), (len(real_exclude_core_ids)/num_core_genes)*100))\n",
    "print('''- Of the non-coperonic co-expressed genes, for a given CORE gene,\n",
    "      {}% (median) of co-expressed non co-operonic genes are accessory genes'''.\n",
    "      format(np.median(real_percent_acc_with_refcore)*100))\n",
    "print('- We removed {} ({}%) genes that had 0 co-expressed genes or 0 non-cooperonic genes'.\n",
    "      format(len(real_exclude_acc_ids), (len(real_exclude_acc_ids)/num_acc_genes)*100))\n",
    "print('''- Of the non-coperonic co-expressed genes, for a given ACCESSORY gene,\n",
    "      {}% (median) of co-expressed non co-operonic genes are accessory genes'''.\n",
    "      format(np.median(real_percent_acc_with_refacc)*100))\n",
    "\n",
    "# shuffled data\n",
    "print('Using a threshold of {} to define co-expression (real data): \\n'.\n",
    "     format(coexpression_threshold))\n",
    "print('- We removed {} ({}%) genes that had 0 co-expressed genes or 0 non-cooperonic genes'.\n",
    "      format(len(shuffled_exclude_core_ids), (len(shuffled_exclude_core_ids)/num_core_genes)*100))\n",
    "print('''- Of the non-coperonic co-expressed genes, for a given CORE gene,\n",
    "      {}% (median) of co-expressed non co-operonic genes are accessory genes'''.\n",
    "      format(np.median(shuffled_percent_acc_with_refcore)*100))\n",
    "print('- We removed {} ({}%) genes that had 0 co-expressed genes or 0 non-cooperonic genes'.\n",
    "      format(len(shuffled_exclude_acc_ids), (len(shuffled_exclude_acc_ids)/num_acc_genes)*100))\n",
    "print('''- Of the non-coperonic co-expressed genes, for a given ACCESSORY gene,\n",
    "      {}% (median) of co-expressed non co-operonic genes are accessory genes'''.\n",
    "      format(np.median(shuffled_percent_acc_with_refacc)*100))"
   ]
  },
  {
   "cell_type": "markdown",
   "metadata": {},
   "source": [
    "**Observation:**\n",
    "* Core genes tend to be co-expressed with only other core genes\n",
    "* Accessory genes tend to be co-expressed with some percent of core genes and accessory genes\n",
    "* (control) There are no relationships between core-core, core-accessory, accessory-accessory"
   ]
  },
  {
   "cell_type": "markdown",
   "metadata": {},
   "source": [
    "# Manually examine co-expressed and co-operonic genes"
   ]
  },
  {
   "cell_type": "code",
   "execution_count": 32,
   "metadata": {},
   "outputs": [],
   "source": [
    "# Pull out genes that are co-expressed AND co-operonic -- what does it say in literature, TF\n",
    "# Pull out genes that are co-expressed AND NOT co-operonic -- what does it say in literature, should they be in operon"
   ]
  },
  {
   "cell_type": "code",
   "execution_count": 33,
   "metadata": {},
   "outputs": [
    {
     "data": {
      "text/html": [
       "<div>\n",
       "<style scoped>\n",
       "    .dataframe tbody tr th:only-of-type {\n",
       "        vertical-align: middle;\n",
       "    }\n",
       "\n",
       "    .dataframe tbody tr th {\n",
       "        vertical-align: top;\n",
       "    }\n",
       "\n",
       "    .dataframe thead th {\n",
       "        text-align: right;\n",
       "    }\n",
       "</style>\n",
       "<table border=\"1\" class=\"dataframe\">\n",
       "  <thead>\n",
       "    <tr style=\"text-align: right;\">\n",
       "      <th></th>\n",
       "      <th>ref_gene</th>\n",
       "      <th>num_coexpressed_genes</th>\n",
       "      <th>num_coexpressed_core</th>\n",
       "      <th>num_coexpressed_acc</th>\n",
       "      <th>percent_coexpressed_core</th>\n",
       "      <th>percent_coexpressed_acc</th>\n",
       "      <th>num_non_cooperonic_coexpressed_genes</th>\n",
       "      <th>num_non_cooperonic_coexpressed_core</th>\n",
       "      <th>num_non_cooperonic_coexpressed_acc</th>\n",
       "      <th>percent_non_cooperonic_coexpressed_core</th>\n",
       "      <th>percent_non_cooperonic_coexpressed_acc</th>\n",
       "    </tr>\n",
       "  </thead>\n",
       "  <tbody>\n",
       "    <tr>\n",
       "      <th>PA0882</th>\n",
       "      <td>PA0882</td>\n",
       "      <td>1</td>\n",
       "      <td>1</td>\n",
       "      <td>0</td>\n",
       "      <td>1.0</td>\n",
       "      <td>0.0</td>\n",
       "      <td>0</td>\n",
       "      <td>0</td>\n",
       "      <td>0</td>\n",
       "      <td>0.0</td>\n",
       "      <td>0.0</td>\n",
       "    </tr>\n",
       "    <tr>\n",
       "      <th>PA1216</th>\n",
       "      <td>PA1216</td>\n",
       "      <td>5</td>\n",
       "      <td>5</td>\n",
       "      <td>0</td>\n",
       "      <td>1.0</td>\n",
       "      <td>0.0</td>\n",
       "      <td>0</td>\n",
       "      <td>0</td>\n",
       "      <td>0</td>\n",
       "      <td>0.0</td>\n",
       "      <td>0.0</td>\n",
       "    </tr>\n",
       "    <tr>\n",
       "      <th>PA1715</th>\n",
       "      <td>PA1715</td>\n",
       "      <td>1</td>\n",
       "      <td>1</td>\n",
       "      <td>0</td>\n",
       "      <td>1.0</td>\n",
       "      <td>0.0</td>\n",
       "      <td>0</td>\n",
       "      <td>0</td>\n",
       "      <td>0</td>\n",
       "      <td>0.0</td>\n",
       "      <td>0.0</td>\n",
       "    </tr>\n",
       "    <tr>\n",
       "      <th>PA2408</th>\n",
       "      <td>PA2408</td>\n",
       "      <td>2</td>\n",
       "      <td>2</td>\n",
       "      <td>0</td>\n",
       "      <td>1.0</td>\n",
       "      <td>0.0</td>\n",
       "      <td>0</td>\n",
       "      <td>0</td>\n",
       "      <td>0</td>\n",
       "      <td>0.0</td>\n",
       "      <td>0.0</td>\n",
       "    </tr>\n",
       "    <tr>\n",
       "      <th>PA3329</th>\n",
       "      <td>PA3329</td>\n",
       "      <td>5</td>\n",
       "      <td>5</td>\n",
       "      <td>0</td>\n",
       "      <td>1.0</td>\n",
       "      <td>0.0</td>\n",
       "      <td>0</td>\n",
       "      <td>0</td>\n",
       "      <td>0</td>\n",
       "      <td>0.0</td>\n",
       "      <td>0.0</td>\n",
       "    </tr>\n",
       "    <tr>\n",
       "      <th>PA3935</th>\n",
       "      <td>PA3935</td>\n",
       "      <td>2</td>\n",
       "      <td>2</td>\n",
       "      <td>0</td>\n",
       "      <td>1.0</td>\n",
       "      <td>0.0</td>\n",
       "      <td>0</td>\n",
       "      <td>0</td>\n",
       "      <td>0</td>\n",
       "      <td>0.0</td>\n",
       "      <td>0.0</td>\n",
       "    </tr>\n",
       "    <tr>\n",
       "      <th>PA3937</th>\n",
       "      <td>PA3937</td>\n",
       "      <td>1</td>\n",
       "      <td>1</td>\n",
       "      <td>0</td>\n",
       "      <td>1.0</td>\n",
       "      <td>0.0</td>\n",
       "      <td>0</td>\n",
       "      <td>0</td>\n",
       "      <td>0</td>\n",
       "      <td>0.0</td>\n",
       "      <td>0.0</td>\n",
       "    </tr>\n",
       "    <tr>\n",
       "      <th>PA4023</th>\n",
       "      <td>PA4023</td>\n",
       "      <td>1</td>\n",
       "      <td>1</td>\n",
       "      <td>0</td>\n",
       "      <td>1.0</td>\n",
       "      <td>0.0</td>\n",
       "      <td>0</td>\n",
       "      <td>0</td>\n",
       "      <td>0</td>\n",
       "      <td>0.0</td>\n",
       "      <td>0.0</td>\n",
       "    </tr>\n",
       "    <tr>\n",
       "      <th>PA4150</th>\n",
       "      <td>PA4150</td>\n",
       "      <td>2</td>\n",
       "      <td>2</td>\n",
       "      <td>0</td>\n",
       "      <td>1.0</td>\n",
       "      <td>0.0</td>\n",
       "      <td>0</td>\n",
       "      <td>0</td>\n",
       "      <td>0</td>\n",
       "      <td>0.0</td>\n",
       "      <td>0.0</td>\n",
       "    </tr>\n",
       "    <tr>\n",
       "      <th>PA4301</th>\n",
       "      <td>PA4301</td>\n",
       "      <td>1</td>\n",
       "      <td>1</td>\n",
       "      <td>0</td>\n",
       "      <td>1.0</td>\n",
       "      <td>0.0</td>\n",
       "      <td>0</td>\n",
       "      <td>0</td>\n",
       "      <td>0</td>\n",
       "      <td>0.0</td>\n",
       "      <td>0.0</td>\n",
       "    </tr>\n",
       "  </tbody>\n",
       "</table>\n",
       "</div>"
      ],
      "text/plain": [
       "       ref_gene  num_coexpressed_genes  num_coexpressed_core  \\\n",
       "PA0882   PA0882                      1                     1   \n",
       "PA1216   PA1216                      5                     5   \n",
       "PA1715   PA1715                      1                     1   \n",
       "PA2408   PA2408                      2                     2   \n",
       "PA3329   PA3329                      5                     5   \n",
       "PA3935   PA3935                      2                     2   \n",
       "PA3937   PA3937                      1                     1   \n",
       "PA4023   PA4023                      1                     1   \n",
       "PA4150   PA4150                      2                     2   \n",
       "PA4301   PA4301                      1                     1   \n",
       "\n",
       "        num_coexpressed_acc  percent_coexpressed_core  \\\n",
       "PA0882                    0                       1.0   \n",
       "PA1216                    0                       1.0   \n",
       "PA1715                    0                       1.0   \n",
       "PA2408                    0                       1.0   \n",
       "PA3329                    0                       1.0   \n",
       "PA3935                    0                       1.0   \n",
       "PA3937                    0                       1.0   \n",
       "PA4023                    0                       1.0   \n",
       "PA4150                    0                       1.0   \n",
       "PA4301                    0                       1.0   \n",
       "\n",
       "        percent_coexpressed_acc  num_non_cooperonic_coexpressed_genes  \\\n",
       "PA0882                      0.0                                     0   \n",
       "PA1216                      0.0                                     0   \n",
       "PA1715                      0.0                                     0   \n",
       "PA2408                      0.0                                     0   \n",
       "PA3329                      0.0                                     0   \n",
       "PA3935                      0.0                                     0   \n",
       "PA3937                      0.0                                     0   \n",
       "PA4023                      0.0                                     0   \n",
       "PA4150                      0.0                                     0   \n",
       "PA4301                      0.0                                     0   \n",
       "\n",
       "        num_non_cooperonic_coexpressed_core  \\\n",
       "PA0882                                    0   \n",
       "PA1216                                    0   \n",
       "PA1715                                    0   \n",
       "PA2408                                    0   \n",
       "PA3329                                    0   \n",
       "PA3935                                    0   \n",
       "PA3937                                    0   \n",
       "PA4023                                    0   \n",
       "PA4150                                    0   \n",
       "PA4301                                    0   \n",
       "\n",
       "        num_non_cooperonic_coexpressed_acc  \\\n",
       "PA0882                                   0   \n",
       "PA1216                                   0   \n",
       "PA1715                                   0   \n",
       "PA2408                                   0   \n",
       "PA3329                                   0   \n",
       "PA3935                                   0   \n",
       "PA3937                                   0   \n",
       "PA4023                                   0   \n",
       "PA4150                                   0   \n",
       "PA4301                                   0   \n",
       "\n",
       "        percent_non_cooperonic_coexpressed_core  \\\n",
       "PA0882                                      0.0   \n",
       "PA1216                                      0.0   \n",
       "PA1715                                      0.0   \n",
       "PA2408                                      0.0   \n",
       "PA3329                                      0.0   \n",
       "PA3935                                      0.0   \n",
       "PA3937                                      0.0   \n",
       "PA4023                                      0.0   \n",
       "PA4150                                      0.0   \n",
       "PA4301                                      0.0   \n",
       "\n",
       "        percent_non_cooperonic_coexpressed_acc  \n",
       "PA0882                                     0.0  \n",
       "PA1216                                     0.0  \n",
       "PA1715                                     0.0  \n",
       "PA2408                                     0.0  \n",
       "PA3329                                     0.0  \n",
       "PA3935                                     0.0  \n",
       "PA3937                                     0.0  \n",
       "PA4023                                     0.0  \n",
       "PA4150                                     0.0  \n",
       "PA4301                                     0.0  "
      ]
     },
     "execution_count": 33,
     "metadata": {},
     "output_type": "execute_result"
    }
   ],
   "source": [
    "nan_ids = list(real_percent_non_cooperonic_coexpressed_core_genes[real_percent_non_cooperonic_coexpressed_core_genes.\n",
    "                                                                  isna()].index)\n",
    "\n",
    "real_core_df.loc[nan_ids]\n",
    "\n",
    "# Zero ids are those gene sets where the co-expressed genes were all in the same operon\n",
    "# One ids are those gene sets where the co-expressed genes were all NOT in the same operon\n",
    "zero_ids = list(\n",
    "    real_percent_non_cooperonic_coexpressed_core_genes[real_percent_non_cooperonic_coexpressed_core_genes == 0].index)\n",
    "\n",
    "real_core_df.loc[zero_ids].head(10)"
   ]
  },
  {
   "cell_type": "code",
   "execution_count": null,
   "metadata": {},
   "outputs": [],
   "source": []
  }
 ],
 "metadata": {
  "kernelspec": {
   "display_name": "Python [conda env:core-acc] *",
   "language": "python",
   "name": "conda-env-core-acc-py"
  },
  "language_info": {
   "codemirror_mode": {
    "name": "ipython",
    "version": 3
   },
   "file_extension": ".py",
   "mimetype": "text/x-python",
   "name": "python",
   "nbconvert_exporter": "python",
   "pygments_lexer": "ipython3",
   "version": "3.7.6"
  }
 },
 "nbformat": 4,
 "nbformat_minor": 4
}
