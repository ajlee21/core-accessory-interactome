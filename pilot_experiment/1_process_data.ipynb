{
 "cells": [
  {
   "cell_type": "markdown",
   "metadata": {},
   "source": [
    "# Generate gene-gene network modules\n",
    "This notebook generate gene-gene network modules for an exploratory analysis.\n",
    "\n",
    "The objective is____"
   ]
  },
  {
   "cell_type": "code",
   "execution_count": 1,
   "metadata": {},
   "outputs": [],
   "source": [
    "%load_ext rpy2.ipython\n",
    "import pandas as pd\n",
    "import os\n",
    "import argparse\n",
    "from functions import process_data"
   ]
  },
  {
   "cell_type": "code",
   "execution_count": 2,
   "metadata": {},
   "outputs": [],
   "source": [
    "base_dir = os.path.abspath(os.path.join(os.getcwd(),\"../\"))"
   ]
  },
  {
   "cell_type": "code",
   "execution_count": 3,
   "metadata": {},
   "outputs": [],
   "source": [
    "# Input files\n",
    "normalized_data_file = os.path.join(\n",
    "    base_dir,\n",
    "    \"pilot_experiment\",\n",
    "    \"data\",\n",
    "   \"input\",\n",
    "    \"train_set_normalized.pcl\")\n",
    "\n",
    "metadata_file = os.path.join(\n",
    "    base_dir,\n",
    "    \"pilot_experiment\",\n",
    "    \"data\",\n",
    "    \"annotations\",\n",
    "    \"sample_annotations.tsv\")\n",
    "\n",
    "# Load in annotation file\n",
    "# Annotation file contains the list of all PAO1 specific genes\n",
    "gene_mapping_file = os.path.join(\n",
    "    base_dir,\n",
    "    \"pilot_experiment\",\n",
    "    \"data\",\n",
    "    \"annotations\",\n",
    "    \"PAO1_ID_PA14_ID.csv\")"
   ]
  },
  {
   "cell_type": "code",
   "execution_count": 4,
   "metadata": {},
   "outputs": [],
   "source": [
    "# Select specific experiment\n",
    "lst_experiments = [\"E-GEOD-8083\",\n",
    "                   \"E-GEOD-29789\",\n",
    "                   \"E-GEOD-48982\",\n",
    "                   \"E-GEOD-24038\",\n",
    "                   \"E-GEOD-29879\",\n",
    "                   \"E-GEOD-49759\"]"
   ]
  },
  {
   "cell_type": "code",
   "execution_count": 5,
   "metadata": {},
   "outputs": [],
   "source": [
    "# Output files\n",
    "selected_data_file = os.path.join(\n",
    "        base_dir,\n",
    "        \"pilot_experiment\",\n",
    "        \"data\",\n",
    "        \"input\",\n",
    "        \"selected_normalized_data.tsv\")\n",
    "\n",
    "shuffled_selected_data_file = os.path.join(\n",
    "        base_dir,\n",
    "        \"pilot_experiment\",\n",
    "        \"data\",\n",
    "        \"input\",\n",
    "        \"shuffled_selected_normalized_data.tsv\")\n",
    "\n",
    "gene_annot_file = os.path.join(\n",
    "        base_dir,\n",
    "        \"pilot_experiment\",\n",
    "        \"data\",\n",
    "        \"annotations\",\n",
    "        \"selected_gene_annotations.txt\")"
   ]
  },
  {
   "cell_type": "markdown",
   "metadata": {},
   "source": [
    "# Select subset of samples\n",
    "\n",
    "Select experiments that contain either PAO1 or PA14 strains. We will use only PAO1 and PA14 strains as a first pass because these two strains are the most common and well studied *P. aeruginosa* strains, therefore we will be able to verify the resulting gene-gene interactions with those found in the literature."
   ]
  },
  {
   "cell_type": "code",
   "execution_count": 6,
   "metadata": {
    "scrolled": true
   },
   "outputs": [
    {
     "name": "stderr",
     "output_type": "stream",
     "text": [
      "/home/alexandra/Documents/Repos/core-accessory-interactome/pilot_experiment/functions/process_data.py:55: FutureWarning: read_table is deprecated, use read_csv instead.\n",
      "  index_col=0).T\n",
      "/home/alexandra/Documents/Repos/core-accessory-interactome/pilot_experiment/functions/process_data.py:62: FutureWarning: read_table is deprecated, use read_csv instead.\n",
      "  index_col=0)\n"
     ]
    },
    {
     "name": "stdout",
     "output_type": "stream",
     "text": [
      "(39, 5549)\n",
      "Gene_symbol      PA0001    PA0002    PA0003    PA0004    PA0005    PA0006  \\\n",
      "GSM199982.CEL  0.602146  0.619571  0.453851  0.616299  0.296061  0.193150   \n",
      "GSM199983.CEL  0.565232  0.634272  0.459963  0.639738  0.266436  0.186819   \n",
      "GSM199984.CEL  0.507166  0.679804  0.457609  0.714618  0.335181  0.338886   \n",
      "GSM199985.CEL  0.528545  0.669231  0.462730  0.657953  0.305657  0.282472   \n",
      "GSM199986.CEL  0.542822  0.704964  0.447164  0.649575  0.267066  0.321489   \n",
      "GSM738261.CEL  0.519756  0.427725  0.276953  0.427328  0.276952  0.329655   \n",
      "GSM738262.CEL  0.502303  0.478588  0.191828  0.389341  0.254869  0.234301   \n",
      "GSM738263.CEL  0.490648  0.460936  0.237385  0.404926  0.286027  0.280460   \n",
      "GSM738264.CEL  0.554336  0.529259  0.250871  0.441458  0.305741  0.274767   \n",
      "GSM738265.CEL  0.519577  0.531612  0.263087  0.439124  0.365923  0.340706   \n",
      "\n",
      "Gene_symbol      PA0007    PA0008    PA0009    PA0010  ...    PA5561  \\\n",
      "GSM199982.CEL  0.596934  0.423352  0.500333  0.111480  ...  0.143319   \n",
      "GSM199983.CEL  0.644093  0.492162  0.511104  0.096214  ...  0.200245   \n",
      "GSM199984.CEL  0.620055  0.540087  0.504405  0.099434  ...  0.165607   \n",
      "GSM199985.CEL  0.510688  0.547912  0.479165  0.150961  ...  0.232001   \n",
      "GSM199986.CEL  0.441695  0.509655  0.531696  0.135079  ...  0.134634   \n",
      "GSM738261.CEL  0.632107  0.280161  0.002565  0.133938  ...  0.395148   \n",
      "GSM738262.CEL  0.645239  0.231817  0.053904  0.138736  ...  0.317444   \n",
      "GSM738263.CEL  0.653672  0.258727  0.072047  0.118856  ...  0.315275   \n",
      "GSM738264.CEL  0.563137  0.303930  0.074520  0.110673  ...  0.399729   \n",
      "GSM738265.CEL  0.563558  0.293447  0.143876  0.140858  ...  0.468785   \n",
      "\n",
      "Gene_symbol      PA5562    PA5563    PA5564    PA5565    PA5566    PA5567  \\\n",
      "GSM199982.CEL  0.539570  0.467587  0.334931  0.455701  0.177896  0.399522   \n",
      "GSM199983.CEL  0.466569  0.460400  0.342895  0.423208  0.183716  0.282770   \n",
      "GSM199984.CEL  0.427427  0.422841  0.376656  0.382098  0.330292  0.356257   \n",
      "GSM199985.CEL  0.493364  0.455557  0.353950  0.454050  0.239685  0.379235   \n",
      "GSM199986.CEL  0.479000  0.464972  0.378888  0.396418  0.242533  0.331793   \n",
      "GSM738261.CEL  0.547635  0.346143  0.218097  0.571466  0.206765  0.361635   \n",
      "GSM738262.CEL  0.541359  0.358896  0.207549  0.564118  0.223909  0.316747   \n",
      "GSM738263.CEL  0.535580  0.315755  0.218303  0.528524  0.240840  0.345024   \n",
      "GSM738264.CEL  0.502362  0.381513  0.232300  0.678851  0.183632  0.267143   \n",
      "GSM738265.CEL  0.499733  0.327218  0.288613  0.622488  0.217961  0.324372   \n",
      "\n",
      "Gene_symbol      PA5568    PA5569    PA5570  \n",
      "GSM199982.CEL  0.406659  0.529531  0.408715  \n",
      "GSM199983.CEL  0.372407  0.537280  0.450979  \n",
      "GSM199984.CEL  0.431447  0.559779  0.437137  \n",
      "GSM199985.CEL  0.465572  0.578693  0.444357  \n",
      "GSM199986.CEL  0.403608  0.551968  0.456357  \n",
      "GSM738261.CEL  0.341249  0.354616  0.661841  \n",
      "GSM738262.CEL  0.336543  0.386752  0.630407  \n",
      "GSM738263.CEL  0.294620  0.376795  0.608367  \n",
      "GSM738264.CEL  0.291481  0.440959  0.666758  \n",
      "GSM738265.CEL  0.209917  0.453989  0.620313  \n",
      "\n",
      "[10 rows x 5549 columns]\n"
     ]
    }
   ],
   "source": [
    "process_data.select_expression_data(normalized_data_file,\n",
    "                                   metadata_file,\n",
    "                                   lst_experiments,\n",
    "                                   selected_data_file)"
   ]
  },
  {
   "cell_type": "markdown",
   "metadata": {},
   "source": [
    "# Permute selected expression data\n",
    "This permuted version will serve as a baseline for our analysis"
   ]
  },
  {
   "cell_type": "code",
   "execution_count": 7,
   "metadata": {
    "scrolled": true
   },
   "outputs": [
    {
     "name": "stderr",
     "output_type": "stream",
     "text": [
      "/home/alexandra/Documents/Repos/core-accessory-interactome/pilot_experiment/functions/process_data.py:102: FutureWarning: read_table is deprecated, use read_csv instead.\n",
      "  index_col=0)\n"
     ]
    },
    {
     "name": "stdout",
     "output_type": "stream",
     "text": [
      "                 PA0001    PA0002    PA0003    PA0004    PA0005    PA0006  \\\n",
      "GSM199982.CEL  0.254324  0.300978  0.597989  0.544134  0.233893  0.412026   \n",
      "GSM199983.CEL  0.301997  0.300047  0.513272  0.189616  0.241617  0.315204   \n",
      "GSM199984.CEL  0.454081  0.071528  0.665741  0.626161  0.544547  0.918408   \n",
      "GSM199985.CEL  0.206609  0.176365  0.223115  0.465326  0.476631  0.280493   \n",
      "GSM199986.CEL  0.298055  0.194905  0.283896  0.524215  0.722790  0.661516   \n",
      "GSM738261.CEL  0.160034  0.264213  0.605888  0.422431  0.479334  0.167845   \n",
      "GSM738262.CEL  0.745840  0.231143  0.468362  0.285103  0.359606  0.562178   \n",
      "GSM738263.CEL  0.697154  0.492544  0.300052  0.369154  0.301793  0.758621   \n",
      "GSM738264.CEL  0.234895  0.662232  0.277930  0.267817  0.493642  0.263918   \n",
      "GSM738265.CEL  0.537777  0.249338  0.552190  0.297733  0.141178  0.300772   \n",
      "\n",
      "                 PA0007    PA0008    PA0009    PA0010  ...    PA5561  \\\n",
      "GSM199982.CEL  0.137871  0.558695  0.158522  0.767242  ...  0.601635   \n",
      "GSM199983.CEL  0.141748  0.297920  0.247840  0.285706  ...  0.976231   \n",
      "GSM199984.CEL  0.324744  0.164571  0.371712  0.520825  ...  0.294369   \n",
      "GSM199985.CEL  0.617043  0.169930  0.851503  0.584603  ...  0.517872   \n",
      "GSM199986.CEL  0.547280  0.346095  0.554055  0.378166  ...  0.819201   \n",
      "GSM738261.CEL  0.313007  0.277270  0.650243  0.279867  ...  0.223324   \n",
      "GSM738262.CEL  0.581660  0.054501  0.293403  0.834111  ...  0.717343   \n",
      "GSM738263.CEL  0.155480  0.799346  0.185510  0.655230  ...  0.707684   \n",
      "GSM738264.CEL  0.084163  0.115065  0.778130  0.810054  ...  0.205346   \n",
      "GSM738265.CEL  0.284049  0.779221  0.174938  0.089890  ...  0.646149   \n",
      "\n",
      "                 PA5562    PA5563    PA5564    PA5565    PA5566    PA5567  \\\n",
      "GSM199982.CEL  0.393961  0.192290  0.601298  0.342078  0.533830  0.163736   \n",
      "GSM199983.CEL  0.219114  0.807381  0.111524  0.406824  0.231645  0.332937   \n",
      "GSM199984.CEL  0.261018  0.365527  0.534786  0.416587  0.219386  0.336327   \n",
      "GSM199985.CEL  0.210715  0.410445  0.376014  0.153284  0.535526  0.762906   \n",
      "GSM199986.CEL  0.591349  0.407123  0.979975  0.441880  0.553112  0.356815   \n",
      "GSM738261.CEL  0.444152  0.290274  0.212882  0.211417  0.633516  0.361789   \n",
      "GSM738262.CEL  0.230090  0.393216  0.358814  0.488969  0.285229  0.308782   \n",
      "GSM738263.CEL  0.188185  0.211813  0.117946  0.280590  0.138291  0.133679   \n",
      "GSM738264.CEL  0.855454  0.082320  0.459857  0.254872  0.326631  0.373611   \n",
      "GSM738265.CEL  0.464326  0.499626  0.614661  0.745739  0.286623  0.325351   \n",
      "\n",
      "                 PA5568    PA5569    PA5570  \n",
      "GSM199982.CEL  0.518662  0.727300  0.322056  \n",
      "GSM199983.CEL  0.284657  0.685798  0.228900  \n",
      "GSM199984.CEL  0.306663  0.640293  0.848356  \n",
      "GSM199985.CEL  0.180992  0.318097  0.321321  \n",
      "GSM199986.CEL  0.718328  0.219357  0.299589  \n",
      "GSM738261.CEL  0.294271  0.091066  0.844065  \n",
      "GSM738262.CEL  0.107145  0.444651  0.243086  \n",
      "GSM738263.CEL  0.098966  0.708371  0.747826  \n",
      "GSM738264.CEL  0.303228  0.211102  0.097245  \n",
      "GSM738265.CEL  0.736365  0.198824  0.016085  \n",
      "\n",
      "[10 rows x 5549 columns]\n"
     ]
    }
   ],
   "source": [
    "process_data.permute_expression_data(selected_data_file,\n",
    "                                     shuffled_selected_data_file)"
   ]
  },
  {
   "cell_type": "markdown",
   "metadata": {},
   "source": [
    "# Annotate genes as core and accessory\n",
    "\n",
    "Annotate genes as either **core** if PAO1 gene is homologous to PA14 gene, or **accessory** if there does not exist a homolog. \n",
    "\n",
    "These homologous mappings are based on the [Bactome database](https://bactome.helmholtz-hzi.de/cgi-bin/h-pange.cgi?STAT=1&Gene=PA0135)"
   ]
  },
  {
   "cell_type": "code",
   "execution_count": 8,
   "metadata": {
    "scrolled": true
   },
   "outputs": [
    {
     "name": "stderr",
     "output_type": "stream",
     "text": [
      "/home/alexandra/Documents/Repos/core-accessory-interactome/pilot_experiment/functions/process_data.py:154: FutureWarning: read_table is deprecated, use read_csv instead.\n",
      "  index_col=0)\n"
     ]
    },
    {
     "name": "stdout",
     "output_type": "stream",
     "text": [
      "  PAO1_ID  Name                                    Product.Name     PA14_ID\n",
      "0  PA0001  dnaA  chromosomal replication initiator protein DnaA  PA14_00010\n",
      "1  PA0002  dnaN                  DNA polymerase III, beta chain  PA14_00020\n",
      "2  PA0003  recF                                    RecF protein  PA14_00030\n",
      "3  PA0004  gyrB                            DNA gyrase subunit B  PA14_00050\n",
      "4  PA0005  lptA     lysophosphatidic acid acyltransferase, LptA  PA14_00060\n",
      "5  PA0006   NaN                  conserved hypothetical protein  PA14_00070\n",
      "6  PA0007   NaN                            hypothetical protein  PA14_00080\n",
      "7  PA0008  glyS               glycyl-tRNA synthetase beta chain  PA14_00090\n",
      "8  PA0009  glyQ              glycyl-tRNA synthetase alpha chain  PA14_00100\n",
      "9  PA0010   tag               DNA-3-methyladenine glycosidase I  PA14_00110\n",
      "No. of PAO1 only genes: 201\n",
      "  PAO1_gene_id annotation\n",
      "0       PA0001       core\n",
      "1       PA0002       core\n",
      "2       PA0003       core\n",
      "3       PA0004       core\n",
      "4       PA0005       core\n"
     ]
    }
   ],
   "source": [
    "process_data.annotate_genes(selected_data_file,\n",
    "                            gene_mapping_file,\n",
    "                            gene_annot_file)"
   ]
  },
  {
   "cell_type": "markdown",
   "metadata": {},
   "source": [
    "# Network construction and module detection\n",
    "\n",
    "Networks provide a straightforward representation of interactions between the nodes. A node corresponds to the gene expression profile of a given gene. Nodes are connected if they have a significant pairwise expression profile association across the environmental perturbations (cell- or tissue- samples). It is standard to use the (Pearson) correlation coefficient as a co-expression measure, e.g., the absolute value of Pearson correlation. "
   ]
  },
  {
   "cell_type": "markdown",
   "metadata": {},
   "source": [
    "## Get parameters for network generation\n",
    "\n",
    "**Question:** How do we pick a threshold to determine what Pearson correlation score is sufficient to say that 2 nodes are associated?\n",
    "\n",
    "A 'hard threshold' may lead to loss of information and sensitity.\n",
    "Instead, a 'soft thresholding' is proposed. Soft thresholding weighs each connection of a float [0,1]   \n",
    "\n",
    "**Reference:**\n",
    "* http://citeseerx.ist.psu.edu/viewdoc/download?doi=10.1.1.471.9599&rep=rep1&type=pdf"
   ]
  },
  {
   "cell_type": "code",
   "execution_count": 9,
   "metadata": {},
   "outputs": [
    {
     "name": "stderr",
     "output_type": "stream",
     "text": [
      "/home/alexandra/anaconda3/envs/core-acc/lib/python3.7/site-packages/rpy2/rinterface/__init__.py:146: RRuntimeWarning: Loading required package: dynamicTreeCut\n",
      "\n",
      "  warnings.warn(x, RRuntimeWarning)\n",
      "/home/alexandra/anaconda3/envs/core-acc/lib/python3.7/site-packages/rpy2/rinterface/__init__.py:146: RRuntimeWarning: Loading required package: fastcluster\n",
      "\n",
      "  warnings.warn(x, RRuntimeWarning)\n",
      "/home/alexandra/anaconda3/envs/core-acc/lib/python3.7/site-packages/rpy2/rinterface/__init__.py:146: RRuntimeWarning: \n",
      "Attaching package: ‘fastcluster’\n",
      "\n",
      "\n",
      "  warnings.warn(x, RRuntimeWarning)\n",
      "/home/alexandra/anaconda3/envs/core-acc/lib/python3.7/site-packages/rpy2/rinterface/__init__.py:146: RRuntimeWarning: The following object is masked from ‘package:stats’:\n",
      "\n",
      "    hclust\n",
      "\n",
      "\n",
      "  warnings.warn(x, RRuntimeWarning)\n",
      "/home/alexandra/anaconda3/envs/core-acc/lib/python3.7/site-packages/rpy2/rinterface/__init__.py:146: RRuntimeWarning: \n",
      "\n",
      "  warnings.warn(x, RRuntimeWarning)\n",
      "/home/alexandra/anaconda3/envs/core-acc/lib/python3.7/site-packages/rpy2/rinterface/__init__.py:146: RRuntimeWarning: \n",
      "Attaching package: ‘WGCNA’\n",
      "\n",
      "\n",
      "  warnings.warn(x, RRuntimeWarning)\n",
      "/home/alexandra/anaconda3/envs/core-acc/lib/python3.7/site-packages/rpy2/rinterface/__init__.py:146: RRuntimeWarning: The following object is masked from ‘package:stats’:\n",
      "\n",
      "    cor\n",
      "\n",
      "\n",
      "  warnings.warn(x, RRuntimeWarning)\n",
      "/home/alexandra/anaconda3/envs/core-acc/lib/python3.7/site-packages/rpy2/rinterface/__init__.py:146: RRuntimeWarning: \n",
      "Attaching package: ‘flashClust’\n",
      "\n",
      "\n",
      "  warnings.warn(x, RRuntimeWarning)\n",
      "/home/alexandra/anaconda3/envs/core-acc/lib/python3.7/site-packages/rpy2/rinterface/__init__.py:146: RRuntimeWarning: The following object is masked from ‘package:fastcluster’:\n",
      "\n",
      "    hclust\n",
      "\n",
      "\n",
      "  warnings.warn(x, RRuntimeWarning)\n",
      "/home/alexandra/anaconda3/envs/core-acc/lib/python3.7/site-packages/rpy2/rinterface/__init__.py:146: RRuntimeWarning: dev.new(): using pdf(file=\"Rplots16.pdf\")\n",
      "\n",
      "  warnings.warn(x, RRuntimeWarning)\n"
     ]
    },
    {
     "data": {
      "text/plain": [
       "pickSoftThreshold: will use block size 5549.\n",
       " pickSoftThreshold: calculating connectivity for given powers...\n",
       "   ..working on genes 1 through 5549 of 5549\n",
       "   Power SFT.R.sq  slope truncated.R.sq mean.k. median.k. max.k.\n",
       "1      1  0.52600  2.000          0.961 1860.00   1860.00 2780.0\n",
       "2      2  0.00944  0.105          0.857  890.00    848.00 1780.0\n",
       "3      3  0.30300 -0.572          0.847  500.00    449.00 1260.0\n",
       "4      4  0.56000 -0.942          0.856  309.00    258.00  938.0\n",
       "5      5  0.68800 -1.120          0.907  204.00    157.00  727.0\n",
       "6      6  0.74200 -1.250          0.920  142.00     99.80  579.0\n",
       "7      7  0.76000 -1.340          0.921  102.00     65.60  470.0\n",
       "8      8  0.76900 -1.390          0.924   75.20     44.40  387.0\n",
       "9      9  0.77800 -1.450          0.930   56.90     31.20  324.0\n",
       "10    10  0.77300 -1.490          0.926   44.00     22.20  273.0\n",
       "11    12  0.80800 -1.510          0.949   27.60     11.60  200.0\n",
       "12    14  0.82800 -1.520          0.960   18.20      6.46  151.0\n",
       "13    16  0.84500 -1.520          0.966   12.50      3.76  116.0\n",
       "14    18  0.84600 -1.530          0.960    8.91      2.22   91.4\n",
       "15    20  0.85700 -1.500          0.963    6.52      1.39   73.0\n"
      ]
     },
     "metadata": {},
     "output_type": "display_data"
    }
   ],
   "source": [
    "%%R -i selected_data_file\n",
    "# Get threshold param for true gene expression data\n",
    "source(\"functions/network_utils.R\")\n",
    "\n",
    "get_threshold(selected_data_file)"
   ]
  },
  {
   "cell_type": "code",
   "execution_count": 10,
   "metadata": {},
   "outputs": [
    {
     "name": "stderr",
     "output_type": "stream",
     "text": [
      "/home/alexandra/anaconda3/envs/core-acc/lib/python3.7/site-packages/rpy2/rinterface/__init__.py:146: RRuntimeWarning: dev.new(): using pdf(file=\"Rplots17.pdf\")\n",
      "\n",
      "  warnings.warn(x, RRuntimeWarning)\n"
     ]
    },
    {
     "data": {
      "text/plain": [
       "pickSoftThreshold: will use block size 5549.\n",
       " pickSoftThreshold: calculating connectivity for given powers...\n",
       "   ..working on genes 1 through 5549 of 5549\n",
       "   Power SFT.R.sq  slope truncated.R.sq  mean.k. median.k.   max.k.\n",
       "1      1 0.000397  -1.01          0.992 7.29e+02  7.29e+02 7.78e+02\n",
       "2      2 0.040100  -5.33          0.989 1.49e+02  1.48e+02 1.70e+02\n",
       "3      3 0.089600  -5.44          0.986 3.80e+01  3.80e+01 4.64e+01\n",
       "4      4 0.036900  -2.55          0.977 1.13e+01  1.13e+01 1.47e+01\n",
       "5      5 0.127000  -4.05          0.978 3.78e+00  3.77e+00 5.41e+00\n",
       "6      6 0.272000  -5.31          0.864 1.38e+00  1.37e+00 2.25e+00\n",
       "7      7 0.336000 -10.10          0.397 5.39e-01  5.33e-01 1.03e+00\n",
       "8      8 0.404000  -9.15          0.436 2.24e-01  2.21e-01 5.11e-01\n",
       "9      9 0.458000  -8.24          0.464 9.84e-02  9.57e-02 2.73e-01\n",
       "10    10 0.494000  -7.44          0.474 4.51e-02  4.32e-02 1.54e-01\n",
       "11    12 0.941000  -4.08          0.958 1.07e-02  9.77e-03 5.61e-02\n",
       "12    14 0.488000  -4.95          0.401 2.87e-03  2.45e-03 2.39e-02\n",
       "13    16 0.481000  -4.12          0.380 8.61e-04  6.59e-04 1.26e-02\n",
       "14    18 0.944000  -2.51          0.930 2.82e-04  1.86e-04 6.89e-03\n",
       "15    20 0.893000  -2.26          0.873 9.94e-05  5.49e-05 3.90e-03\n"
      ]
     },
     "metadata": {},
     "output_type": "display_data"
    }
   ],
   "source": [
    "%%R -i shuffled_selected_data_file\n",
    "# Get threshold param for true gene expression data\n",
    "source(\"functions/network_utils.R\")\n",
    "\n",
    "get_threshold(shuffled_selected_data_file)"
   ]
  },
  {
   "cell_type": "code",
   "execution_count": 11,
   "metadata": {},
   "outputs": [
    {
     "name": "stdout",
     "output_type": "stream",
     "text": [
      "Treshold for true data:8\n"
     ]
    }
   ],
   "source": [
    "# Prompt user to choose threshold params\n",
    "power_param_true = int(input(\"Treshold for true data:\"))"
   ]
  },
  {
   "cell_type": "code",
   "execution_count": 12,
   "metadata": {},
   "outputs": [
    {
     "name": "stdout",
     "output_type": "stream",
     "text": [
      "Threshold for permuted data:20\n"
     ]
    }
   ],
   "source": [
    "# Prompt user to choose threshold params\n",
    "power_param_shuffled = int(input(\"Threshold for permuted data:\"))"
   ]
  },
  {
   "cell_type": "markdown",
   "metadata": {},
   "source": [
    "## Generate network modules"
   ]
  },
  {
   "cell_type": "code",
   "execution_count": 13,
   "metadata": {},
   "outputs": [],
   "source": [
    "# Output module files\n",
    "gene_modules_file = os.path.join(\n",
    "        base_dir,\n",
    "        \"pilot_experiment\",\n",
    "        \"data\",\n",
    "        \"networks\",\n",
    "        \"selected_modules.tsv\")\n",
    "\n",
    "shuffled_gene_modules_file = os.path.join(\n",
    "        base_dir,\n",
    "        \"pilot_experiment\",\n",
    "        \"data\",\n",
    "        \"networks\",\n",
    "        \"shuffled_selected_modules.tsv\")"
   ]
  },
  {
   "cell_type": "code",
   "execution_count": 14,
   "metadata": {},
   "outputs": [
    {
     "name": "stderr",
     "output_type": "stream",
     "text": [
      "/home/alexandra/anaconda3/envs/core-acc/lib/python3.7/site-packages/rpy2/rinterface/__init__.py:146: RRuntimeWarning: dev.new(): using pdf(file=\"Rplots18.pdf\")\n",
      "\n",
      "  warnings.warn(x, RRuntimeWarning)\n",
      "/home/alexandra/anaconda3/envs/core-acc/lib/python3.7/site-packages/rpy2/rinterface/__init__.py:146: RRuntimeWarning: dev.new(): using pdf(file=\"Rplots19.pdf\")\n",
      "\n",
      "  warnings.warn(x, RRuntimeWarning)\n",
      "/home/alexandra/anaconda3/envs/core-acc/lib/python3.7/site-packages/rpy2/rinterface/__init__.py:146: RRuntimeWarning: dev.new(): using pdf(file=\"Rplots20.pdf\")\n",
      "\n",
      "  warnings.warn(x, RRuntimeWarning)\n",
      "/home/alexandra/anaconda3/envs/core-acc/lib/python3.7/site-packages/rpy2/rinterface/__init__.py:146: RRuntimeWarning: dev.new(): using pdf(file=\"Rplots21.pdf\")\n",
      "\n",
      "  warnings.warn(x, RRuntimeWarning)\n"
     ]
    },
    {
     "data": {
      "text/plain": [
       "..connectivity..\n",
       "..matrix multiplication (system BLAS)..\n",
       "..normalization..\n",
       "..done.\n",
       " ..cutHeight not given, setting it to 0.997  ===>  99% of the (truncated) height range in dendro.\n",
       " ..done.\n",
       " mergeCloseModules: Merging modules whose distance is less than 0.25\n",
       "   multiSetMEs: Calculating module MEs.\n",
       "     Working on set 1 ...\n",
       "     moduleEigengenes: Calculating 37 module eigengenes in given set.\n",
       "   multiSetMEs: Calculating module MEs.\n",
       "     Working on set 1 ...\n",
       "     moduleEigengenes: Calculating 22 module eigengenes in given set.\n",
       "   multiSetMEs: Calculating module MEs.\n",
       "     Working on set 1 ...\n",
       "     moduleEigengenes: Calculating 20 module eigengenes in given set.\n",
       "   multiSetMEs: Calculating module MEs.\n",
       "     Working on set 1 ...\n",
       "     moduleEigengenes: Calculating 19 module eigengenes in given set.\n",
       "   Calculating new MEs...\n",
       "   multiSetMEs: Calculating module MEs.\n",
       "     Working on set 1 ...\n",
       "     moduleEigengenes: Calculating 19 module eigengenes in given set.\n"
      ]
     },
     "metadata": {},
     "output_type": "display_data"
    }
   ],
   "source": [
    "%%R -i power_param_true -i selected_data_file -i gene_modules_file\n",
    "# Generate network modules using threshold params selected for true expression data\n",
    "source(\"functions/network_utils.R\")\n",
    "\n",
    "generate_network_modules(power_param_true,\n",
    "                         selected_data_file,\n",
    "                         gene_modules_file)"
   ]
  },
  {
   "cell_type": "code",
   "execution_count": 15,
   "metadata": {},
   "outputs": [
    {
     "name": "stderr",
     "output_type": "stream",
     "text": [
      "/home/alexandra/anaconda3/envs/core-acc/lib/python3.7/site-packages/rpy2/rinterface/__init__.py:146: RRuntimeWarning: dev.new(): using pdf(file=\"Rplots22.pdf\")\n",
      "\n",
      "  warnings.warn(x, RRuntimeWarning)\n"
     ]
    },
    {
     "name": "stdout",
     "output_type": "stream",
     "text": [
      "..connectivity..\n",
      "..matrix multiplication (system BLAS)..\n",
      "..normalization..\n",
      "..done.\n",
      " ..cutHeight not given, setting it to 1  ===>  99% of the (truncated) height range in dendro.\n",
      " ..done.\n",
      " mergeCloseModules: Merging modules whose distance is less than 0.25\n",
      "   multiSetMEs: Calculating module MEs.\n",
      "     Working on set 1 ...\n",
      "     moduleEigengenes: Calculating 1 module eigengenes in given set.\n",
      "Error in mergeCloseModules(expression_data, dynamicColors, cutHeight = MEDissThres,  : \n",
      "  Error in moduleEigengenes(expr = exprData[[set]]$data, colors = setColors,  : \n",
      "  Color levels are empty. Possible reason: the only color is grey and grey module is excluded from the calculation.\n"
     ]
    },
    {
     "name": "stderr",
     "output_type": "stream",
     "text": [
      "/home/alexandra/anaconda3/envs/core-acc/lib/python3.7/site-packages/rpy2/rinterface/__init__.py:146: RRuntimeWarning: dev.new(): using pdf(file=\"Rplots23.pdf\")\n",
      "\n",
      "  warnings.warn(x, RRuntimeWarning)\n",
      "/home/alexandra/anaconda3/envs/core-acc/lib/python3.7/site-packages/rpy2/rinterface/__init__.py:146: RRuntimeWarning: Error in mergeCloseModules(expression_data, dynamicColors, cutHeight = MEDissThres,  : \n",
      "  Error in moduleEigengenes(expr = exprData[[set]]$data, colors = setColors,  : \n",
      "  Color levels are empty. Possible reason: the only color is grey and grey module is excluded from the calculation.\n",
      "\n",
      "  warnings.warn(x, RRuntimeWarning)\n",
      "/home/alexandra/anaconda3/envs/core-acc/lib/python3.7/site-packages/rpy2/rinterface/__init__.py:146: RRuntimeWarning: In addition: \n",
      "  warnings.warn(x, RRuntimeWarning)\n",
      "/home/alexandra/anaconda3/envs/core-acc/lib/python3.7/site-packages/rpy2/rinterface/__init__.py:146: RRuntimeWarning: Warning message:\n",
      "\n",
      "  warnings.warn(x, RRuntimeWarning)\n",
      "/home/alexandra/anaconda3/envs/core-acc/lib/python3.7/site-packages/rpy2/rinterface/__init__.py:146: RRuntimeWarning: executing %dopar% sequentially: no parallel backend registered \n",
      "\n",
      "  warnings.warn(x, RRuntimeWarning)\n"
     ]
    }
   ],
   "source": [
    "%%R -i power_param_shuffled -i shuffled_selected_data_file -i shuffled_gene_modules_file\n",
    "# Generate network modules using threshold params selected for permuted expression data\n",
    "source(\"functions/network_utils.R\")\n",
    "\n",
    "generate_network_modules(power_param_shuffled,\n",
    "                         shuffled_selected_data_file,\n",
    "                         shuffled_gene_modules_file)"
   ]
  }
 ],
 "metadata": {
  "kernelspec": {
   "display_name": "Python [conda env:core-acc] *",
   "language": "python",
   "name": "conda-env-core-acc-py"
  },
  "language_info": {
   "codemirror_mode": {
    "name": "ipython",
    "version": 3
   },
   "file_extension": ".py",
   "mimetype": "text/x-python",
   "name": "python",
   "nbconvert_exporter": "python",
   "pygments_lexer": "ipython3",
   "version": "3.7.6"
  }
 },
 "nbformat": 4,
 "nbformat_minor": 4
}
