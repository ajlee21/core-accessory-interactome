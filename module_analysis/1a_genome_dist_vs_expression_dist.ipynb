{
 "cells": [
  {
   "cell_type": "markdown",
   "id": "ea778dfd",
   "metadata": {},
   "source": [
    "# Relationships using genome distance vs expression distance\n",
    "\n",
    "In our attempt to label modules as \"mostly core\", \"mostly accessory\" or \"mixed\". We found that most modules were \"mixed\" and some were \"mostly accessory\". We noticed that there were many modules that had only core genes, yet were not found to be signficanlty \"mostly core\" based on our Fisher's exact test due to the small size of the modules as well as the large imbalance in the number of core:accessory genes.\n",
    "\n",
    "These small modules, which are due to operons, is biologically sensible but hard for us to apply statistics. We want to try to tease apart the co-expression relationships that are due to locations (i.e. being in the same operon) versus other functional reasons.\n",
    "\n",
    "Our strategy is the following:\n",
    "* For each accessory gene, is the 1-NN/2-NN/3-NN core or accessory? Same for core genes\n",
    "* For each accessory gene, is the highest correlated/2nd-highest correlated/3rd highest correlated gene core or accessory? Same for core genes.\n",
    "\n",
    "Then we can compare the trends seen in both"
   ]
  },
  {
   "cell_type": "code",
   "execution_count": 1,
   "id": "b172d982",
   "metadata": {},
   "outputs": [
    {
     "name": "stderr",
     "output_type": "stream",
     "text": [
      "/home/alexandra/anaconda3/envs/core_acc/lib/python3.7/site-packages/matplotlib/__init__.py:886: MatplotlibDeprecationWarning: \n",
      "examples.directory is deprecated; in the future, examples will be found relative to the 'datapath' directory.\n",
      "  \"found relative to the 'datapath' directory.\".format(key))\n"
     ]
    }
   ],
   "source": [
    "%load_ext autoreload\n",
    "%autoreload 2\n",
    "%matplotlib inline\n",
    "import os\n",
    "import random\n",
    "import scipy\n",
    "import pandas as pd\n",
    "import numpy as np\n",
    "import seaborn as sns\n",
    "import matplotlib.pyplot as plt\n",
    "from statsmodels.stats.multitest import multipletests\n",
    "from core_acc_modules import utils, paths\n",
    "\n",
    "random.seed(1)"
   ]
  },
  {
   "cell_type": "code",
   "execution_count": 2,
   "id": "252f6832",
   "metadata": {},
   "outputs": [],
   "source": [
    "# User params\n",
    "method = \"affinity\"\n",
    "offset_max = 100\n",
    "offset_to_bin = 10"
   ]
  },
  {
   "cell_type": "markdown",
   "id": "137fe447",
   "metadata": {},
   "source": [
    "### Import module memberships"
   ]
  },
  {
   "cell_type": "code",
   "execution_count": 3,
   "id": "7746c742",
   "metadata": {},
   "outputs": [],
   "source": [
    "# Import module memberships\n",
    "pao1_membership_filename = os.path.join(\n",
    "    paths.LOCAL_DATA_DIR, f\"pao1_modules_{method}.tsv\"\n",
    ")\n",
    "pa14_membership_filename = os.path.join(\n",
    "    paths.LOCAL_DATA_DIR, f\"pa14_modules_{method}.tsv\"\n",
    ")\n",
    "\n",
    "pao1_membership = pd.read_csv(pao1_membership_filename, sep=\"\\t\", index_col=0, header=0)\n",
    "pa14_membership = pd.read_csv(pa14_membership_filename, sep=\"\\t\", index_col=0, header=0)"
   ]
  },
  {
   "cell_type": "code",
   "execution_count": 4,
   "id": "e5afca81",
   "metadata": {},
   "outputs": [
    {
     "data": {
      "text/html": [
       "<div>\n",
       "<style scoped>\n",
       "    .dataframe tbody tr th:only-of-type {\n",
       "        vertical-align: middle;\n",
       "    }\n",
       "\n",
       "    .dataframe tbody tr th {\n",
       "        vertical-align: top;\n",
       "    }\n",
       "\n",
       "    .dataframe thead th {\n",
       "        text-align: right;\n",
       "    }\n",
       "</style>\n",
       "<table border=\"1\" class=\"dataframe\">\n",
       "  <thead>\n",
       "    <tr style=\"text-align: right;\">\n",
       "      <th></th>\n",
       "      <th>module id</th>\n",
       "    </tr>\n",
       "  </thead>\n",
       "  <tbody>\n",
       "    <tr>\n",
       "      <th>PA0001</th>\n",
       "      <td>415</td>\n",
       "    </tr>\n",
       "    <tr>\n",
       "      <th>PA0002</th>\n",
       "      <td>573</td>\n",
       "    </tr>\n",
       "    <tr>\n",
       "      <th>PA0003</th>\n",
       "      <td>92</td>\n",
       "    </tr>\n",
       "    <tr>\n",
       "      <th>PA0004</th>\n",
       "      <td>567</td>\n",
       "    </tr>\n",
       "    <tr>\n",
       "      <th>PA0005</th>\n",
       "      <td>0</td>\n",
       "    </tr>\n",
       "  </tbody>\n",
       "</table>\n",
       "</div>"
      ],
      "text/plain": [
       "        module id\n",
       "PA0001        415\n",
       "PA0002        573\n",
       "PA0003         92\n",
       "PA0004        567\n",
       "PA0005          0"
      ]
     },
     "execution_count": 4,
     "metadata": {},
     "output_type": "execute_result"
    }
   ],
   "source": [
    "pao1_membership.head()"
   ]
  },
  {
   "cell_type": "code",
   "execution_count": 5,
   "id": "e64a541e",
   "metadata": {},
   "outputs": [
    {
     "data": {
      "text/html": [
       "<div>\n",
       "<style scoped>\n",
       "    .dataframe tbody tr th:only-of-type {\n",
       "        vertical-align: middle;\n",
       "    }\n",
       "\n",
       "    .dataframe tbody tr th {\n",
       "        vertical-align: top;\n",
       "    }\n",
       "\n",
       "    .dataframe thead th {\n",
       "        text-align: right;\n",
       "    }\n",
       "</style>\n",
       "<table border=\"1\" class=\"dataframe\">\n",
       "  <thead>\n",
       "    <tr style=\"text-align: right;\">\n",
       "      <th></th>\n",
       "      <th>module id</th>\n",
       "    </tr>\n",
       "  </thead>\n",
       "  <tbody>\n",
       "    <tr>\n",
       "      <th>PA14_55610</th>\n",
       "      <td>3</td>\n",
       "    </tr>\n",
       "    <tr>\n",
       "      <th>PA14_55600</th>\n",
       "      <td>16</td>\n",
       "    </tr>\n",
       "    <tr>\n",
       "      <th>PA14_55590</th>\n",
       "      <td>602</td>\n",
       "    </tr>\n",
       "    <tr>\n",
       "      <th>PA14_55580</th>\n",
       "      <td>431</td>\n",
       "    </tr>\n",
       "    <tr>\n",
       "      <th>PA14_55570</th>\n",
       "      <td>46</td>\n",
       "    </tr>\n",
       "  </tbody>\n",
       "</table>\n",
       "</div>"
      ],
      "text/plain": [
       "            module id\n",
       "PA14_55610          3\n",
       "PA14_55600         16\n",
       "PA14_55590        602\n",
       "PA14_55580        431\n",
       "PA14_55570         46"
      ]
     },
     "execution_count": 5,
     "metadata": {},
     "output_type": "execute_result"
    }
   ],
   "source": [
    "pa14_membership.head()"
   ]
  },
  {
   "cell_type": "markdown",
   "id": "666b3052",
   "metadata": {},
   "source": [
    "### Map core/accessory labels to genes"
   ]
  },
  {
   "cell_type": "code",
   "execution_count": 6,
   "id": "953be866",
   "metadata": {},
   "outputs": [],
   "source": [
    "# Read in expression data\n",
    "pao1_expression_filename = paths.PAO1_COMPENDIUM\n",
    "pa14_expression_filename = paths.PA14_COMPENDIUM\n",
    "\n",
    "pao1_expression = pd.read_csv(pao1_expression_filename, sep=\"\\t\", index_col=0, header=0)\n",
    "pa14_expression = pd.read_csv(pa14_expression_filename, sep=\"\\t\", index_col=0, header=0)"
   ]
  },
  {
   "cell_type": "code",
   "execution_count": 7,
   "id": "f52e5f4e",
   "metadata": {},
   "outputs": [
    {
     "name": "stdout",
     "output_type": "stream",
     "text": [
      "Number of PAO1 core genes: 5366\n",
      "Number of PA14 core genes: 5363\n",
      "Number of PAO1 core genes in my dataset: 5361\n",
      "Number of PA14 core genes in my dataset: 5357\n",
      "Number of PAO1-specific genes: 202\n",
      "Number of PA14-specific genes: 534\n"
     ]
    }
   ],
   "source": [
    "pao1_annot_filename = paths.GENE_PAO1_ANNOT\n",
    "pa14_annot_filename = paths.GENE_PA14_ANNOT\n",
    "\n",
    "core_acc_dict = utils.get_my_core_acc_genes(\n",
    "    pao1_annot_filename, pa14_annot_filename, pao1_expression, pa14_expression\n",
    ")"
   ]
  },
  {
   "cell_type": "code",
   "execution_count": 8,
   "id": "b63056f9",
   "metadata": {},
   "outputs": [],
   "source": [
    "pao1_core = core_acc_dict[\"core_pao1\"]\n",
    "pa14_core = core_acc_dict[\"core_pa14\"]\n",
    "pao1_acc = core_acc_dict[\"acc_pao1\"]\n",
    "pa14_acc = core_acc_dict[\"acc_pa14\"]"
   ]
  },
  {
   "cell_type": "code",
   "execution_count": 9,
   "id": "e3d41094",
   "metadata": {},
   "outputs": [],
   "source": [
    "pao1_membership.loc[pao1_core, \"core/acc\"] = \"core\"\n",
    "pao1_membership.loc[pao1_acc, \"core/acc\"] = \"acc\""
   ]
  },
  {
   "cell_type": "code",
   "execution_count": 10,
   "id": "905032e8",
   "metadata": {},
   "outputs": [],
   "source": [
    "# pa14_acc_shared = set(pa14_acc).intersection(pa14_gene_module_labels.index)\n",
    "pa14_membership.loc[pa14_core, \"core/acc\"] = \"core\"\n",
    "pa14_membership.loc[pa14_acc, \"core/acc\"] = \"acc\""
   ]
  },
  {
   "cell_type": "code",
   "execution_count": 11,
   "id": "c4400e3f",
   "metadata": {},
   "outputs": [],
   "source": [
    "# Drop \"module id\" column\n",
    "pao1_arr = pao1_membership.drop(\"module id\", axis=1)\n",
    "pa14_arr = pa14_membership.drop(\"module id\", axis=1)"
   ]
  },
  {
   "cell_type": "code",
   "execution_count": 12,
   "id": "7fa2adbb",
   "metadata": {},
   "outputs": [
    {
     "data": {
      "text/html": [
       "<div>\n",
       "<style scoped>\n",
       "    .dataframe tbody tr th:only-of-type {\n",
       "        vertical-align: middle;\n",
       "    }\n",
       "\n",
       "    .dataframe tbody tr th {\n",
       "        vertical-align: top;\n",
       "    }\n",
       "\n",
       "    .dataframe thead th {\n",
       "        text-align: right;\n",
       "    }\n",
       "</style>\n",
       "<table border=\"1\" class=\"dataframe\">\n",
       "  <thead>\n",
       "    <tr style=\"text-align: right;\">\n",
       "      <th></th>\n",
       "      <th>core/acc</th>\n",
       "    </tr>\n",
       "  </thead>\n",
       "  <tbody>\n",
       "    <tr>\n",
       "      <th>PA0001</th>\n",
       "      <td>core</td>\n",
       "    </tr>\n",
       "    <tr>\n",
       "      <th>PA0002</th>\n",
       "      <td>core</td>\n",
       "    </tr>\n",
       "    <tr>\n",
       "      <th>PA0003</th>\n",
       "      <td>core</td>\n",
       "    </tr>\n",
       "    <tr>\n",
       "      <th>PA0004</th>\n",
       "      <td>core</td>\n",
       "    </tr>\n",
       "    <tr>\n",
       "      <th>PA0005</th>\n",
       "      <td>core</td>\n",
       "    </tr>\n",
       "  </tbody>\n",
       "</table>\n",
       "</div>"
      ],
      "text/plain": [
       "       core/acc\n",
       "PA0001     core\n",
       "PA0002     core\n",
       "PA0003     core\n",
       "PA0004     core\n",
       "PA0005     core"
      ]
     },
     "execution_count": 12,
     "metadata": {},
     "output_type": "execute_result"
    }
   ],
   "source": [
    "pao1_arr.head()"
   ]
  },
  {
   "cell_type": "code",
   "execution_count": 13,
   "id": "b1feb9a4",
   "metadata": {},
   "outputs": [
    {
     "data": {
      "text/html": [
       "<div>\n",
       "<style scoped>\n",
       "    .dataframe tbody tr th:only-of-type {\n",
       "        vertical-align: middle;\n",
       "    }\n",
       "\n",
       "    .dataframe tbody tr th {\n",
       "        vertical-align: top;\n",
       "    }\n",
       "\n",
       "    .dataframe thead th {\n",
       "        text-align: right;\n",
       "    }\n",
       "</style>\n",
       "<table border=\"1\" class=\"dataframe\">\n",
       "  <thead>\n",
       "    <tr style=\"text-align: right;\">\n",
       "      <th></th>\n",
       "      <th>core/acc</th>\n",
       "    </tr>\n",
       "  </thead>\n",
       "  <tbody>\n",
       "    <tr>\n",
       "      <th>PA14_55610</th>\n",
       "      <td>core</td>\n",
       "    </tr>\n",
       "    <tr>\n",
       "      <th>PA14_55600</th>\n",
       "      <td>core</td>\n",
       "    </tr>\n",
       "    <tr>\n",
       "      <th>PA14_55590</th>\n",
       "      <td>core</td>\n",
       "    </tr>\n",
       "    <tr>\n",
       "      <th>PA14_55580</th>\n",
       "      <td>core</td>\n",
       "    </tr>\n",
       "    <tr>\n",
       "      <th>PA14_55570</th>\n",
       "      <td>core</td>\n",
       "    </tr>\n",
       "  </tbody>\n",
       "</table>\n",
       "</div>"
      ],
      "text/plain": [
       "           core/acc\n",
       "PA14_55610     core\n",
       "PA14_55600     core\n",
       "PA14_55590     core\n",
       "PA14_55580     core\n",
       "PA14_55570     core"
      ]
     },
     "execution_count": 13,
     "metadata": {},
     "output_type": "execute_result"
    }
   ],
   "source": [
    "pa14_arr.head()"
   ]
  },
  {
   "cell_type": "markdown",
   "id": "6b92fe62",
   "metadata": {},
   "source": [
    "## Find relationships using genome distance"
   ]
  },
  {
   "cell_type": "code",
   "execution_count": 14,
   "id": "c7747559",
   "metadata": {},
   "outputs": [],
   "source": [
    "def get_relationship_in_genome_space(core_acc_df, offset_max, offset_to_bin):\n",
    "    gene_type_start = [\"acc\", \"core\"]\n",
    "    gene_type_compare = [\"acc\", \"core\"]\n",
    "\n",
    "    core_acc_df_pad = np.pad(\n",
    "        core_acc_df[\"core/acc\"], offset_max, \"constant\", constant_values=\"NA\"\n",
    "    )\n",
    "    core_acc_df_len = len(core_acc_df)\n",
    "    rows = []\n",
    "\n",
    "    for gene_start in gene_type_start:\n",
    "        for gene_compare in gene_type_compare:\n",
    "            for offset in range(1, offset_max + 1):\n",
    "                # Print statements to understand what is happening\n",
    "                # Here we are comparing our core/....\n",
    "                # print(gene_start)\n",
    "                # print(gene_compare)\n",
    "                # print(pao1_arr_pad[offset_max:pao1_arr_len])\n",
    "                # print(pao1_arr_pad[offset_max-offset:pao1_arr_len-offset])\n",
    "                counts = (\n",
    "                    (core_acc_df_pad[offset_max:core_acc_df_len] == gene_start)\n",
    "                    & (\n",
    "                        core_acc_df_pad[offset_max - offset : core_acc_df_len - offset]\n",
    "                        == gene_compare\n",
    "                    )\n",
    "                ).sum() + (\n",
    "                    (core_acc_df_pad[offset_max:core_acc_df_len] == gene_start)\n",
    "                    & (\n",
    "                        core_acc_df_pad[offset_max + offset : core_acc_df_len + offset]\n",
    "                        == gene_compare\n",
    "                    )\n",
    "                ).sum()\n",
    "                rows.append(\n",
    "                    {\n",
    "                        \"gene start\": gene_start,\n",
    "                        \"gene compare\": gene_compare,\n",
    "                        \"offset\": offset,\n",
    "                        \"total\": counts,\n",
    "                    }\n",
    "                )\n",
    "\n",
    "    genome_dist_counts = pd.DataFrame(rows)\n",
    "\n",
    "    # Bin distances above offset_to_bin\n",
    "    long_dist = (\n",
    "        genome_dist_counts.query(\"offset>@offset_to_bin\")\n",
    "        .groupby([\"gene compare\", \"gene start\"])[\"total\"]\n",
    "        .mean()\n",
    "        .reset_index()\n",
    "    )\n",
    "    long_dist[\"offset\"] = f\"{offset_to_bin}+\"\n",
    "    genome_dist_counts = genome_dist_counts.query(\"offset<=10\").append(\n",
    "        long_dist, ignore_index=True\n",
    "    )\n",
    "\n",
    "    return genome_dist_counts"
   ]
  },
  {
   "cell_type": "code",
   "execution_count": 15,
   "id": "c2d6eabc",
   "metadata": {},
   "outputs": [
    {
     "name": "stderr",
     "output_type": "stream",
     "text": [
      "/home/alexandra/anaconda3/envs/core_acc/lib/python3.7/site-packages/pandas/core/frame.py:6692: FutureWarning: Sorting because non-concatenation axis is not aligned. A future version\n",
      "of pandas will change to not sort by default.\n",
      "\n",
      "To accept the future behavior, pass 'sort=False'.\n",
      "\n",
      "To retain the current behavior and silence the warning, pass 'sort=True'.\n",
      "\n",
      "  sort=sort)\n"
     ]
    }
   ],
   "source": [
    "genome_dist_counts_pao1 = get_relationship_in_genome_space(\n",
    "    pao1_arr, offset_max, offset_to_bin\n",
    ")\n",
    "genome_dist_counts_pa14 = get_relationship_in_genome_space(\n",
    "    pa14_arr, offset_max, offset_to_bin\n",
    ")"
   ]
  },
  {
   "cell_type": "code",
   "execution_count": 20,
   "id": "02d6bd84",
   "metadata": {},
   "outputs": [
    {
     "data": {
      "text/html": [
       "<div>\n",
       "<style scoped>\n",
       "    .dataframe tbody tr th:only-of-type {\n",
       "        vertical-align: middle;\n",
       "    }\n",
       "\n",
       "    .dataframe tbody tr th {\n",
       "        vertical-align: top;\n",
       "    }\n",
       "\n",
       "    .dataframe thead th {\n",
       "        text-align: right;\n",
       "    }\n",
       "</style>\n",
       "<table border=\"1\" class=\"dataframe\">\n",
       "  <thead>\n",
       "    <tr style=\"text-align: right;\">\n",
       "      <th></th>\n",
       "      <th>gene compare</th>\n",
       "      <th>gene start</th>\n",
       "      <th>offset</th>\n",
       "      <th>total</th>\n",
       "    </tr>\n",
       "  </thead>\n",
       "  <tbody>\n",
       "    <tr>\n",
       "      <th>0</th>\n",
       "      <td>acc</td>\n",
       "      <td>acc</td>\n",
       "      <td>1</td>\n",
       "      <td>226.0</td>\n",
       "    </tr>\n",
       "    <tr>\n",
       "      <th>1</th>\n",
       "      <td>acc</td>\n",
       "      <td>acc</td>\n",
       "      <td>2</td>\n",
       "      <td>186.0</td>\n",
       "    </tr>\n",
       "    <tr>\n",
       "      <th>2</th>\n",
       "      <td>acc</td>\n",
       "      <td>acc</td>\n",
       "      <td>3</td>\n",
       "      <td>146.0</td>\n",
       "    </tr>\n",
       "    <tr>\n",
       "      <th>3</th>\n",
       "      <td>acc</td>\n",
       "      <td>acc</td>\n",
       "      <td>4</td>\n",
       "      <td>128.0</td>\n",
       "    </tr>\n",
       "    <tr>\n",
       "      <th>4</th>\n",
       "      <td>acc</td>\n",
       "      <td>acc</td>\n",
       "      <td>5</td>\n",
       "      <td>100.0</td>\n",
       "    </tr>\n",
       "  </tbody>\n",
       "</table>\n",
       "</div>"
      ],
      "text/plain": [
       "  gene compare gene start offset  total\n",
       "0          acc        acc      1  226.0\n",
       "1          acc        acc      2  186.0\n",
       "2          acc        acc      3  146.0\n",
       "3          acc        acc      4  128.0\n",
       "4          acc        acc      5  100.0"
      ]
     },
     "execution_count": 20,
     "metadata": {},
     "output_type": "execute_result"
    }
   ],
   "source": [
    "genome_dist_counts_pao1.head()"
   ]
  },
  {
   "cell_type": "code",
   "execution_count": 21,
   "id": "dc24d409",
   "metadata": {},
   "outputs": [
    {
     "data": {
      "text/html": [
       "<div>\n",
       "<style scoped>\n",
       "    .dataframe tbody tr th:only-of-type {\n",
       "        vertical-align: middle;\n",
       "    }\n",
       "\n",
       "    .dataframe tbody tr th {\n",
       "        vertical-align: top;\n",
       "    }\n",
       "\n",
       "    .dataframe thead th {\n",
       "        text-align: right;\n",
       "    }\n",
       "</style>\n",
       "<table border=\"1\" class=\"dataframe\">\n",
       "  <thead>\n",
       "    <tr style=\"text-align: right;\">\n",
       "      <th></th>\n",
       "      <th>gene compare</th>\n",
       "      <th>gene start</th>\n",
       "      <th>offset</th>\n",
       "      <th>total</th>\n",
       "    </tr>\n",
       "  </thead>\n",
       "  <tbody>\n",
       "    <tr>\n",
       "      <th>0</th>\n",
       "      <td>acc</td>\n",
       "      <td>acc</td>\n",
       "      <td>1</td>\n",
       "      <td>696.0</td>\n",
       "    </tr>\n",
       "    <tr>\n",
       "      <th>1</th>\n",
       "      <td>acc</td>\n",
       "      <td>acc</td>\n",
       "      <td>2</td>\n",
       "      <td>626.0</td>\n",
       "    </tr>\n",
       "    <tr>\n",
       "      <th>2</th>\n",
       "      <td>acc</td>\n",
       "      <td>acc</td>\n",
       "      <td>3</td>\n",
       "      <td>586.0</td>\n",
       "    </tr>\n",
       "    <tr>\n",
       "      <th>3</th>\n",
       "      <td>acc</td>\n",
       "      <td>acc</td>\n",
       "      <td>4</td>\n",
       "      <td>546.0</td>\n",
       "    </tr>\n",
       "    <tr>\n",
       "      <th>4</th>\n",
       "      <td>acc</td>\n",
       "      <td>acc</td>\n",
       "      <td>5</td>\n",
       "      <td>508.0</td>\n",
       "    </tr>\n",
       "  </tbody>\n",
       "</table>\n",
       "</div>"
      ],
      "text/plain": [
       "  gene compare gene start offset  total\n",
       "0          acc        acc      1  696.0\n",
       "1          acc        acc      2  626.0\n",
       "2          acc        acc      3  586.0\n",
       "3          acc        acc      4  546.0\n",
       "4          acc        acc      5  508.0"
      ]
     },
     "execution_count": 21,
     "metadata": {},
     "output_type": "execute_result"
    }
   ],
   "source": [
    "genome_dist_counts_pa14.head()"
   ]
  },
  {
   "cell_type": "markdown",
   "id": "e405385c",
   "metadata": {},
   "source": [
    "### Plot"
   ]
  },
  {
   "cell_type": "code",
   "execution_count": 16,
   "id": "ad8dadcb",
   "metadata": {},
   "outputs": [
    {
     "data": {
      "text/plain": [
       "Text(0.5, 0, 'Offset in genome space')"
      ]
     },
     "execution_count": 16,
     "metadata": {},
     "output_type": "execute_result"
    },
    {
     "data": {
      "image/png": "[encoded data removed]",
      "text/plain": [
       "<Figure size 432x288 with 1 Axes>"
      ]
     },
     "metadata": {
      "needs_background": "light"
     },
     "output_type": "display_data"
    }
   ],
   "source": [
    "sns.barplot(\n",
    "    data=genome_dist_counts_pao1[genome_dist_counts_pao1[\"gene start\"] == \"acc\"],\n",
    "    x=\"offset\",\n",
    "    y=\"total\",\n",
    "    hue=\"gene compare\",\n",
    ")\n",
    "plt.title(\"Starting with accessory gene PAO1\")\n",
    "plt.ylabel(\"Number of genes\")\n",
    "plt.xlabel(\"Offset in genome space\")"
   ]
  },
  {
   "cell_type": "code",
   "execution_count": 17,
   "id": "679db0d6",
   "metadata": {},
   "outputs": [
    {
     "data": {
      "text/plain": [
       "Text(0.5, 0, 'Offset in genome space')"
      ]
     },
     "execution_count": 17,
     "metadata": {},
     "output_type": "execute_result"
    },
    {
     "data": {
      "image/png": "[encoded data removed]",
      "text/plain": [
       "<Figure size 432x288 with 1 Axes>"
      ]
     },
     "metadata": {
      "needs_background": "light"
     },
     "output_type": "display_data"
    }
   ],
   "source": [
    "sns.barplot(\n",
    "    data=genome_dist_counts_pao1[genome_dist_counts_pao1[\"gene start\"] == \"core\"],\n",
    "    x=\"offset\",\n",
    "    y=\"total\",\n",
    "    hue=\"gene compare\",\n",
    ")\n",
    "plt.title(\"Starting with core gene PAO1\")\n",
    "plt.ylabel(\"Number of genes\")\n",
    "plt.xlabel(\"Offset in genome space\")"
   ]
  },
  {
   "cell_type": "code",
   "execution_count": 18,
   "id": "31e206ee",
   "metadata": {},
   "outputs": [
    {
     "data": {
      "text/plain": [
       "Text(0.5, 0, 'Offset in genome space')"
      ]
     },
     "execution_count": 18,
     "metadata": {},
     "output_type": "execute_result"
    },
    {
     "data": {
      "image/png": "[encoded data removed]",
      "text/plain": [
       "<Figure size 432x288 with 1 Axes>"
      ]
     },
     "metadata": {
      "needs_background": "light"
     },
     "output_type": "display_data"
    }
   ],
   "source": [
    "sns.barplot(\n",
    "    data=genome_dist_counts_pa14[genome_dist_counts_pa14[\"gene start\"] == \"acc\"],\n",
    "    x=\"offset\",\n",
    "    y=\"total\",\n",
    "    hue=\"gene compare\",\n",
    ")\n",
    "plt.title(\"Starting with accessory gene PA14\")\n",
    "plt.ylabel(\"Number of genes\")\n",
    "plt.xlabel(\"Offset in genome space\")"
   ]
  },
  {
   "cell_type": "code",
   "execution_count": 19,
   "id": "121f2ae4",
   "metadata": {},
   "outputs": [
    {
     "data": {
      "text/plain": [
       "Text(0.5, 0, 'Offset in genome space')"
      ]
     },
     "execution_count": 19,
     "metadata": {},
     "output_type": "execute_result"
    },
    {
     "data": {
      "image/png": "[encoded data removed]",
      "text/plain": [
       "<Figure size 432x288 with 1 Axes>"
      ]
     },
     "metadata": {
      "needs_background": "light"
     },
     "output_type": "display_data"
    }
   ],
   "source": [
    "sns.barplot(\n",
    "    data=genome_dist_counts_pa14[genome_dist_counts_pa14[\"gene start\"] == \"core\"],\n",
    "    x=\"offset\",\n",
    "    y=\"total\",\n",
    "    hue=\"gene compare\",\n",
    ")\n",
    "plt.title(\"Starting with core gene PA14\")\n",
    "plt.ylabel(\"Number of genes\")\n",
    "plt.xlabel(\"Offset in genome space\")"
   ]
  },
  {
   "cell_type": "markdown",
   "id": "f6ff6b78",
   "metadata": {},
   "source": [
    "**Takeaway:**\n",
    "* Accessory genes are clustered together on the genome, which is known.\n",
    "* Starting with a core gene, at any distance you find many core genes because there are so many core genes"
   ]
  }
 ],
 "metadata": {
  "jupytext": {
   "encoding": "# -*- coding: utf-8 -*-",
   "formats": "ipynb,py"
  },
  "kernelspec": {
   "display_name": "Python [conda env:core_acc] *",
   "language": "python",
   "name": "conda-env-core_acc-py"
  },
  "language_info": {
   "codemirror_mode": {
    "name": "ipython",
    "version": 3
   },
   "file_extension": ".py",
   "mimetype": "text/x-python",
   "name": "python",
   "nbconvert_exporter": "python",
   "pygments_lexer": "ipython3",
   "version": "3.7.10"
  }
 },
 "nbformat": 4,
 "nbformat_minor": 5
}
