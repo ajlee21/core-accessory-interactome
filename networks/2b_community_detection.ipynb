{
 "cells": [
  {
   "cell_type": "markdown",
   "id": "78ec1554",
   "metadata": {},
   "source": [
    "# Network community detection\n",
    "\n",
    "This notebook performs community detection approaches to identify network modules."
   ]
  },
  {
   "cell_type": "code",
   "execution_count": 1,
   "id": "1bf9faf3",
   "metadata": {},
   "outputs": [],
   "source": [
    "import os\n",
    "import random\n",
    "\n",
    "import numpy as np\n",
    "import pandas as pd\n",
    "import igraph as ig\n",
    "from core_acc_modules import paths"
   ]
  },
  {
   "cell_type": "code",
   "execution_count": 2,
   "id": "b8ebe2e6",
   "metadata": {},
   "outputs": [],
   "source": [
    "# User params\n",
    "\n",
    "# Choices = [\"fastgreedy\", \"walktrap\", \"louvain\", \"infomap\"]\n",
    "method = \"fastgreedy\"\n",
    "\n",
    "# TO DO: params for different methods to adjust\n",
    "# steps for walktrap\n",
    "# trails for infomap"
   ]
  },
  {
   "cell_type": "code",
   "execution_count": 3,
   "id": "6b08d716",
   "metadata": {},
   "outputs": [],
   "source": [
    "# Load correlation matrix --> which correlation matrix to use?\n",
    "pao1_pearson_mat_filename = os.path.join(paths.LOCAL_DATA_DIR, \"pao1_pearson_mat.tsv\")\n",
    "pa14_pearson_mat_filename = os.path.join(paths.LOCAL_DATA_DIR, \"pa14_pearson_mat.tsv\")\n",
    "\n",
    "# Take abs of correlation scores\n",
    "# In this case we care about the strength and not the direction\n",
    "pao1_corr = pd.read_csv(\n",
    "    pao1_pearson_mat_filename, sep=\"\\t\", index_col=0, header=0\n",
    ").abs()\n",
    "pa14_corr = pd.read_csv(\n",
    "    pa14_pearson_mat_filename, sep=\"\\t\", index_col=0, header=0\n",
    ").abs()"
   ]
  },
  {
   "cell_type": "code",
   "execution_count": 4,
   "id": "25613003",
   "metadata": {},
   "outputs": [
    {
     "data": {
      "text/html": [
       "<div>\n",
       "<style scoped>\n",
       "    .dataframe tbody tr th:only-of-type {\n",
       "        vertical-align: middle;\n",
       "    }\n",
       "\n",
       "    .dataframe tbody tr th {\n",
       "        vertical-align: top;\n",
       "    }\n",
       "\n",
       "    .dataframe thead th {\n",
       "        text-align: right;\n",
       "    }\n",
       "</style>\n",
       "<table border=\"1\" class=\"dataframe\">\n",
       "  <thead>\n",
       "    <tr style=\"text-align: right;\">\n",
       "      <th></th>\n",
       "      <th>PA0001</th>\n",
       "      <th>PA0002</th>\n",
       "      <th>PA0003</th>\n",
       "      <th>PA0004</th>\n",
       "      <th>PA0005</th>\n",
       "      <th>PA0006</th>\n",
       "      <th>PA0007</th>\n",
       "      <th>PA0008</th>\n",
       "      <th>PA0009</th>\n",
       "      <th>PA0010</th>\n",
       "      <th>...</th>\n",
       "      <th>PA1905</th>\n",
       "      <th>PA0195</th>\n",
       "      <th>PA4812</th>\n",
       "      <th>PA0195.1</th>\n",
       "      <th>PA0457.1</th>\n",
       "      <th>PA1552.1</th>\n",
       "      <th>PA1555.1</th>\n",
       "      <th>PA3701</th>\n",
       "      <th>PA4724.1</th>\n",
       "      <th>PA5471.1</th>\n",
       "    </tr>\n",
       "  </thead>\n",
       "  <tbody>\n",
       "    <tr>\n",
       "      <th>PA0001</th>\n",
       "      <td>1.000000</td>\n",
       "      <td>0.463956</td>\n",
       "      <td>0.569484</td>\n",
       "      <td>0.351438</td>\n",
       "      <td>0.245083</td>\n",
       "      <td>0.082922</td>\n",
       "      <td>0.237419</td>\n",
       "      <td>0.327681</td>\n",
       "      <td>0.611781</td>\n",
       "      <td>0.053683</td>\n",
       "      <td>...</td>\n",
       "      <td>0.143054</td>\n",
       "      <td>0.067547</td>\n",
       "      <td>0.046884</td>\n",
       "      <td>0.115943</td>\n",
       "      <td>0.095939</td>\n",
       "      <td>0.137961</td>\n",
       "      <td>0.123254</td>\n",
       "      <td>0.413492</td>\n",
       "      <td>0.017787</td>\n",
       "      <td>0.044556</td>\n",
       "    </tr>\n",
       "    <tr>\n",
       "      <th>PA0002</th>\n",
       "      <td>0.463956</td>\n",
       "      <td>1.000000</td>\n",
       "      <td>0.252376</td>\n",
       "      <td>0.748150</td>\n",
       "      <td>0.165336</td>\n",
       "      <td>0.064989</td>\n",
       "      <td>0.223772</td>\n",
       "      <td>0.474954</td>\n",
       "      <td>0.404363</td>\n",
       "      <td>0.091208</td>\n",
       "      <td>...</td>\n",
       "      <td>0.049508</td>\n",
       "      <td>0.029025</td>\n",
       "      <td>0.068886</td>\n",
       "      <td>0.066085</td>\n",
       "      <td>0.081798</td>\n",
       "      <td>0.364207</td>\n",
       "      <td>0.230212</td>\n",
       "      <td>0.295833</td>\n",
       "      <td>0.003284</td>\n",
       "      <td>0.026462</td>\n",
       "    </tr>\n",
       "    <tr>\n",
       "      <th>PA0003</th>\n",
       "      <td>0.569484</td>\n",
       "      <td>0.252376</td>\n",
       "      <td>1.000000</td>\n",
       "      <td>0.370005</td>\n",
       "      <td>0.231063</td>\n",
       "      <td>0.305920</td>\n",
       "      <td>0.227813</td>\n",
       "      <td>0.226757</td>\n",
       "      <td>0.414430</td>\n",
       "      <td>0.044911</td>\n",
       "      <td>...</td>\n",
       "      <td>0.161805</td>\n",
       "      <td>0.105521</td>\n",
       "      <td>0.058363</td>\n",
       "      <td>0.032366</td>\n",
       "      <td>0.118532</td>\n",
       "      <td>0.204444</td>\n",
       "      <td>0.136097</td>\n",
       "      <td>0.330368</td>\n",
       "      <td>0.000470</td>\n",
       "      <td>0.053666</td>\n",
       "    </tr>\n",
       "    <tr>\n",
       "      <th>PA0004</th>\n",
       "      <td>0.351438</td>\n",
       "      <td>0.748150</td>\n",
       "      <td>0.370005</td>\n",
       "      <td>1.000000</td>\n",
       "      <td>0.178458</td>\n",
       "      <td>0.013829</td>\n",
       "      <td>0.289639</td>\n",
       "      <td>0.519269</td>\n",
       "      <td>0.406310</td>\n",
       "      <td>0.039080</td>\n",
       "      <td>...</td>\n",
       "      <td>0.141347</td>\n",
       "      <td>0.146768</td>\n",
       "      <td>0.188109</td>\n",
       "      <td>0.079627</td>\n",
       "      <td>0.004548</td>\n",
       "      <td>0.385017</td>\n",
       "      <td>0.265849</td>\n",
       "      <td>0.248906</td>\n",
       "      <td>0.068307</td>\n",
       "      <td>0.074792</td>\n",
       "    </tr>\n",
       "    <tr>\n",
       "      <th>PA0005</th>\n",
       "      <td>0.245083</td>\n",
       "      <td>0.165336</td>\n",
       "      <td>0.231063</td>\n",
       "      <td>0.178458</td>\n",
       "      <td>1.000000</td>\n",
       "      <td>0.494013</td>\n",
       "      <td>0.054159</td>\n",
       "      <td>0.548067</td>\n",
       "      <td>0.458342</td>\n",
       "      <td>0.600835</td>\n",
       "      <td>...</td>\n",
       "      <td>0.028263</td>\n",
       "      <td>0.156724</td>\n",
       "      <td>0.147440</td>\n",
       "      <td>0.288880</td>\n",
       "      <td>0.274439</td>\n",
       "      <td>0.158833</td>\n",
       "      <td>0.076657</td>\n",
       "      <td>0.376051</td>\n",
       "      <td>0.323167</td>\n",
       "      <td>0.055236</td>\n",
       "    </tr>\n",
       "  </tbody>\n",
       "</table>\n",
       "<p>5 rows × 5563 columns</p>\n",
       "</div>"
      ],
      "text/plain": [
       "          PA0001    PA0002    PA0003    PA0004    PA0005    PA0006    PA0007  \\\n",
       "PA0001  1.000000  0.463956  0.569484  0.351438  0.245083  0.082922  0.237419   \n",
       "PA0002  0.463956  1.000000  0.252376  0.748150  0.165336  0.064989  0.223772   \n",
       "PA0003  0.569484  0.252376  1.000000  0.370005  0.231063  0.305920  0.227813   \n",
       "PA0004  0.351438  0.748150  0.370005  1.000000  0.178458  0.013829  0.289639   \n",
       "PA0005  0.245083  0.165336  0.231063  0.178458  1.000000  0.494013  0.054159   \n",
       "\n",
       "          PA0008    PA0009    PA0010  ...    PA1905    PA0195    PA4812  \\\n",
       "PA0001  0.327681  0.611781  0.053683  ...  0.143054  0.067547  0.046884   \n",
       "PA0002  0.474954  0.404363  0.091208  ...  0.049508  0.029025  0.068886   \n",
       "PA0003  0.226757  0.414430  0.044911  ...  0.161805  0.105521  0.058363   \n",
       "PA0004  0.519269  0.406310  0.039080  ...  0.141347  0.146768  0.188109   \n",
       "PA0005  0.548067  0.458342  0.600835  ...  0.028263  0.156724  0.147440   \n",
       "\n",
       "        PA0195.1  PA0457.1  PA1552.1  PA1555.1    PA3701  PA4724.1  PA5471.1  \n",
       "PA0001  0.115943  0.095939  0.137961  0.123254  0.413492  0.017787  0.044556  \n",
       "PA0002  0.066085  0.081798  0.364207  0.230212  0.295833  0.003284  0.026462  \n",
       "PA0003  0.032366  0.118532  0.204444  0.136097  0.330368  0.000470  0.053666  \n",
       "PA0004  0.079627  0.004548  0.385017  0.265849  0.248906  0.068307  0.074792  \n",
       "PA0005  0.288880  0.274439  0.158833  0.076657  0.376051  0.323167  0.055236  \n",
       "\n",
       "[5 rows x 5563 columns]"
      ]
     },
     "execution_count": 4,
     "metadata": {},
     "output_type": "execute_result"
    }
   ],
   "source": [
    "pao1_corr.head()"
   ]
  },
  {
   "cell_type": "code",
   "execution_count": 5,
   "id": "1e5c8810",
   "metadata": {},
   "outputs": [],
   "source": [
    "# Format correlation matrix into graph (i.e. dataframe with edge weight per pair of genes)\n",
    "# The dataframe should have columns: from, to, weight\n",
    "pao1_corr_graph = pao1_corr.stack().reset_index()\n",
    "pao1_corr_graph.columns = [\"from\", \"to\", \"weight\"]\n",
    "\n",
    "pa14_corr_graph = pa14_corr.stack().reset_index()\n",
    "pa14_corr_graph.columns = [\"from\", \"to\", \"weight\"]"
   ]
  },
  {
   "cell_type": "code",
   "execution_count": 6,
   "id": "237621db",
   "metadata": {},
   "outputs": [],
   "source": [
    "# Drop duplicate rows since correlation matrix is symmetric\n",
    "pao1_corr_graph = pao1_corr_graph.drop_duplicates()\n",
    "pa14_corr_graph = pa14_corr_graph.drop_duplicates()"
   ]
  },
  {
   "cell_type": "code",
   "execution_count": 7,
   "id": "16ab2750",
   "metadata": {
    "scrolled": true
   },
   "outputs": [],
   "source": [
    "# Drop gene loops\n",
    "# Note 'query' not working for some reason\n",
    "pao1_corr_graph = pao1_corr_graph[pao1_corr_graph[\"from\"] != pao1_corr_graph[\"to\"]]\n",
    "pa14_corr_graph = pa14_corr_graph[pa14_corr_graph[\"from\"] != pa14_corr_graph[\"to\"]]"
   ]
  },
  {
   "cell_type": "code",
   "execution_count": 8,
   "id": "ee56db58",
   "metadata": {},
   "outputs": [
    {
     "data": {
      "text/html": [
       "<div>\n",
       "<style scoped>\n",
       "    .dataframe tbody tr th:only-of-type {\n",
       "        vertical-align: middle;\n",
       "    }\n",
       "\n",
       "    .dataframe tbody tr th {\n",
       "        vertical-align: top;\n",
       "    }\n",
       "\n",
       "    .dataframe thead th {\n",
       "        text-align: right;\n",
       "    }\n",
       "</style>\n",
       "<table border=\"1\" class=\"dataframe\">\n",
       "  <thead>\n",
       "    <tr style=\"text-align: right;\">\n",
       "      <th></th>\n",
       "      <th>from</th>\n",
       "      <th>to</th>\n",
       "      <th>weight</th>\n",
       "    </tr>\n",
       "  </thead>\n",
       "  <tbody>\n",
       "    <tr>\n",
       "      <th>1</th>\n",
       "      <td>PA0001</td>\n",
       "      <td>PA0002</td>\n",
       "      <td>0.463956</td>\n",
       "    </tr>\n",
       "    <tr>\n",
       "      <th>2</th>\n",
       "      <td>PA0001</td>\n",
       "      <td>PA0003</td>\n",
       "      <td>0.569484</td>\n",
       "    </tr>\n",
       "    <tr>\n",
       "      <th>3</th>\n",
       "      <td>PA0001</td>\n",
       "      <td>PA0004</td>\n",
       "      <td>0.351438</td>\n",
       "    </tr>\n",
       "    <tr>\n",
       "      <th>4</th>\n",
       "      <td>PA0001</td>\n",
       "      <td>PA0005</td>\n",
       "      <td>0.245083</td>\n",
       "    </tr>\n",
       "    <tr>\n",
       "      <th>5</th>\n",
       "      <td>PA0001</td>\n",
       "      <td>PA0006</td>\n",
       "      <td>0.082922</td>\n",
       "    </tr>\n",
       "  </tbody>\n",
       "</table>\n",
       "</div>"
      ],
      "text/plain": [
       "     from      to    weight\n",
       "1  PA0001  PA0002  0.463956\n",
       "2  PA0001  PA0003  0.569484\n",
       "3  PA0001  PA0004  0.351438\n",
       "4  PA0001  PA0005  0.245083\n",
       "5  PA0001  PA0006  0.082922"
      ]
     },
     "execution_count": 8,
     "metadata": {},
     "output_type": "execute_result"
    }
   ],
   "source": [
    "pao1_corr_graph.head()"
   ]
  },
  {
   "cell_type": "code",
   "execution_count": 9,
   "id": "08d859ec",
   "metadata": {},
   "outputs": [],
   "source": [
    "# Make into a graph object\n",
    "pao1_G = ig.Graph.TupleList(pao1_corr_graph.values, weights=True, directed=False)\n",
    "pa14_G = ig.Graph.TupleList(pa14_corr_graph.values, weights=True, directed=False)"
   ]
  },
  {
   "cell_type": "code",
   "execution_count": 10,
   "id": "9ff02448",
   "metadata": {},
   "outputs": [
    {
     "name": "stdout",
     "output_type": "stream",
     "text": [
      "[0.4639558317118624, 0.569483925217973, 0.35143796014186435, 0.2450826281625292, 0.0829218006019242]\n"
     ]
    }
   ],
   "source": [
    "# make sure vertex/edge properties exist\n",
    "print(pao1_G.es[\"weight\"][:5])"
   ]
  },
  {
   "cell_type": "code",
   "execution_count": 11,
   "id": "71e8e105",
   "metadata": {},
   "outputs": [],
   "source": [
    "# TO DO: Add label for core, accessory gene"
   ]
  },
  {
   "cell_type": "markdown",
   "id": "a54bb254",
   "metadata": {},
   "source": [
    "## Community detection"
   ]
  },
  {
   "cell_type": "markdown",
   "id": "8d571e9d",
   "metadata": {},
   "source": [
    "### Fast-greedy\n",
    "This algorithm starts from a completely unclustered set of nodes and iteratively adds communities such that the modularity (score maximizing within edges and minimizing between edges) is maximized until no additional improvement can be made.\n",
    "\n",
    "**What is this simplification step doing?**\n",
    "This is removing multiple edges and loops -- how???"
   ]
  },
  {
   "cell_type": "code",
   "execution_count": 12,
   "id": "a116caac",
   "metadata": {},
   "outputs": [
    {
     "ename": "KeyError",
     "evalue": "'Attribute does not exist'",
     "output_type": "error",
     "traceback": [
      "\u001b[0;31m---------------------------------------------------------------------------\u001b[0m",
      "\u001b[0;31mKeyError\u001b[0m                                  Traceback (most recent call last)",
      "\u001b[0;32m<ipython-input-12-4460714ff64a>\u001b[0m in \u001b[0;36m<module>\u001b[0;34m\u001b[0m\n\u001b[1;32m      1\u001b[0m \u001b[0;32mif\u001b[0m \u001b[0mmethod\u001b[0m \u001b[0;34m==\u001b[0m \u001b[0;34m\"fastgreedy\"\u001b[0m\u001b[0;34m:\u001b[0m\u001b[0;34m\u001b[0m\u001b[0;34m\u001b[0m\u001b[0m\n\u001b[0;32m----> 2\u001b[0;31m     \u001b[0mpao1_partition\u001b[0m \u001b[0;34m=\u001b[0m \u001b[0mpao1_G\u001b[0m\u001b[0;34m.\u001b[0m\u001b[0msimplify\u001b[0m\u001b[0;34m(\u001b[0m\u001b[0;34m)\u001b[0m\u001b[0;34m.\u001b[0m\u001b[0mcommunity_fastgreedy\u001b[0m\u001b[0;34m(\u001b[0m\u001b[0mweights\u001b[0m\u001b[0;34m=\u001b[0m\u001b[0mpao1_G\u001b[0m\u001b[0;34m.\u001b[0m\u001b[0mes\u001b[0m\u001b[0;34m[\u001b[0m\u001b[0;34m\"weight\"\u001b[0m\u001b[0;34m]\u001b[0m\u001b[0;34m)\u001b[0m\u001b[0;34m\u001b[0m\u001b[0;34m\u001b[0m\u001b[0m\n\u001b[0m\u001b[1;32m      3\u001b[0m     \u001b[0mpa14_partition\u001b[0m \u001b[0;34m=\u001b[0m \u001b[0mpao1_G\u001b[0m\u001b[0;34m.\u001b[0m\u001b[0msimplify\u001b[0m\u001b[0;34m(\u001b[0m\u001b[0;34m)\u001b[0m\u001b[0;34m.\u001b[0m\u001b[0mcommunity_fastgreedy\u001b[0m\u001b[0;34m(\u001b[0m\u001b[0mweights\u001b[0m\u001b[0;34m=\u001b[0m\u001b[0mpa14_G\u001b[0m\u001b[0;34m.\u001b[0m\u001b[0mes\u001b[0m\u001b[0;34m[\u001b[0m\u001b[0;34m\"weight\"\u001b[0m\u001b[0;34m]\u001b[0m\u001b[0;34m)\u001b[0m\u001b[0;34m\u001b[0m\u001b[0;34m\u001b[0m\u001b[0m\n",
      "\u001b[0;31mKeyError\u001b[0m: 'Attribute does not exist'"
     ]
    }
   ],
   "source": [
    "if method == \"fastgreedy\":\n",
    "    pao1_partition = pao1_G.simplify().community_fastgreedy(weights=pao1_G.es[\"weight\"])\n",
    "    pa14_partition = pao1_G.simplify().community_fastgreedy(weights=pa14_G.es[\"weight\"])"
   ]
  },
  {
   "cell_type": "code",
   "execution_count": null,
   "id": "5f0ed764",
   "metadata": {},
   "outputs": [],
   "source": [
    "# Error at fast_community.c:553: fast-greedy community finding works only on graphs without multiple edges, Invalid value"
   ]
  },
  {
   "cell_type": "markdown",
   "id": "b7e2cf6b",
   "metadata": {},
   "source": [
    "### Walktrap\n",
    "This algorithm performs random walks using a specified step size. Where densely connected areas occur, the random walk becomes “trapped” in local regions that then define communities\n"
   ]
  },
  {
   "cell_type": "code",
   "execution_count": null,
   "id": "83291858",
   "metadata": {},
   "outputs": [],
   "source": [
    "if method == \"walktrap\":\n",
    "    pao1_partition = pao1_G.community_walktrap(weights=pao1_G.es[\"weight\"])\n",
    "    pa14_partition = pa14_G.community_walktrap(weights=pao1_G.es[\"weight\"])"
   ]
  },
  {
   "cell_type": "markdown",
   "id": "a0bea93f",
   "metadata": {},
   "source": [
    "### Multilevel\n",
    "This algorithm is similar to fastgreedy, but it merges communities to optimize modularity based upon only the neighboring communities as opposed to all communities. The algorithm terminates when only a single node is left, or when the improvement in modularity cannot result from the simple merge of two neighboring communities. (Louvain clustering)"
   ]
  },
  {
   "cell_type": "code",
   "execution_count": null,
   "id": "cedd8015",
   "metadata": {},
   "outputs": [],
   "source": [
    "if method == \"louvain\":\n",
    "    pao1_partition = pao1_G.community_multilevel(\n",
    "        weights=pao1_G.es[\"weight\"], return_levels=False\n",
    "    )\n",
    "    pa14_partition = pa14_G.community_multilevel(\n",
    "        weights=pao1_G.es[\"weight\"], return_levels=False\n",
    "    )"
   ]
  },
  {
   "cell_type": "markdown",
   "id": "706485ab",
   "metadata": {},
   "source": [
    "### Infomap\n",
    "This algorithm uses the probability flow of information in random walks, which occurs more readily in groups of heavily connected nodes. Thus, information about network structure can be compressed in maps of modules (nodes where information travels quickly)\n"
   ]
  },
  {
   "cell_type": "code",
   "execution_count": null,
   "id": "e0d49b9d",
   "metadata": {},
   "outputs": [],
   "source": [
    "if method == \"infomap\":\n",
    "    pao1_partition = pao1_G.community_infomap(edge_weights=pao1_G.es[\"weight\"])\n",
    "    pa14_partition = pa14_G.community_infomap(edge_weights=pao1_G.es[\"weight\"])"
   ]
  },
  {
   "cell_type": "markdown",
   "id": "9d3d1468",
   "metadata": {},
   "source": [
    "## Get membership"
   ]
  },
  {
   "cell_type": "code",
   "execution_count": null,
   "id": "d96191bf",
   "metadata": {},
   "outputs": [],
   "source": [
    "# get dataframe mapping Pa genes to communities\n",
    "def graph_partition_to_df(G, partition):\n",
    "    clusters = []\n",
    "    for label, vl in enumerate(partition):\n",
    "        clusters += [(G.vs[\"name\"][v], label, G.degree(v)) for v in vl]\n",
    "    return pd.DataFrame(clusters, columns=[\"gene\", \"module id\", \"degree\"])"
   ]
  },
  {
   "cell_type": "code",
   "execution_count": null,
   "id": "55ebee9d",
   "metadata": {},
   "outputs": [],
   "source": [
    "pao1_membership_df = graph_partition_to_df(pao1_G, pao1_partition)\n",
    "print(len(pao1_membership_df[\"module id\"].unique()))\n",
    "pao1_membership_df.sort_values(by=\"degree\", ascending=False).head()"
   ]
  },
  {
   "cell_type": "code",
   "execution_count": null,
   "id": "42441d73",
   "metadata": {},
   "outputs": [],
   "source": [
    "pa14_membership_df = graph_partition_to_df(pa14_G, pa14_partition)\n",
    "print(len(pa14_membership_df[\"module id\"].unique()))\n",
    "pa14_membership_df.sort_values(by=\"degree\", ascending=False).head()"
   ]
  },
  {
   "cell_type": "code",
   "execution_count": null,
   "id": "47fd2ba5",
   "metadata": {},
   "outputs": [],
   "source": [
    "# Save\n",
    "# Save membership dataframe\n",
    "pao1_membership_filename = os.path.join(\n",
    "    paths.LOCAL_DATA_DIR, f\"pao1_modules_{method}.tsv\"\n",
    ")\n",
    "pa14_membership_filename = os.path.join(\n",
    "    paths.LOCAL_DATA_DIR, f\"pa14_modules_{method}.tsv\"\n",
    ")\n",
    "pao1_membership_df.to_csv(pao1_membership_filename, sep=\"\\t\")\n",
    "pa14_membership_df.to_csv(pa14_membership_filename, sep=\"\\t\")"
   ]
  }
 ],
 "metadata": {
  "jupytext": {
   "formats": "ipynb,py"
  },
  "kernelspec": {
   "display_name": "Python [conda env:core_acc] *",
   "language": "python",
   "name": "conda-env-core_acc-py"
  },
  "language_info": {
   "codemirror_mode": {
    "name": "ipython",
    "version": 3
   },
   "file_extension": ".py",
   "mimetype": "text/x-python",
   "name": "python",
   "nbconvert_exporter": "python",
   "pygments_lexer": "ipython3",
   "version": "3.7.10"
  }
 },
 "nbformat": 4,
 "nbformat_minor": 5
}
